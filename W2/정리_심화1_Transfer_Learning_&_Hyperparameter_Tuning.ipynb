{
 "cells": [
  {
   "cell_type": "code",
   "execution_count": 1,
   "id": "b0dcdbc9",
   "metadata": {},
   "outputs": [],
   "source": [
    "import torchvision\n",
    "import torch\n",
    "import numpy as np\n",
    "import matplotlib.pyplot as plt\n",
    "import math\n",
    "from tqdm.notebook import tqdm\n",
    "# 반복문의 진행상황을 보여줌\n",
    "# wrap any iterable with tqdm(iterable)"
   ]
  },
  {
   "cell_type": "markdown",
   "id": "caf56409",
   "metadata": {},
   "source": [
    "### mnist_resnet18 (untrained model)"
   ]
  },
  {
   "cell_type": "code",
   "execution_count": 2,
   "id": "3f987cca",
   "metadata": {},
   "outputs": [],
   "source": [
    "# MNIST를 학습할 ResNet18 model (pretrained=False)\n",
    "\n",
    "mnist_resnet18 = torchvision.models.resnet18(pretrained=False)"
   ]
  },
  {
   "cell_type": "code",
   "execution_count": 3,
   "id": "42830e0e",
   "metadata": {
    "scrolled": false
   },
   "outputs": [
    {
     "data": {
      "text/plain": [
       "ResNet(\n",
       "  (conv1): Conv2d(3, 64, kernel_size=(7, 7), stride=(2, 2), padding=(3, 3), bias=False)\n",
       "  (bn1): BatchNorm2d(64, eps=1e-05, momentum=0.1, affine=True, track_running_stats=True)\n",
       "  (relu): ReLU(inplace=True)\n",
       "  (maxpool): MaxPool2d(kernel_size=3, stride=2, padding=1, dilation=1, ceil_mode=False)\n",
       "  (layer1): Sequential(\n",
       "    (0): BasicBlock(\n",
       "      (conv1): Conv2d(64, 64, kernel_size=(3, 3), stride=(1, 1), padding=(1, 1), bias=False)\n",
       "      (bn1): BatchNorm2d(64, eps=1e-05, momentum=0.1, affine=True, track_running_stats=True)\n",
       "      (relu): ReLU(inplace=True)\n",
       "      (conv2): Conv2d(64, 64, kernel_size=(3, 3), stride=(1, 1), padding=(1, 1), bias=False)\n",
       "      (bn2): BatchNorm2d(64, eps=1e-05, momentum=0.1, affine=True, track_running_stats=True)\n",
       "    )\n",
       "    (1): BasicBlock(\n",
       "      (conv1): Conv2d(64, 64, kernel_size=(3, 3), stride=(1, 1), padding=(1, 1), bias=False)\n",
       "      (bn1): BatchNorm2d(64, eps=1e-05, momentum=0.1, affine=True, track_running_stats=True)\n",
       "      (relu): ReLU(inplace=True)\n",
       "      (conv2): Conv2d(64, 64, kernel_size=(3, 3), stride=(1, 1), padding=(1, 1), bias=False)\n",
       "      (bn2): BatchNorm2d(64, eps=1e-05, momentum=0.1, affine=True, track_running_stats=True)\n",
       "    )\n",
       "  )\n",
       "  (layer2): Sequential(\n",
       "    (0): BasicBlock(\n",
       "      (conv1): Conv2d(64, 128, kernel_size=(3, 3), stride=(2, 2), padding=(1, 1), bias=False)\n",
       "      (bn1): BatchNorm2d(128, eps=1e-05, momentum=0.1, affine=True, track_running_stats=True)\n",
       "      (relu): ReLU(inplace=True)\n",
       "      (conv2): Conv2d(128, 128, kernel_size=(3, 3), stride=(1, 1), padding=(1, 1), bias=False)\n",
       "      (bn2): BatchNorm2d(128, eps=1e-05, momentum=0.1, affine=True, track_running_stats=True)\n",
       "      (downsample): Sequential(\n",
       "        (0): Conv2d(64, 128, kernel_size=(1, 1), stride=(2, 2), bias=False)\n",
       "        (1): BatchNorm2d(128, eps=1e-05, momentum=0.1, affine=True, track_running_stats=True)\n",
       "      )\n",
       "    )\n",
       "    (1): BasicBlock(\n",
       "      (conv1): Conv2d(128, 128, kernel_size=(3, 3), stride=(1, 1), padding=(1, 1), bias=False)\n",
       "      (bn1): BatchNorm2d(128, eps=1e-05, momentum=0.1, affine=True, track_running_stats=True)\n",
       "      (relu): ReLU(inplace=True)\n",
       "      (conv2): Conv2d(128, 128, kernel_size=(3, 3), stride=(1, 1), padding=(1, 1), bias=False)\n",
       "      (bn2): BatchNorm2d(128, eps=1e-05, momentum=0.1, affine=True, track_running_stats=True)\n",
       "    )\n",
       "  )\n",
       "  (layer3): Sequential(\n",
       "    (0): BasicBlock(\n",
       "      (conv1): Conv2d(128, 256, kernel_size=(3, 3), stride=(2, 2), padding=(1, 1), bias=False)\n",
       "      (bn1): BatchNorm2d(256, eps=1e-05, momentum=0.1, affine=True, track_running_stats=True)\n",
       "      (relu): ReLU(inplace=True)\n",
       "      (conv2): Conv2d(256, 256, kernel_size=(3, 3), stride=(1, 1), padding=(1, 1), bias=False)\n",
       "      (bn2): BatchNorm2d(256, eps=1e-05, momentum=0.1, affine=True, track_running_stats=True)\n",
       "      (downsample): Sequential(\n",
       "        (0): Conv2d(128, 256, kernel_size=(1, 1), stride=(2, 2), bias=False)\n",
       "        (1): BatchNorm2d(256, eps=1e-05, momentum=0.1, affine=True, track_running_stats=True)\n",
       "      )\n",
       "    )\n",
       "    (1): BasicBlock(\n",
       "      (conv1): Conv2d(256, 256, kernel_size=(3, 3), stride=(1, 1), padding=(1, 1), bias=False)\n",
       "      (bn1): BatchNorm2d(256, eps=1e-05, momentum=0.1, affine=True, track_running_stats=True)\n",
       "      (relu): ReLU(inplace=True)\n",
       "      (conv2): Conv2d(256, 256, kernel_size=(3, 3), stride=(1, 1), padding=(1, 1), bias=False)\n",
       "      (bn2): BatchNorm2d(256, eps=1e-05, momentum=0.1, affine=True, track_running_stats=True)\n",
       "    )\n",
       "  )\n",
       "  (layer4): Sequential(\n",
       "    (0): BasicBlock(\n",
       "      (conv1): Conv2d(256, 512, kernel_size=(3, 3), stride=(2, 2), padding=(1, 1), bias=False)\n",
       "      (bn1): BatchNorm2d(512, eps=1e-05, momentum=0.1, affine=True, track_running_stats=True)\n",
       "      (relu): ReLU(inplace=True)\n",
       "      (conv2): Conv2d(512, 512, kernel_size=(3, 3), stride=(1, 1), padding=(1, 1), bias=False)\n",
       "      (bn2): BatchNorm2d(512, eps=1e-05, momentum=0.1, affine=True, track_running_stats=True)\n",
       "      (downsample): Sequential(\n",
       "        (0): Conv2d(256, 512, kernel_size=(1, 1), stride=(2, 2), bias=False)\n",
       "        (1): BatchNorm2d(512, eps=1e-05, momentum=0.1, affine=True, track_running_stats=True)\n",
       "      )\n",
       "    )\n",
       "    (1): BasicBlock(\n",
       "      (conv1): Conv2d(512, 512, kernel_size=(3, 3), stride=(1, 1), padding=(1, 1), bias=False)\n",
       "      (bn1): BatchNorm2d(512, eps=1e-05, momentum=0.1, affine=True, track_running_stats=True)\n",
       "      (relu): ReLU(inplace=True)\n",
       "      (conv2): Conv2d(512, 512, kernel_size=(3, 3), stride=(1, 1), padding=(1, 1), bias=False)\n",
       "      (bn2): BatchNorm2d(512, eps=1e-05, momentum=0.1, affine=True, track_running_stats=True)\n",
       "    )\n",
       "  )\n",
       "  (avgpool): AdaptiveAvgPool2d(output_size=(1, 1))\n",
       "  (fc): Linear(in_features=512, out_features=1000, bias=True)\n",
       ")"
      ]
     },
     "execution_count": 3,
     "metadata": {},
     "output_type": "execute_result"
    }
   ],
   "source": [
    "mnist_resnet18"
   ]
  },
  {
   "cell_type": "code",
   "execution_count": 4,
   "id": "52c5959f",
   "metadata": {
    "scrolled": true
   },
   "outputs": [
    {
     "name": "stdout",
     "output_type": "stream",
     "text": [
      "3\n",
      "1000\n"
     ]
    }
   ],
   "source": [
    "# input channel dimension\n",
    "print(mnist_resnet18.conv1.weight.shape[1])\n",
    "# output channel dimension (prediction classes)\n",
    "print(mnist_resnet18.fc.weight.shape[0])"
   ]
  },
  {
   "cell_type": "markdown",
   "id": "4ba06289",
   "metadata": {},
   "source": [
    "### Modifying mnist_resnet18\n",
    "\n",
    "fully-connected layer channel: 1000 -> 10"
   ]
  },
  {
   "cell_type": "code",
   "execution_count": 5,
   "id": "806e2945",
   "metadata": {},
   "outputs": [
    {
     "name": "stdout",
     "output_type": "stream",
     "text": [
      "3\n",
      "10\n"
     ]
    }
   ],
   "source": [
    "MNIST_CLASS_NUM = 10\n",
    "\n",
    "# fully-connected layer의 out_features를 1000에서 10으로 바꿈\n",
    "mnist_resnet18.fc = torch.nn.Linear(in_features=512, out_features=MNIST_CLASS_NUM, bias=True)\n",
    "# 새로 바뀐 fc layer를 xavier uniform으로 initialization\n",
    "torch.nn.init.xavier_uniform_(mnist_resnet18.fc.weight)\n",
    "stdv = 1. / math.sqrt(mnist_resnet18.fc.weight.size(1))\n",
    "mnist_resnet18.fc.bias.data.uniform_(-stdv, stdv)\n",
    "\n",
    "# input channel dimension\n",
    "print(mnist_resnet18.conv1.weight.shape[1])\n",
    "# output channel dimension (prediction classes)\n",
    "print(mnist_resnet18.fc.weight.shape[0])"
   ]
  },
  {
   "cell_type": "markdown",
   "id": "1e5037b2",
   "metadata": {},
   "source": [
    "### MNIST dataset"
   ]
  },
  {
   "cell_type": "code",
   "execution_count": 6,
   "id": "1693fa97",
   "metadata": {},
   "outputs": [],
   "source": [
    "mnist_train = torchvision.datasets.MNIST(root='./mnist', train=True, download=True)\n",
    "mnist_test = torchvision.datasets.MNIST(root='./mnist', train=False, download=True)"
   ]
  },
  {
   "cell_type": "code",
   "execution_count": 7,
   "id": "309be629",
   "metadata": {},
   "outputs": [
    {
     "name": "stdout",
     "output_type": "stream",
     "text": [
      "4\n"
     ]
    },
    {
     "data": {
      "image/png": "[encoded data removed]",
      "text/plain": [
       "<Figure size 432x288 with 1 Axes>"
      ]
     },
     "metadata": {
      "needs_background": "light"
     },
     "output_type": "display_data"
    }
   ],
   "source": [
    "IMAGE_INDEX = 2\n",
    "plt.imshow(mnist_train[IMAGE_INDEX][0])\n",
    "\n",
    "print(mnist_train[IMAGE_INDEX][1])"
   ]
  },
  {
   "cell_type": "markdown",
   "id": "88d6a351",
   "metadata": {},
   "source": [
    "### MNIST dataset transformed"
   ]
  },
  {
   "cell_type": "code",
   "execution_count": 8,
   "id": "b32dd293",
   "metadata": {},
   "outputs": [
    {
     "name": "stdout",
     "output_type": "stream",
     "text": [
      "<class 'PIL.Image.Image'>\n",
      "(28, 28)\n",
      "<class 'torch.Tensor'>\n",
      "(3, 28, 28)\n"
     ]
    }
   ],
   "source": [
    "# torchvision.datasets.mnist의 데이터타입은 PIL Image.\n",
    "# torch.Tensor로 변경해줘야.\n",
    "print(type(mnist_train[0][0]))\n",
    "# 데이터는 channel이 1개 (grayscale).\n",
    "# 모델은 3개.\n",
    "print(np.array(mnist_train[0][0]).shape)\n",
    "\n",
    "# grayscale의 1채널 영상을 3채널로 확장함.\n",
    "# PIL Image를 torch.Tensor로 변경함.\n",
    "common_transform = torchvision.transforms.Compose([\n",
    "    torchvision.transforms.Grayscale(num_output_channels=3),\n",
    "    torchvision.transforms.ToTensor()\n",
    "])\n",
    "\n",
    "# transform 적용\n",
    "mnist_train_transformed = torchvision.datasets.MNIST(root='./mnist', train=True, download=True, transform=common_transform)\n",
    "mnist_test_transformed = torchvision.datasets.MNIST(root='./mnist', train=False, download=True, transform=common_transform)\n",
    "\n",
    "print(type(mnist_train_transformed[0][0]))\n",
    "print(np.array(mnist_train_transformed[0][0]).shape)"
   ]
  },
  {
   "cell_type": "markdown",
   "id": "82f4ff83",
   "metadata": {},
   "source": [
    "### dataloader"
   ]
  },
  {
   "cell_type": "code",
   "execution_count": 9,
   "id": "cbfabc52",
   "metadata": {},
   "outputs": [],
   "source": [
    "BATCH_SIZE = 64\n",
    "# should be num_workers=2, but it gives warning\n",
    "# num_workers=0 kills parallel computing, but gets rid of the warning\n",
    "mnist_train_dataloader = torch.utils.data.DataLoader(mnist_train_transformed, batch_size=BATCH_SIZE, shuffle=True, num_workers=0)\n",
    "mnist_test_dataloader = torch.utils.data.DataLoader(mnist_test_transformed, batch_size=BATCH_SIZE, shuffle=False, num_workers=0)\n",
    "\n",
    "dataloaders = {'train': mnist_train_dataloader, \n",
    "               'test': mnist_test_dataloader}"
   ]
  },
  {
   "cell_type": "markdown",
   "id": "42927240",
   "metadata": {},
   "source": [
    "### device, lr, loss_fn, optimizer"
   ]
  },
  {
   "cell_type": "code",
   "execution_count": 10,
   "id": "901f176b",
   "metadata": {},
   "outputs": [
    {
     "name": "stdout",
     "output_type": "stream",
     "text": [
      "cpu\n"
     ]
    }
   ],
   "source": [
    "device = torch.device('cuda:0' if torch.cuda.is_available() else 'cpu')\n",
    "print(device)\n",
    "mnist_resnet18.to(device)\n",
    "\n",
    "LEARNING_RATE = 0.0001\n",
    "\n",
    "NUM_EPOCH = 5\n",
    "\n",
    "# loss function is cross-entropy loss\n",
    "loss_fn = torch.nn.CrossEntropyLoss()\n",
    "\n",
    "# optimizer 결정함. 모델의 파라미터와 lr 지정해줘야.\n",
    "optimizer = torch.optim.Adam(mnist_resnet18.parameters(), lr=LEARNING_RATE)"
   ]
  },
  {
   "cell_type": "markdown",
   "id": "3823fa6a",
   "metadata": {},
   "source": [
    "### Train and test \n",
    "\n",
    "`model.train()`\n",
    "`model.eval()`"
   ]
  },
  {
   "cell_type": "code",
   "execution_count": 11,
   "id": "e6bfb330",
   "metadata": {},
   "outputs": [
    {
     "data": {
      "application/vnd.jupyter.widget-view+json": {
       "model_id": "7d2804c50ad84fbc860249d7b8ff7329",
       "version_major": 2,
       "version_minor": 0
      },
      "text/plain": [
       "  0%|          | 0/938 [00:00<?, ?it/s]"
      ]
     },
     "metadata": {},
     "output_type": "display_data"
    },
    {
     "name": "stdout",
     "output_type": "stream",
     "text": [
      "Epoch: 0, Phase: train, Average Loss: 0.190, Average Accuracy: 0.941\n"
     ]
    },
    {
     "data": {
      "application/vnd.jupyter.widget-view+json": {
       "model_id": "5a2e08dcaf464c15853c2dcadd31654e",
       "version_major": 2,
       "version_minor": 0
      },
      "text/plain": [
       "  0%|          | 0/157 [00:00<?, ?it/s]"
      ]
     },
     "metadata": {},
     "output_type": "display_data"
    },
    {
     "name": "stdout",
     "output_type": "stream",
     "text": [
      "Epoch: 0, Phase: test, Average Loss: 0.069, Average Accuracy: 0.978\n"
     ]
    },
    {
     "data": {
      "application/vnd.jupyter.widget-view+json": {
       "model_id": "5b774ec3ce0741c8bc0735f3646a7682",
       "version_major": 2,
       "version_minor": 0
      },
      "text/plain": [
       "  0%|          | 0/938 [00:00<?, ?it/s]"
      ]
     },
     "metadata": {},
     "output_type": "display_data"
    },
    {
     "name": "stdout",
     "output_type": "stream",
     "text": [
      "Epoch: 1, Phase: train, Average Loss: 0.057, Average Accuracy: 0.982\n"
     ]
    },
    {
     "data": {
      "application/vnd.jupyter.widget-view+json": {
       "model_id": "a2ef29a7174b404c92f3b89ad7876566",
       "version_major": 2,
       "version_minor": 0
      },
      "text/plain": [
       "  0%|          | 0/157 [00:00<?, ?it/s]"
      ]
     },
     "metadata": {},
     "output_type": "display_data"
    },
    {
     "name": "stdout",
     "output_type": "stream",
     "text": [
      "Epoch: 1, Phase: test, Average Loss: 0.060, Average Accuracy: 0.981\n"
     ]
    },
    {
     "data": {
      "application/vnd.jupyter.widget-view+json": {
       "model_id": "b63bdcbf31324253acf70c03cce0c5ec",
       "version_major": 2,
       "version_minor": 0
      },
      "text/plain": [
       "  0%|          | 0/938 [00:00<?, ?it/s]"
      ]
     },
     "metadata": {},
     "output_type": "display_data"
    },
    {
     "name": "stdout",
     "output_type": "stream",
     "text": [
      "Epoch: 2, Phase: train, Average Loss: 0.040, Average Accuracy: 0.987\n"
     ]
    },
    {
     "data": {
      "application/vnd.jupyter.widget-view+json": {
       "model_id": "fb07de26b4084b39adeb3f23966e8971",
       "version_major": 2,
       "version_minor": 0
      },
      "text/plain": [
       "  0%|          | 0/157 [00:00<?, ?it/s]"
      ]
     },
     "metadata": {},
     "output_type": "display_data"
    },
    {
     "name": "stdout",
     "output_type": "stream",
     "text": [
      "Epoch: 2, Phase: test, Average Loss: 0.051, Average Accuracy: 0.984\n"
     ]
    },
    {
     "data": {
      "application/vnd.jupyter.widget-view+json": {
       "model_id": "6f416daaaffa4748a608069012273040",
       "version_major": 2,
       "version_minor": 0
      },
      "text/plain": [
       "  0%|          | 0/938 [00:00<?, ?it/s]"
      ]
     },
     "metadata": {},
     "output_type": "display_data"
    },
    {
     "name": "stdout",
     "output_type": "stream",
     "text": [
      "Epoch: 3, Phase: train, Average Loss: 0.034, Average Accuracy: 0.989\n"
     ]
    },
    {
     "data": {
      "application/vnd.jupyter.widget-view+json": {
       "model_id": "6a658210ac4e44879f6443a7f6a29b84",
       "version_major": 2,
       "version_minor": 0
      },
      "text/plain": [
       "  0%|          | 0/157 [00:00<?, ?it/s]"
      ]
     },
     "metadata": {},
     "output_type": "display_data"
    },
    {
     "name": "stdout",
     "output_type": "stream",
     "text": [
      "Epoch: 3, Phase: test, Average Loss: 0.043, Average Accuracy: 0.986\n"
     ]
    },
    {
     "data": {
      "application/vnd.jupyter.widget-view+json": {
       "model_id": "e14151df8fe74902a74102dd6e7da12e",
       "version_major": 2,
       "version_minor": 0
      },
      "text/plain": [
       "  0%|          | 0/938 [00:00<?, ?it/s]"
      ]
     },
     "metadata": {},
     "output_type": "display_data"
    },
    {
     "name": "stdout",
     "output_type": "stream",
     "text": [
      "Epoch: 4, Phase: train, Average Loss: 0.028, Average Accuracy: 0.991\n"
     ]
    },
    {
     "data": {
      "application/vnd.jupyter.widget-view+json": {
       "model_id": "fcb5f5c6b86d4b44b847ab7d3226067d",
       "version_major": 2,
       "version_minor": 0
      },
      "text/plain": [
       "  0%|          | 0/157 [00:00<?, ?it/s]"
      ]
     },
     "metadata": {},
     "output_type": "display_data"
    },
    {
     "name": "stdout",
     "output_type": "stream",
     "text": [
      "Epoch: 4, Phase: test, Average Loss: 0.041, Average Accuracy: 0.987\n",
      "Best Accuracy: 0.9873999953269958, Best Loss: 0.04104293988384306\n"
     ]
    }
   ],
   "source": [
    "best_test_accuracy = 0.\n",
    "best_test_loss = 9999.\n",
    "\n",
    "for epoch in range(NUM_EPOCH):\n",
    "    for phase in ['train', 'test']:\n",
    "        \n",
    "        running_loss = 0.\n",
    "        running_acc = 0.\n",
    "        \n",
    "        if phase=='train':\n",
    "            mnist_resnet18.train()\n",
    "        elif phase=='test':\n",
    "            mnist_resnet18.eval()\n",
    "            \n",
    "        for ind, (images, labels) in enumerate(tqdm(dataloaders[phase])):\n",
    "            images = images.to(device)\n",
    "            labels = labels.to(device)\n",
    "            \n",
    "            # initialize gradients\n",
    "            optimizer.zero_grad()\n",
    "            \n",
    "            # train 모드일 시에는 gradient를 계산하고, \n",
    "            # 아닐 때는 gradient를 계산하지 않아 연산량 최소화\n",
    "            with torch.set_grad_enabled(phase=='train'):\n",
    "                \n",
    "                # yhat\n",
    "                logits = mnist_resnet18(images)\n",
    "                \n",
    "                # 모델에서 linear 값으로 나오는 예측 값 ([0.9,1.2, 3.2,0.1,-0.1,...])을 \n",
    "                # 최대 output index를 찾아 예측 레이블([2])로 변경함\n",
    "                # ???\n",
    "                _, preds = torch.max(logits, 1)\n",
    "                \n",
    "                loss = loss_fn(logits, labels)\n",
    "                \n",
    "                if phase=='train':\n",
    "                    loss.backward() # gradient 계산\n",
    "                    optimizer.step() # parameter update\n",
    "            \n",
    "            # 한 batch에서의 loss값 저장\n",
    "            running_loss += loss.item() * images.size(0)\n",
    "            # 한 batch에서의 accuracy값 저장\n",
    "            running_acc += torch.sum(preds == labels.data)\n",
    "            \n",
    "        epoch_loss = running_loss / len(dataloaders[phase].dataset)\n",
    "        epoch_acc = running_acc / len(dataloaders[phase].dataset)\n",
    "        \n",
    "        print(f'Epoch: {epoch}, Phase: {phase}, Average Loss: {epoch_loss:.3f}, Average Accuracy: {epoch_acc:.3f}')\n",
    "        \n",
    "        if phase=='test' and best_test_accuracy < epoch_acc:\n",
    "            best_test_accuracy = epoch_acc\n",
    "        if phase=='test' and best_test_loss > epoch_loss:\n",
    "            best_test_loss = epoch_loss\n",
    "            \n",
    "print(f'Best Accuracy: {best_test_accuracy}, Best Loss: {best_test_loss}')\n",
    "                "
   ]
  },
  {
   "cell_type": "markdown",
   "id": "91a0ebca",
   "metadata": {},
   "source": [
    "# Transfer Learning"
   ]
  },
  {
   "cell_type": "markdown",
   "id": "a91897f1",
   "metadata": {},
   "source": [
    "### fashion_resnet18 (pretrained model)"
   ]
  },
  {
   "cell_type": "code",
   "execution_count": 12,
   "id": "7579aa88",
   "metadata": {},
   "outputs": [],
   "source": [
    "# Fashion-MNIST를 학습할 ResNet18 model (pretrained=True)\n",
    "\n",
    "fashion_resnet18 = torchvision.models.resnet18(pretrained=True)"
   ]
  },
  {
   "cell_type": "code",
   "execution_count": 13,
   "id": "df4d548c",
   "metadata": {
    "scrolled": false
   },
   "outputs": [
    {
     "data": {
      "text/plain": [
       "ResNet(\n",
       "  (conv1): Conv2d(3, 64, kernel_size=(7, 7), stride=(2, 2), padding=(3, 3), bias=False)\n",
       "  (bn1): BatchNorm2d(64, eps=1e-05, momentum=0.1, affine=True, track_running_stats=True)\n",
       "  (relu): ReLU(inplace=True)\n",
       "  (maxpool): MaxPool2d(kernel_size=3, stride=2, padding=1, dilation=1, ceil_mode=False)\n",
       "  (layer1): Sequential(\n",
       "    (0): BasicBlock(\n",
       "      (conv1): Conv2d(64, 64, kernel_size=(3, 3), stride=(1, 1), padding=(1, 1), bias=False)\n",
       "      (bn1): BatchNorm2d(64, eps=1e-05, momentum=0.1, affine=True, track_running_stats=True)\n",
       "      (relu): ReLU(inplace=True)\n",
       "      (conv2): Conv2d(64, 64, kernel_size=(3, 3), stride=(1, 1), padding=(1, 1), bias=False)\n",
       "      (bn2): BatchNorm2d(64, eps=1e-05, momentum=0.1, affine=True, track_running_stats=True)\n",
       "    )\n",
       "    (1): BasicBlock(\n",
       "      (conv1): Conv2d(64, 64, kernel_size=(3, 3), stride=(1, 1), padding=(1, 1), bias=False)\n",
       "      (bn1): BatchNorm2d(64, eps=1e-05, momentum=0.1, affine=True, track_running_stats=True)\n",
       "      (relu): ReLU(inplace=True)\n",
       "      (conv2): Conv2d(64, 64, kernel_size=(3, 3), stride=(1, 1), padding=(1, 1), bias=False)\n",
       "      (bn2): BatchNorm2d(64, eps=1e-05, momentum=0.1, affine=True, track_running_stats=True)\n",
       "    )\n",
       "  )\n",
       "  (layer2): Sequential(\n",
       "    (0): BasicBlock(\n",
       "      (conv1): Conv2d(64, 128, kernel_size=(3, 3), stride=(2, 2), padding=(1, 1), bias=False)\n",
       "      (bn1): BatchNorm2d(128, eps=1e-05, momentum=0.1, affine=True, track_running_stats=True)\n",
       "      (relu): ReLU(inplace=True)\n",
       "      (conv2): Conv2d(128, 128, kernel_size=(3, 3), stride=(1, 1), padding=(1, 1), bias=False)\n",
       "      (bn2): BatchNorm2d(128, eps=1e-05, momentum=0.1, affine=True, track_running_stats=True)\n",
       "      (downsample): Sequential(\n",
       "        (0): Conv2d(64, 128, kernel_size=(1, 1), stride=(2, 2), bias=False)\n",
       "        (1): BatchNorm2d(128, eps=1e-05, momentum=0.1, affine=True, track_running_stats=True)\n",
       "      )\n",
       "    )\n",
       "    (1): BasicBlock(\n",
       "      (conv1): Conv2d(128, 128, kernel_size=(3, 3), stride=(1, 1), padding=(1, 1), bias=False)\n",
       "      (bn1): BatchNorm2d(128, eps=1e-05, momentum=0.1, affine=True, track_running_stats=True)\n",
       "      (relu): ReLU(inplace=True)\n",
       "      (conv2): Conv2d(128, 128, kernel_size=(3, 3), stride=(1, 1), padding=(1, 1), bias=False)\n",
       "      (bn2): BatchNorm2d(128, eps=1e-05, momentum=0.1, affine=True, track_running_stats=True)\n",
       "    )\n",
       "  )\n",
       "  (layer3): Sequential(\n",
       "    (0): BasicBlock(\n",
       "      (conv1): Conv2d(128, 256, kernel_size=(3, 3), stride=(2, 2), padding=(1, 1), bias=False)\n",
       "      (bn1): BatchNorm2d(256, eps=1e-05, momentum=0.1, affine=True, track_running_stats=True)\n",
       "      (relu): ReLU(inplace=True)\n",
       "      (conv2): Conv2d(256, 256, kernel_size=(3, 3), stride=(1, 1), padding=(1, 1), bias=False)\n",
       "      (bn2): BatchNorm2d(256, eps=1e-05, momentum=0.1, affine=True, track_running_stats=True)\n",
       "      (downsample): Sequential(\n",
       "        (0): Conv2d(128, 256, kernel_size=(1, 1), stride=(2, 2), bias=False)\n",
       "        (1): BatchNorm2d(256, eps=1e-05, momentum=0.1, affine=True, track_running_stats=True)\n",
       "      )\n",
       "    )\n",
       "    (1): BasicBlock(\n",
       "      (conv1): Conv2d(256, 256, kernel_size=(3, 3), stride=(1, 1), padding=(1, 1), bias=False)\n",
       "      (bn1): BatchNorm2d(256, eps=1e-05, momentum=0.1, affine=True, track_running_stats=True)\n",
       "      (relu): ReLU(inplace=True)\n",
       "      (conv2): Conv2d(256, 256, kernel_size=(3, 3), stride=(1, 1), padding=(1, 1), bias=False)\n",
       "      (bn2): BatchNorm2d(256, eps=1e-05, momentum=0.1, affine=True, track_running_stats=True)\n",
       "    )\n",
       "  )\n",
       "  (layer4): Sequential(\n",
       "    (0): BasicBlock(\n",
       "      (conv1): Conv2d(256, 512, kernel_size=(3, 3), stride=(2, 2), padding=(1, 1), bias=False)\n",
       "      (bn1): BatchNorm2d(512, eps=1e-05, momentum=0.1, affine=True, track_running_stats=True)\n",
       "      (relu): ReLU(inplace=True)\n",
       "      (conv2): Conv2d(512, 512, kernel_size=(3, 3), stride=(1, 1), padding=(1, 1), bias=False)\n",
       "      (bn2): BatchNorm2d(512, eps=1e-05, momentum=0.1, affine=True, track_running_stats=True)\n",
       "      (downsample): Sequential(\n",
       "        (0): Conv2d(256, 512, kernel_size=(1, 1), stride=(2, 2), bias=False)\n",
       "        (1): BatchNorm2d(512, eps=1e-05, momentum=0.1, affine=True, track_running_stats=True)\n",
       "      )\n",
       "    )\n",
       "    (1): BasicBlock(\n",
       "      (conv1): Conv2d(512, 512, kernel_size=(3, 3), stride=(1, 1), padding=(1, 1), bias=False)\n",
       "      (bn1): BatchNorm2d(512, eps=1e-05, momentum=0.1, affine=True, track_running_stats=True)\n",
       "      (relu): ReLU(inplace=True)\n",
       "      (conv2): Conv2d(512, 512, kernel_size=(3, 3), stride=(1, 1), padding=(1, 1), bias=False)\n",
       "      (bn2): BatchNorm2d(512, eps=1e-05, momentum=0.1, affine=True, track_running_stats=True)\n",
       "    )\n",
       "  )\n",
       "  (avgpool): AdaptiveAvgPool2d(output_size=(1, 1))\n",
       "  (fc): Linear(in_features=512, out_features=1000, bias=True)\n",
       ")"
      ]
     },
     "execution_count": 13,
     "metadata": {},
     "output_type": "execute_result"
    }
   ],
   "source": [
    "fashion_resnet18"
   ]
  },
  {
   "cell_type": "code",
   "execution_count": 14,
   "id": "349169e6",
   "metadata": {},
   "outputs": [
    {
     "name": "stdout",
     "output_type": "stream",
     "text": [
      "3\n",
      "1000\n"
     ]
    }
   ],
   "source": [
    "# input channel dimension\n",
    "print(fashion_resnet18.conv1.weight.shape[1])\n",
    "# output channel dimension (prediction classes)\n",
    "print(fashion_resnet18.fc.weight.shape[0])"
   ]
  },
  {
   "cell_type": "markdown",
   "id": "3eee5efb",
   "metadata": {},
   "source": [
    "### Modifying fashion_resnet18"
   ]
  },
  {
   "cell_type": "code",
   "execution_count": 15,
   "id": "c286b0d6",
   "metadata": {},
   "outputs": [
    {
     "name": "stdout",
     "output_type": "stream",
     "text": [
      "1\n",
      "10\n"
     ]
    }
   ],
   "source": [
    "FASHION_INPUT_NUM = 1\n",
    "FASHION_CLASS_NUM = 10\n",
    "\n",
    "# Modifying the model\n",
    "fashion_resnet18.conv1 = torch.nn.Conv2d(FASHION_INPUT_NUM, 64, kernel_size=(7, 7), stride=(2, 2), padding=(3, 3), bias=False)\n",
    "fashion_resnet18.fc = torch.nn.Linear(in_features=512, out_features=FASHION_CLASS_NUM, bias=True)\n",
    "# Initializing parameters with xavier uniform\n",
    "torch.nn.init.xavier_uniform_(fashion_resnet18.fc.weight)\n",
    "stdv = 1. / math.sqrt(fashion_resnet18.fc.weight.size(1))\n",
    "fashion_resnet18.fc.bias.data.uniform_(-stdv, stdv)\n",
    "\n",
    "print(fashion_resnet18.conv1.weight.shape[1])\n",
    "print(fashion_resnet18.fc.weight.shape[0])"
   ]
  },
  {
   "cell_type": "markdown",
   "id": "121542e4",
   "metadata": {},
   "source": [
    "### Fashion-MNIST dataset"
   ]
  },
  {
   "cell_type": "code",
   "execution_count": 16,
   "id": "8aa7ad9d",
   "metadata": {},
   "outputs": [],
   "source": [
    "fashion_train = torchvision.datasets.FashionMNIST(root='./fashion', train=True, download=True)\n",
    "fashion_test = torchvision.datasets.FashionMNIST(root='./fashion', train=False, download=True)"
   ]
  },
  {
   "cell_type": "code",
   "execution_count": 17,
   "id": "97352390",
   "metadata": {},
   "outputs": [
    {
     "name": "stdout",
     "output_type": "stream",
     "text": [
      "0\n"
     ]
    },
    {
     "data": {
      "image/png": "[encoded data removed]",
      "text/plain": [
       "<Figure size 432x288 with 1 Axes>"
      ]
     },
     "metadata": {
      "needs_background": "light"
     },
     "output_type": "display_data"
    }
   ],
   "source": [
    "IMAGE_INDEX = 2 \n",
    "plt.imshow(fashion_train[IMAGE_INDEX][0])\n",
    "\n",
    "print(fashion_train[IMAGE_INDEX][1])"
   ]
  },
  {
   "cell_type": "markdown",
   "id": "9cfc5c89",
   "metadata": {},
   "source": [
    "### Fashion-MNIST dataset transformed"
   ]
  },
  {
   "cell_type": "code",
   "execution_count": 18,
   "id": "34162011",
   "metadata": {},
   "outputs": [
    {
     "name": "stdout",
     "output_type": "stream",
     "text": [
      "<class 'PIL.Image.Image'>\n",
      "(28, 28)\n",
      "<class 'torch.Tensor'>\n"
     ]
    }
   ],
   "source": [
    "print(type(fashion_train[0][0]))\n",
    "print(np.array(fashion_train[0][0]).shape)\n",
    "\n",
    "common_transform = torchvision.transforms.Compose([\n",
    "    torchvision.transforms.ToTensor()\n",
    "])\n",
    "\n",
    "fashion_train_transformed = torchvision.datasets.FashionMNIST(root='./fashion', train=True, download=True, transform=common_transform)\n",
    "fashion_test_transformed = torchvision.datasets.FashionMNIST(root='./fashion', train=False, download=True, transform=common_transform)\n",
    "\n",
    "print(type(fashion_train_transformed[0][0]))"
   ]
  },
  {
   "cell_type": "markdown",
   "id": "6588fc1d",
   "metadata": {},
   "source": [
    "### dataloader"
   ]
  },
  {
   "cell_type": "code",
   "execution_count": 19,
   "id": "69d70ed6",
   "metadata": {},
   "outputs": [],
   "source": [
    "BATCH_SIZE = 64\n",
    "fashion_train_dataloader = torch.utils.data.DataLoader(fashion_train_transformed, batch_size=BATCH_SIZE, shuffle=True, num_workers=0)\n",
    "fashion_test_dataloader = torch.utils.data.DataLoader(fashion_test_transformed, batch_size=BATCH_SIZE, shuffle=False, num_workers=0)\n",
    "\n",
    "dataloaders = {\"train\" : fashion_train_dataloader, \n",
    "               \"test\" : fashion_test_dataloader}"
   ]
  },
  {
   "cell_type": "markdown",
   "id": "136cb868",
   "metadata": {},
   "source": [
    "### device, lr, loss_fn, optimizer"
   ]
  },
  {
   "cell_type": "code",
   "execution_count": 20,
   "id": "b8550cea",
   "metadata": {},
   "outputs": [
    {
     "name": "stdout",
     "output_type": "stream",
     "text": [
      "cpu\n"
     ]
    }
   ],
   "source": [
    "device = torch.device(\"cuda:0\" if torch.cuda.is_available() else \"cpu\") \n",
    "print(device)\n",
    "fashion_resnet18.to(device)\n",
    "\n",
    "LEARNING_RATE = 0.0001 \n",
    "\n",
    "NUM_EPOCH = 5\n",
    "\n",
    "loss_fn = torch.nn.CrossEntropyLoss() \n",
    "\n",
    "optimizer = torch.optim.Adam(fashion_resnet18.parameters(), lr=LEARNING_RATE) "
   ]
  },
  {
   "cell_type": "markdown",
   "id": "68e09aee",
   "metadata": {},
   "source": [
    "### Train and test"
   ]
  },
  {
   "cell_type": "code",
   "execution_count": 21,
   "id": "3adb87a1",
   "metadata": {},
   "outputs": [
    {
     "data": {
      "application/vnd.jupyter.widget-view+json": {
       "model_id": "218af24dfcfc4a15bc114bc999770d3e",
       "version_major": 2,
       "version_minor": 0
      },
      "text/plain": [
       "  0%|          | 0/938 [00:00<?, ?it/s]"
      ]
     },
     "metadata": {},
     "output_type": "display_data"
    },
    {
     "name": "stdout",
     "output_type": "stream",
     "text": [
      "Epoch: 0, Phase: train, Average Loss: 0.589, Average Accuracy: 0.790\n"
     ]
    },
    {
     "data": {
      "application/vnd.jupyter.widget-view+json": {
       "model_id": "cdf815e5ffaf42e79a2a5f7baaadc2e6",
       "version_major": 2,
       "version_minor": 0
      },
      "text/plain": [
       "  0%|          | 0/157 [00:00<?, ?it/s]"
      ]
     },
     "metadata": {},
     "output_type": "display_data"
    },
    {
     "name": "stdout",
     "output_type": "stream",
     "text": [
      "Epoch: 0, Phase: test, Average Loss: 0.426, Average Accuracy: 0.839\n"
     ]
    },
    {
     "data": {
      "application/vnd.jupyter.widget-view+json": {
       "model_id": "009cb9fc5566482d9c3df57d262fba99",
       "version_major": 2,
       "version_minor": 0
      },
      "text/plain": [
       "  0%|          | 0/938 [00:00<?, ?it/s]"
      ]
     },
     "metadata": {},
     "output_type": "display_data"
    },
    {
     "name": "stdout",
     "output_type": "stream",
     "text": [
      "Epoch: 1, Phase: train, Average Loss: 0.373, Average Accuracy: 0.862\n"
     ]
    },
    {
     "data": {
      "application/vnd.jupyter.widget-view+json": {
       "model_id": "751777a18a8942679e422da5b500b2e5",
       "version_major": 2,
       "version_minor": 0
      },
      "text/plain": [
       "  0%|          | 0/157 [00:00<?, ?it/s]"
      ]
     },
     "metadata": {},
     "output_type": "display_data"
    },
    {
     "name": "stdout",
     "output_type": "stream",
     "text": [
      "Epoch: 1, Phase: test, Average Loss: 0.348, Average Accuracy: 0.873\n"
     ]
    },
    {
     "data": {
      "application/vnd.jupyter.widget-view+json": {
       "model_id": "5c085019d8eb4f45a51fb79cf994afbf",
       "version_major": 2,
       "version_minor": 0
      },
      "text/plain": [
       "  0%|          | 0/938 [00:00<?, ?it/s]"
      ]
     },
     "metadata": {},
     "output_type": "display_data"
    },
    {
     "name": "stdout",
     "output_type": "stream",
     "text": [
      "Epoch: 2, Phase: train, Average Loss: 0.316, Average Accuracy: 0.883\n"
     ]
    },
    {
     "data": {
      "application/vnd.jupyter.widget-view+json": {
       "model_id": "3b423dd55c684bb0aaa7fbda33f2ef11",
       "version_major": 2,
       "version_minor": 0
      },
      "text/plain": [
       "  0%|          | 0/157 [00:00<?, ?it/s]"
      ]
     },
     "metadata": {},
     "output_type": "display_data"
    },
    {
     "name": "stdout",
     "output_type": "stream",
     "text": [
      "Epoch: 2, Phase: test, Average Loss: 0.322, Average Accuracy: 0.885\n"
     ]
    },
    {
     "data": {
      "application/vnd.jupyter.widget-view+json": {
       "model_id": "2f6ed8e38a104d5d8ba19a4673d5994a",
       "version_major": 2,
       "version_minor": 0
      },
      "text/plain": [
       "  0%|          | 0/938 [00:00<?, ?it/s]"
      ]
     },
     "metadata": {},
     "output_type": "display_data"
    },
    {
     "name": "stdout",
     "output_type": "stream",
     "text": [
      "Epoch: 3, Phase: train, Average Loss: 0.276, Average Accuracy: 0.898\n"
     ]
    },
    {
     "data": {
      "application/vnd.jupyter.widget-view+json": {
       "model_id": "ba36d701caa547d8bd2fe7c2e7c0639b",
       "version_major": 2,
       "version_minor": 0
      },
      "text/plain": [
       "  0%|          | 0/157 [00:00<?, ?it/s]"
      ]
     },
     "metadata": {},
     "output_type": "display_data"
    },
    {
     "name": "stdout",
     "output_type": "stream",
     "text": [
      "Epoch: 3, Phase: test, Average Loss: 0.304, Average Accuracy: 0.892\n"
     ]
    },
    {
     "data": {
      "application/vnd.jupyter.widget-view+json": {
       "model_id": "4dd6a338fc3a49ddbe11567edc4e1490",
       "version_major": 2,
       "version_minor": 0
      },
      "text/plain": [
       "  0%|          | 0/938 [00:00<?, ?it/s]"
      ]
     },
     "metadata": {},
     "output_type": "display_data"
    },
    {
     "name": "stdout",
     "output_type": "stream",
     "text": [
      "Epoch: 4, Phase: train, Average Loss: 0.248, Average Accuracy: 0.908\n"
     ]
    },
    {
     "data": {
      "application/vnd.jupyter.widget-view+json": {
       "model_id": "904b7def473a49bb8f846b5e72a7f838",
       "version_major": 2,
       "version_minor": 0
      },
      "text/plain": [
       "  0%|          | 0/157 [00:00<?, ?it/s]"
      ]
     },
     "metadata": {},
     "output_type": "display_data"
    },
    {
     "name": "stdout",
     "output_type": "stream",
     "text": [
      "Epoch: 4, Phase: test, Average Loss: 0.307, Average Accuracy: 0.890\n",
      "Best Accuracy: 0.8917999863624573, Best Loss: 0.30445397114753725\n"
     ]
    }
   ],
   "source": [
    "best_test_accuracy = 0.\n",
    "best_test_loss = 9999.\n",
    "\n",
    "for epoch in range(NUM_EPOCH):\n",
    "    for phase in ['train', 'test']:\n",
    "        \n",
    "        running_loss = 0.\n",
    "        running_acc = 0.\n",
    "        \n",
    "        if phase=='train':\n",
    "            fashion_resnet18.train()\n",
    "        elif phase=='test':\n",
    "            fashion_resnet18.eval()\n",
    "            \n",
    "        for ind, (images, labels) in enumerate(tqdm(dataloaders[phase])):\n",
    "            images = images.to(device)\n",
    "            labels = labels.to(device)\n",
    "            \n",
    "            # initialize gradients\n",
    "            optimizer.zero_grad()\n",
    "            \n",
    "            # train 모드일 시에는 gradient를 계산하고, \n",
    "            # 아닐 때는 gradient를 계산하지 않아 연산량 최소화\n",
    "            with torch.set_grad_enabled(phase=='train'):\n",
    "                \n",
    "                # yhat\n",
    "                logits = fashion_resnet18(images)\n",
    "                \n",
    "                # 모델에서 linear 값으로 나오는 예측 값 ([0.9,1.2, 3.2,0.1,-0.1,...])을 \n",
    "                # 최대 output index를 찾아 예측 레이블([2])로 변경함\n",
    "                # ???\n",
    "                _, preds = torch.max(logits, 1)\n",
    "                \n",
    "                loss = loss_fn(logits, labels)\n",
    "                \n",
    "                if phase=='train':\n",
    "                    loss.backward() # gradient 계산\n",
    "                    optimizer.step() # parameter update\n",
    "            \n",
    "            # 한 batch에서의 loss값 저장\n",
    "            running_loss += loss.item() * images.size(0)\n",
    "            # 한 batch에서의 accuracy값 저장\n",
    "            running_acc += torch.sum(preds == labels.data)\n",
    "            \n",
    "        epoch_loss = running_loss / len(dataloaders[phase].dataset)\n",
    "        epoch_acc = running_acc / len(dataloaders[phase].dataset)\n",
    "        \n",
    "        print(f'Epoch: {epoch}, Phase: {phase}, Average Loss: {epoch_loss:.3f}, Average Accuracy: {epoch_acc:.3f}')\n",
    "        \n",
    "        if phase=='test' and best_test_accuracy < epoch_acc:\n",
    "            best_test_accuracy = epoch_acc\n",
    "        if phase=='test' and best_test_loss > epoch_loss:\n",
    "            best_test_loss = epoch_loss\n",
    "            \n",
    "print(f'Best Accuracy: {best_test_accuracy}, Best Loss: {best_test_loss}')\n",
    "                "
   ]
  },
  {
   "cell_type": "markdown",
   "id": "cd3aeb89",
   "metadata": {},
   "source": [
    "# Hyperparameter Tuning"
   ]
  },
  {
   "cell_type": "code",
   "execution_count": null,
   "id": "8acf6a3b",
   "metadata": {},
   "outputs": [],
   "source": []
  }
 ],
 "metadata": {
  "kernelspec": {
   "display_name": "Python 3 (ipykernel)",
   "language": "python",
   "name": "python3"
  },
  "language_info": {
   "codemirror_mode": {
    "name": "ipython",
    "version": 3
   },
   "file_extension": ".py",
   "mimetype": "text/x-python",
   "name": "python",
   "nbconvert_exporter": "python",
   "pygments_lexer": "ipython3",
   "version": "3.7.11"
  }
 },
 "nbformat": 4,
 "nbformat_minor": 5
}
