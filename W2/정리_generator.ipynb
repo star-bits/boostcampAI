{
 "cells": [
  {
   "cell_type": "code",
   "execution_count": 1,
   "id": "2b289599",
   "metadata": {},
   "outputs": [
    {
     "name": "stdout",
     "output_type": "stream",
     "text": [
      "0\n",
      "1\n",
      "2\n",
      "3\n",
      "4\n"
     ]
    }
   ],
   "source": [
    "def generator_list(x):\n",
    "    for i in range(x):\n",
    "        yield i\n",
    "        \n",
    "# 실행 시점에서 yield 호출\n",
    "# 값을 메모리에 안 올려놓고 메모리의 주소값만 갖고 있음\n",
    "\n",
    "for i in generator_list(5):\n",
    "    print(i)"
   ]
  },
  {
   "cell_type": "code",
   "execution_count": 2,
   "id": "3bfe800c",
   "metadata": {},
   "outputs": [
    {
     "name": "stdout",
     "output_type": "stream",
     "text": [
      "0\n",
      "1\n",
      "2\n",
      "3\n",
      "4\n"
     ]
    }
   ],
   "source": [
    "def normal_list(x):\n",
    "    l = []\n",
    "    for i in range(x):\n",
    "        l.append(i)\n",
    "    return l\n",
    "\n",
    "for i in normal_list(5):\n",
    "    print(i)"
   ]
  },
  {
   "cell_type": "code",
   "execution_count": 3,
   "id": "0eabc2a3",
   "metadata": {},
   "outputs": [
    {
     "name": "stdout",
     "output_type": "stream",
     "text": [
      "<class 'generator'>\n",
      "112\n",
      "4216\n"
     ]
    }
   ],
   "source": [
    "from sys import getsizeof\n",
    "\n",
    "g = (n*n for n in range(500))\n",
    "print(type(g))\n",
    "\n",
    "print(getsizeof(g))\n",
    "print(getsizeof(list(g)))"
   ]
  },
  {
   "cell_type": "code",
   "execution_count": 4,
   "id": "67551000",
   "metadata": {},
   "outputs": [
    {
     "name": "stdout",
     "output_type": "stream",
     "text": [
      "<class 'list'>\n",
      "4216\n"
     ]
    }
   ],
   "source": [
    "l = [n*n for n in range(500)]\n",
    "print(type(l))\n",
    "\n",
    "print(getsizeof(l))"
   ]
  },
  {
   "cell_type": "code",
   "execution_count": 11,
   "id": "6b0882a3",
   "metadata": {},
   "outputs": [
    {
     "name": "stdout",
     "output_type": "stream",
     "text": [
      "112\n",
      "4216\n"
     ]
    }
   ],
   "source": [
    "print(getsizeof(generator_list(500)))\n",
    "print(getsizeof(normal_list(500)))"
   ]
  },
  {
   "cell_type": "code",
   "execution_count": null,
   "id": "7a1a051d",
   "metadata": {},
   "outputs": [],
   "source": []
  }
 ],
 "metadata": {
  "kernelspec": {
   "display_name": "Python 3 (ipykernel)",
   "language": "python",
   "name": "python3"
  },
  "language_info": {
   "codemirror_mode": {
    "name": "ipython",
    "version": 3
   },
   "file_extension": ".py",
   "mimetype": "text/x-python",
   "name": "python",
   "nbconvert_exporter": "python",
   "pygments_lexer": "ipython3",
   "version": "3.9.5"
  }
 },
 "nbformat": 4,
 "nbformat_minor": 5
}
