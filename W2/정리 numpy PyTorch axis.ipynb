{
 "cells": [
  {
   "cell_type": "code",
   "execution_count": 2,
   "id": "26c1945c",
   "metadata": {},
   "outputs": [
    {
     "data": {
      "text/plain": [
       "tensor([[[ 1,  2],\n",
       "         [ 3,  4],\n",
       "         [ 5,  6]],\n",
       "\n",
       "        [[ 7,  8],\n",
       "         [ 9, 10],\n",
       "         [11, 12]],\n",
       "\n",
       "        [[13, 14],\n",
       "         [15, 16],\n",
       "         [17, 18]],\n",
       "\n",
       "        [[19, 20],\n",
       "         [21, 22],\n",
       "         [23, 24]]])"
      ]
     },
     "execution_count": 2,
     "metadata": {},
     "output_type": "execute_result"
    }
   ],
   "source": [
    "import torch\n",
    "\n",
    "t = torch.arange(1, 25)\n",
    "t = t.reshape(4, 3, 2)\n",
    "t"
   ]
  },
  {
   "cell_type": "code",
   "execution_count": 3,
   "id": "38ad698c",
   "metadata": {},
   "outputs": [
    {
     "data": {
      "text/plain": [
       "torch.Size([4, 3, 2])"
      ]
     },
     "execution_count": 3,
     "metadata": {},
     "output_type": "execute_result"
    }
   ],
   "source": [
    "t.shape"
   ]
  },
  {
   "cell_type": "code",
   "execution_count": null,
   "id": "bd58013e",
   "metadata": {},
   "outputs": [],
   "source": [
    "# Which means, axis 0 has 4 elements, \n",
    "# axis 1 has 3 elements, \n",
    "# and axis 2 has 2 elements.\n",
    "\n",
    "# torch.Size([(axis 0), (axis 1), (axis 2)])"
   ]
  },
  {
   "cell_type": "code",
   "execution_count": null,
   "id": "df7c8c02",
   "metadata": {},
   "outputs": [],
   "source": [
    "# Axis 2, here in 3D matrix, is the 'simplest' or 'least layered' axis.\n",
    "# It is the axis in parallel with the line formed by element [1] and [2].\n",
    "\n",
    "# Axis 1 is the axis in parallel with the line formed by element [1] and [5].\n",
    "\n",
    "# Axis 0 is ALWAYS the 'most complicated' or 'most layered' axis.\n",
    "# It is the axis in parallel with the line formed by element [1] and [19]."
   ]
  },
  {
   "cell_type": "markdown",
   "id": "8445b1a0",
   "metadata": {},
   "source": [
    "## index_select - 2D"
   ]
  },
  {
   "cell_type": "code",
   "execution_count": 5,
   "id": "bca1c8d1",
   "metadata": {},
   "outputs": [
    {
     "data": {
      "text/plain": [
       "tensor([[1.],\n",
       "        [3.]])"
      ]
     },
     "execution_count": 5,
     "metadata": {},
     "output_type": "execute_result"
    }
   ],
   "source": [
    "# Let's try an index_select() example:\n",
    "\n",
    "A = torch.Tensor([[1, 2],\n",
    "                  [3, 4]])\n",
    "\n",
    "index = torch.tensor([0])\n",
    "\n",
    "output = torch.index_select(A, 1, index)\n",
    "\n",
    "output\n",
    "\n",
    "# Axis specified is axis 1.\n",
    "\n",
    "# A is a 2D matrix, so axis 1 is the 'least layered' axis, \n",
    "# which means that it is the axis in parallel \n",
    "# with the line formed by element [1] and [2].\n",
    "\n",
    "# Within those lines, elements with index 0 are selected."
   ]
  },
  {
   "cell_type": "code",
   "execution_count": 6,
   "id": "20715477",
   "metadata": {},
   "outputs": [
    {
     "data": {
      "text/plain": [
       "tensor([[1., 2.]])"
      ]
     },
     "execution_count": 6,
     "metadata": {},
     "output_type": "execute_result"
    }
   ],
   "source": [
    "output = torch.index_select(A, 0, index)\n",
    "\n",
    "output"
   ]
  },
  {
   "cell_type": "markdown",
   "id": "08b6da00",
   "metadata": {},
   "source": [
    "## index_select - 3D"
   ]
  },
  {
   "cell_type": "code",
   "execution_count": 8,
   "id": "1967d72b",
   "metadata": {},
   "outputs": [
    {
     "data": {
      "text/plain": [
       "tensor([[[1, 2],\n",
       "         [3, 4]],\n",
       "\n",
       "        [[5, 6],\n",
       "         [7, 8]]])"
      ]
     },
     "execution_count": 8,
     "metadata": {},
     "output_type": "execute_result"
    }
   ],
   "source": [
    "A = torch.arange(1, 9)\n",
    "A = A.reshape(2, 2, 2)\n",
    "A"
   ]
  },
  {
   "cell_type": "code",
   "execution_count": 12,
   "id": "5478a875",
   "metadata": {},
   "outputs": [
    {
     "data": {
      "text/plain": [
       "tensor([[[1],\n",
       "         [3]],\n",
       "\n",
       "        [[5],\n",
       "         [7]]])"
      ]
     },
     "execution_count": 12,
     "metadata": {},
     "output_type": "execute_result"
    }
   ],
   "source": [
    "output = torch.index_select(A, 2, index)\n",
    "output\n",
    "\n",
    "# Check the axis orientation.\n",
    "# It is parallel with the line formed by elements [1] and [2].\n",
    "# This is the 'least layered' axis."
   ]
  },
  {
   "cell_type": "code",
   "execution_count": 13,
   "id": "fabfa029",
   "metadata": {},
   "outputs": [
    {
     "data": {
      "text/plain": [
       "tensor([[[1, 2]],\n",
       "\n",
       "        [[5, 6]]])"
      ]
     },
     "execution_count": 13,
     "metadata": {},
     "output_type": "execute_result"
    }
   ],
   "source": [
    "output = torch.index_select(A, 1, index)\n",
    "output\n",
    "\n",
    "# Check the axis orientation.\n",
    "# It is parallel with the line formed by elements [1] and [3]."
   ]
  },
  {
   "cell_type": "code",
   "execution_count": 14,
   "id": "f104d823",
   "metadata": {},
   "outputs": [
    {
     "data": {
      "text/plain": [
       "tensor([[[1, 2],\n",
       "         [3, 4]]])"
      ]
     },
     "execution_count": 14,
     "metadata": {},
     "output_type": "execute_result"
    }
   ],
   "source": [
    "output = torch.index_select(A, 0, index)\n",
    "output\n",
    "\n",
    "# Check the axis orientation.\n",
    "# It is parallel with the line formed by elements [1] and [5].\n",
    "# This is the 'most layered' axis."
   ]
  },
  {
   "cell_type": "markdown",
   "id": "1e00b224",
   "metadata": {},
   "source": [
    "## Unsqueeze "
   ]
  },
  {
   "cell_type": "code",
   "execution_count": 24,
   "id": "0145ce6b",
   "metadata": {},
   "outputs": [
    {
     "name": "stdout",
     "output_type": "stream",
     "text": [
      "torch.Size([2, 2])\n",
      "tensor([[1, 2],\n",
      "        [3, 4]])\n"
     ]
    }
   ],
   "source": [
    "t = torch.arange(1, 5)\n",
    "t = t.reshape(2, 2)\n",
    "print(t.shape)\n",
    "print(t)"
   ]
  },
  {
   "cell_type": "code",
   "execution_count": 25,
   "id": "8caa961f",
   "metadata": {},
   "outputs": [
    {
     "name": "stdout",
     "output_type": "stream",
     "text": [
      "torch.Size([1, 2, 2])\n",
      "tensor([[[1, 2],\n",
      "         [3, 4]]])\n"
     ]
    }
   ],
   "source": [
    "output = t.unsqueeze(0)\n",
    "print(output.shape)\n",
    "print(output)\n",
    "\n",
    "# Dimension of size one is inserted at the specified axis - axis 0,\n",
    "# which is the 'most layered' axis."
   ]
  },
  {
   "cell_type": "code",
   "execution_count": 26,
   "id": "cacd1eb3",
   "metadata": {},
   "outputs": [
    {
     "name": "stdout",
     "output_type": "stream",
     "text": [
      "torch.Size([2, 1, 2])\n",
      "tensor([[[1, 2]],\n",
      "\n",
      "        [[3, 4]]])\n"
     ]
    }
   ],
   "source": [
    "output = t.unsqueeze(1)\n",
    "print(output.shape)\n",
    "print(output)"
   ]
  },
  {
   "cell_type": "markdown",
   "id": "efd899e1",
   "metadata": {},
   "source": [
    "## Scientific convention"
   ]
  },
  {
   "cell_type": "code",
   "execution_count": 27,
   "id": "23a7b8b4",
   "metadata": {},
   "outputs": [
    {
     "data": {
      "text/plain": [
       "tensor([[1, 2, 3],\n",
       "        [4, 5, 6]])"
      ]
     },
     "execution_count": 27,
     "metadata": {},
     "output_type": "execute_result"
    }
   ],
   "source": [
    "t = torch.arange(1, 7)\n",
    "t = t.reshape(2, 3)\n",
    "t"
   ]
  },
  {
   "cell_type": "code",
   "execution_count": 30,
   "id": "58937c86",
   "metadata": {},
   "outputs": [
    {
     "data": {
      "text/plain": [
       "torch.Size([2, 3])"
      ]
     },
     "execution_count": 30,
     "metadata": {},
     "output_type": "execute_result"
    }
   ],
   "source": [
    "# The scientific convention is the call a 2D matrix as\n",
    "# '(number of rows) by (number of cols) matrix'.\n",
    "\n",
    "# In this case, t is a 2 by 3 matrix.\n",
    "\n",
    "# And the 'shape' of t in PyTorch is:\n",
    "t.shape"
   ]
  },
  {
   "cell_type": "code",
   "execution_count": null,
   "id": "cd7ce25d",
   "metadata": {},
   "outputs": [],
   "source": []
  }
 ],
 "metadata": {
  "kernelspec": {
   "display_name": "Python 3 (ipykernel)",
   "language": "python",
   "name": "python3"
  },
  "language_info": {
   "codemirror_mode": {
    "name": "ipython",
    "version": 3
   },
   "file_extension": ".py",
   "mimetype": "text/x-python",
   "name": "python",
   "nbconvert_exporter": "python",
   "pygments_lexer": "ipython3",
   "version": "3.9.5"
  }
 },
 "nbformat": 4,
 "nbformat_minor": 5
}
