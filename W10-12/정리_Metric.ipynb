{
 "cells": [
  {
   "cell_type": "code",
   "execution_count": 26,
   "id": "8425d721",
   "metadata": {
    "id": "8425d721",
    "outputId": "8dd82581-b29d-41b8-f536-b4075e3d1c69"
   },
   "outputs": [
    {
     "name": "stdout",
     "output_type": "stream",
     "text": [
      "Requirement already satisfied: map_boxes in /opt/conda/envs/detection/lib/python3.7/site-packages (1.0.5)\n",
      "Requirement already satisfied: numpy in /opt/conda/envs/detection/lib/python3.7/site-packages (from map_boxes) (1.21.2)\n",
      "Requirement already satisfied: pandas in /opt/conda/envs/detection/lib/python3.7/site-packages (from map_boxes) (1.3.5)\n",
      "Requirement already satisfied: python-dateutil>=2.7.3 in /opt/conda/envs/detection/lib/python3.7/site-packages (from pandas->map_boxes) (2.8.2)\n",
      "Requirement already satisfied: pytz>=2017.3 in /opt/conda/envs/detection/lib/python3.7/site-packages (from pandas->map_boxes) (2021.3)\n",
      "Requirement already satisfied: six>=1.5 in /opt/conda/envs/detection/lib/python3.7/site-packages (from python-dateutil>=2.7.3->pandas->map_boxes) (1.16.0)\n",
      "\u001b[33mWARNING: Running pip as the 'root' user can result in broken permissions and conflicting behaviour with the system package manager. It is recommended to use a virtual environment instead: https://pip.pypa.io/warnings/venv\u001b[0m\n",
      "Requirement already satisfied: tqdm in /opt/conda/envs/detection/lib/python3.7/site-packages (4.63.0)\n",
      "\u001b[33mWARNING: Running pip as the 'root' user can result in broken permissions and conflicting behaviour with the system package manager. It is recommended to use a virtual environment instead: https://pip.pypa.io/warnings/venv\u001b[0m\n",
      "Requirement already satisfied: pycocotools in /opt/conda/envs/detection/lib/python3.7/site-packages (2.0.4)\n",
      "Requirement already satisfied: numpy in /opt/conda/envs/detection/lib/python3.7/site-packages (from pycocotools) (1.21.2)\n",
      "Requirement already satisfied: matplotlib>=2.1.0 in /opt/conda/envs/detection/lib/python3.7/site-packages (from pycocotools) (3.5.1)\n",
      "Requirement already satisfied: packaging>=20.0 in /opt/conda/envs/detection/lib/python3.7/site-packages (from matplotlib>=2.1.0->pycocotools) (21.3)\n",
      "Requirement already satisfied: cycler>=0.10 in /opt/conda/envs/detection/lib/python3.7/site-packages (from matplotlib>=2.1.0->pycocotools) (0.11.0)\n",
      "Requirement already satisfied: python-dateutil>=2.7 in /opt/conda/envs/detection/lib/python3.7/site-packages (from matplotlib>=2.1.0->pycocotools) (2.8.2)\n",
      "Requirement already satisfied: pillow>=6.2.0 in /opt/conda/envs/detection/lib/python3.7/site-packages (from matplotlib>=2.1.0->pycocotools) (9.0.1)\n",
      "Requirement already satisfied: fonttools>=4.22.0 in /opt/conda/envs/detection/lib/python3.7/site-packages (from matplotlib>=2.1.0->pycocotools) (4.30.0)\n",
      "Requirement already satisfied: pyparsing>=2.2.1 in /opt/conda/envs/detection/lib/python3.7/site-packages (from matplotlib>=2.1.0->pycocotools) (3.0.7)\n",
      "Requirement already satisfied: kiwisolver>=1.0.1 in /opt/conda/envs/detection/lib/python3.7/site-packages (from matplotlib>=2.1.0->pycocotools) (1.4.0)\n",
      "Requirement already satisfied: typing-extensions in /opt/conda/envs/detection/lib/python3.7/site-packages (from kiwisolver>=1.0.1->matplotlib>=2.1.0->pycocotools) (4.1.1)\n",
      "Requirement already satisfied: six>=1.5 in /opt/conda/envs/detection/lib/python3.7/site-packages (from python-dateutil>=2.7->matplotlib>=2.1.0->pycocotools) (1.16.0)\n",
      "\u001b[33mWARNING: Running pip as the 'root' user can result in broken permissions and conflicting behaviour with the system package manager. It is recommended to use a virtual environment instead: https://pip.pypa.io/warnings/venv\u001b[0m\n"
     ]
    }
   ],
   "source": [
    "!pip install map_boxes\n",
    "!pip install tqdm\n",
    "!pip install pycocotools"
   ]
  },
  {
   "cell_type": "code",
   "execution_count": 36,
   "id": "b64e3bb0",
   "metadata": {
    "id": "b64e3bb0",
    "outputId": "af6d54d5-4c47-4622-f70b-1737fcb00389"
   },
   "outputs": [],
   "source": [
    "from map_boxes import mean_average_precision_for_boxes\n",
    "import pandas as pd\n",
    "import numpy as np\n",
    "import json\n",
    "from tqdm import tqdm\n",
    "from pycocotools.coco import COCO"
   ]
  },
  {
   "cell_type": "code",
   "execution_count": 37,
   "id": "b6b2a3c1-d697-4ff3-8890-11a66aca1235",
   "metadata": {},
   "outputs": [
    {
     "name": "stdout",
     "output_type": "stream",
     "text": [
      "<class 'pandas.core.frame.DataFrame'>\n"
     ]
    },
    {
     "data": {
      "text/html": [
       "<div>\n",
       "<style scoped>\n",
       "    .dataframe tbody tr th:only-of-type {\n",
       "        vertical-align: middle;\n",
       "    }\n",
       "\n",
       "    .dataframe tbody tr th {\n",
       "        vertical-align: top;\n",
       "    }\n",
       "\n",
       "    .dataframe thead th {\n",
       "        text-align: right;\n",
       "    }\n",
       "</style>\n",
       "<table border=\"1\" class=\"dataframe\">\n",
       "  <thead>\n",
       "    <tr style=\"text-align: right;\">\n",
       "      <th></th>\n",
       "      <th>PredictionString</th>\n",
       "      <th>image_id</th>\n",
       "    </tr>\n",
       "  </thead>\n",
       "  <tbody>\n",
       "    <tr>\n",
       "      <th>0</th>\n",
       "      <td>0 0.7978816628456116 183.583740234375 204.7623...</td>\n",
       "      <td>train/0000.jpg</td>\n",
       "    </tr>\n",
       "    <tr>\n",
       "      <th>1</th>\n",
       "      <td>1 0.6951920390129089 125.23683166503906 0.0 10...</td>\n",
       "      <td>train/0001.jpg</td>\n",
       "    </tr>\n",
       "    <tr>\n",
       "      <th>2</th>\n",
       "      <td>3 0.764673113822937 262.1150817871094 169.8388...</td>\n",
       "      <td>train/0002.jpg</td>\n",
       "    </tr>\n",
       "    <tr>\n",
       "      <th>3</th>\n",
       "      <td>0 0.8639018535614014 764.7205200195312 16.2596...</td>\n",
       "      <td>train/0003.jpg</td>\n",
       "    </tr>\n",
       "    <tr>\n",
       "      <th>4</th>\n",
       "      <td>1 0.919501543045044 485.4276428222656 483.8736...</td>\n",
       "      <td>train/0004.jpg</td>\n",
       "    </tr>\n",
       "    <tr>\n",
       "      <th>...</th>\n",
       "      <td>...</td>\n",
       "      <td>...</td>\n",
       "    </tr>\n",
       "    <tr>\n",
       "      <th>4878</th>\n",
       "      <td>0 0.48651012778282166 382.0939636230469 369.53...</td>\n",
       "      <td>train/4878.jpg</td>\n",
       "    </tr>\n",
       "    <tr>\n",
       "      <th>4879</th>\n",
       "      <td>4 0.7255597710609436 158.5552520751953 446.560...</td>\n",
       "      <td>train/4879.jpg</td>\n",
       "    </tr>\n",
       "    <tr>\n",
       "      <th>4880</th>\n",
       "      <td>0 0.8047160506248474 189.45559692382812 215.36...</td>\n",
       "      <td>train/4880.jpg</td>\n",
       "    </tr>\n",
       "    <tr>\n",
       "      <th>4881</th>\n",
       "      <td>7 0.9831897020339966 146.3490753173828 477.500...</td>\n",
       "      <td>train/4881.jpg</td>\n",
       "    </tr>\n",
       "    <tr>\n",
       "      <th>4882</th>\n",
       "      <td>5 0.7472103238105774 32.63421630859375 116.285...</td>\n",
       "      <td>train/4882.jpg</td>\n",
       "    </tr>\n",
       "  </tbody>\n",
       "</table>\n",
       "<p>4883 rows × 2 columns</p>\n",
       "</div>"
      ],
      "text/plain": [
       "                                       PredictionString        image_id\n",
       "0     0 0.7978816628456116 183.583740234375 204.7623...  train/0000.jpg\n",
       "1     1 0.6951920390129089 125.23683166503906 0.0 10...  train/0001.jpg\n",
       "2     3 0.764673113822937 262.1150817871094 169.8388...  train/0002.jpg\n",
       "3     0 0.8639018535614014 764.7205200195312 16.2596...  train/0003.jpg\n",
       "4     1 0.919501543045044 485.4276428222656 483.8736...  train/0004.jpg\n",
       "...                                                 ...             ...\n",
       "4878  0 0.48651012778282166 382.0939636230469 369.53...  train/4878.jpg\n",
       "4879  4 0.7255597710609436 158.5552520751953 446.560...  train/4879.jpg\n",
       "4880  0 0.8047160506248474 189.45559692382812 215.36...  train/4880.jpg\n",
       "4881  7 0.9831897020339966 146.3490753173828 477.500...  train/4881.jpg\n",
       "4882  5 0.7472103238105774 32.63421630859375 116.285...  train/4882.jpg\n",
       "\n",
       "[4883 rows x 2 columns]"
      ]
     },
     "execution_count": 37,
     "metadata": {},
     "output_type": "execute_result"
    }
   ],
   "source": [
    "# Prediction\n",
    "\n",
    "PRED_CSV = '../../sample_submission/train_sample.csv'\n",
    "\n",
    "pred_df = pd.read_csv(PRED_CSV)\n",
    "\n",
    "print(type(pred_df))\n",
    "\n",
    "pred_df"
   ]
  },
  {
   "cell_type": "code",
   "execution_count": 38,
   "id": "10649c74-04da-41f0-8a36-52e52fdc2791",
   "metadata": {},
   "outputs": [
    {
     "name": "stdout",
     "output_type": "stream",
     "text": [
      "train/0000.jpg\n",
      "0 0.7978816628456116 183.583740234375 204.7623748779297 757.228759765625 663.2476196289062 0 0.30007776618003845 294.1588134765625 428.72027587890625 712.8113403320312 662.5757446289062 9 0.27576687932014465 187.20274353027344 199.62417602539062 785.662109375 664.3910522460938 0 0.13876120746135712 360.568359375 198.63479614257812 678.2484741210938 474.7105712890625 1 0.09028089046478271 222.17236328125 184.7045135498047 727.7378540039062 673.251708984375 9 0.07502871006727219 363.07427978515625 200.3661651611328 688.6143798828125 481.45367431640625 0 0.07456113398075104 203.72471618652344 370.8855285644531 483.5150146484375 544.1288452148438 \n"
     ]
    }
   ],
   "source": [
    "file_names = pred_df['image_id'].values.tolist()\n",
    "bboxes = pred_df['PredictionString'].values.tolist()\n",
    "\n",
    "print(file_names[0])\n",
    "print(bboxes[0])"
   ]
  },
  {
   "cell_type": "code",
   "execution_count": 39,
   "id": "884ef88c-dc40-455d-8026-60ea884e9f1e",
   "metadata": {},
   "outputs": [],
   "source": [
    "# check if there's any empty box\n",
    "for i, bbox in enumerate(bboxes):\n",
    "    if isinstance(bbox, float): # bbox type is str\n",
    "        print(f'{file_names[i]} empty box')"
   ]
  },
  {
   "cell_type": "code",
   "execution_count": 40,
   "id": "9afc18a0",
   "metadata": {
    "id": "9afc18a0",
    "outputId": "293ea20e-c007-4668-cceb-213c3a9bc5f4"
   },
   "outputs": [
    {
     "name": "stderr",
     "output_type": "stream",
     "text": [
      "4883it [00:01, 4575.77it/s]"
     ]
    },
    {
     "name": "stdout",
     "output_type": "stream",
     "text": [
      "151039\n",
      "['train/0000.jpg', '0', '0.7978816628456116', 183.583740234375, 757.228759765625, 204.7623748779297, 663.2476196289062]\n"
     ]
    },
    {
     "name": "stderr",
     "output_type": "stream",
     "text": [
      "\n"
     ]
    }
   ],
   "source": [
    "new_pred = []\n",
    "\n",
    "for file_name, bbox in tqdm(zip(file_names, bboxes)):\n",
    "    boxes = np.array(str(bbox).split(' '))\n",
    "    # print(boxes)\n",
    "    \n",
    "    if len(boxes) % 6 == 1: # some lines may have an empty str '' as the last item.\n",
    "        boxes = boxes[:-1].reshape(-1, 6)\n",
    "        # print('%6==1\\n', boxes)\n",
    "    elif len(boxes) % 6 == 0:\n",
    "        boxes = boxes.reshape(-1, 6)\n",
    "        # print('%6==0\\n', boxes)\n",
    "    else:\n",
    "        raise Exception('error', 'invalid box count')\n",
    "        \n",
    "    for box in boxes:\n",
    "        new_pred.append([file_name, box[0], box[1], float(box[2]), float(box[4]), float(box[3]), float(box[5])])\n",
    "        # class, confidence, four coordinates\n",
    "        \n",
    "print(len(new_pred))\n",
    "print(new_pred[0])"
   ]
  },
  {
   "cell_type": "code",
   "execution_count": 41,
   "id": "1804b52e",
   "metadata": {
    "id": "1804b52e",
    "outputId": "d8cd5bba-3fa9-4317-df9b-02aaeb87d5d7"
   },
   "outputs": [
    {
     "name": "stdout",
     "output_type": "stream",
     "text": [
      "loading annotations into memory...\n",
      "Done (t=0.07s)\n",
      "creating index...\n",
      "index created!\n"
     ]
    }
   ],
   "source": [
    "# Ground Truth\n",
    "\n",
    "GT_JSON = '../../dataset/train.json'\n",
    "\n",
    "coco = COCO(GT_JSON)\n",
    "   \n",
    "'''\n",
    "coco.getImgIds(): return image id list\n",
    "    \n",
    "coco.loadImgs(image_id): return image_info\n",
    "    \n",
    "coco.getAnnIds(imgIds=image_info['id']): return annotation id\n",
    "    \n",
    "coco.loadAnns(ann_ids): return annotation information list (annotation_info_list)\n",
    "    \n",
    "image_info['file_name']: return file name\n",
    "\n",
    "annotation_info_list[i]['category_id']: return i'th annotation category\n",
    "\n",
    "annotation_info_list[i]['bbox']: return i'th annotation [x_min, y_min, w, h]    \n",
    "'''\n",
    "\n",
    "gt = []\n",
    "\n",
    "for image_id in coco.getImgIds():\n",
    "        \n",
    "    image_info = coco.loadImgs(image_id)[0]\n",
    "    annotation_id = coco.getAnnIds(imgIds=image_info['id'])\n",
    "    annotation_info_list = coco.loadAnns(annotation_id)\n",
    "        \n",
    "    file_name = image_info['file_name']\n",
    "        \n",
    "    for annotation in annotation_info_list:\n",
    "        gt.append([file_name, annotation['category_id'],\n",
    "                   float(annotation['bbox'][0]),\n",
    "                   float(annotation['bbox'][0]) + float(annotation['bbox'][2]),\n",
    "                   float(annotation['bbox'][1]),\n",
    "                   (float(annotation['bbox'][1]) + float(annotation['bbox'][3]))])"
   ]
  },
  {
   "cell_type": "code",
   "execution_count": 42,
   "id": "83194763",
   "metadata": {
    "id": "83194763",
    "outputId": "eb7d7e5e-a62f-4625-f98a-facc81888f17"
   },
   "outputs": [
    {
     "name": "stdout",
     "output_type": "stream",
     "text": [
      "Number of files in annotations: 4883\n",
      "Number of files in predictions: 4883\n",
      "Unique classes: 10\n",
      "Detections length: 4883\n",
      "Annotations length: 4883\n",
      "0                              | 0.264624 |    3966\n",
      "1                              | 0.522890 |    6352\n",
      "2                              | 0.441265 |     897\n",
      "3                              | 0.411529 |     936\n",
      "4                              | 0.604017 |     982\n",
      "5                              | 0.397688 |    2943\n",
      "6                              | 0.490678 |    1263\n",
      "7                              | 0.722987 |    5178\n",
      "8                              | 0.599785 |     159\n",
      "9                              | 0.531735 |     468\n",
      "mAP: 0.498720\n",
      "0.49871974228579613\n"
     ]
    }
   ],
   "source": [
    "mean_ap, average_precisions = mean_average_precision_for_boxes(gt, new_pred, iou_threshold=0.5)\n",
    "\n",
    "print(mean_ap)"
   ]
  },
  {
   "cell_type": "code",
   "execution_count": null,
   "id": "c5615080-4e49-4816-a6f1-ab92f76f60ad",
   "metadata": {},
   "outputs": [],
   "source": []
  }
 ],
 "metadata": {
  "colab": {
   "collapsed_sections": [],
   "name": "W10_기본1_정답_Metric.ipynb",
   "provenance": [
    {
     "file_id": "1d4IWKZ1iWvV3G1_zCiYgMsHWjfW0C2V7",
     "timestamp": 1647847817688
    }
   ]
  },
  "kernelspec": {
   "display_name": "Python 3 (ipykernel)",
   "language": "python",
   "name": "python3"
  },
  "language_info": {
   "codemirror_mode": {
    "name": "ipython",
    "version": 3
   },
   "file_extension": ".py",
   "mimetype": "text/x-python",
   "name": "python",
   "nbconvert_exporter": "python",
   "pygments_lexer": "ipython3",
   "version": "3.7.11"
  }
 },
 "nbformat": 4,
 "nbformat_minor": 5
}
