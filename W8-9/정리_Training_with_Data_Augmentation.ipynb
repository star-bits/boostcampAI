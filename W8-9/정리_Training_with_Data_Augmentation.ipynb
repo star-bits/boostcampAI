{
  "nbformat": 4,
  "nbformat_minor": 0,
  "metadata": {
    "colab": {
      "name": "정리_Training_with_Data_Augmentation.ipynb",
      "provenance": [],
      "collapsed_sections": [],
      "machine_shape": "hm"
    },
    "kernelspec": {
      "name": "python3",
      "display_name": "Python 3"
    },
    "language_info": {
      "name": "python"
    },
    "accelerator": "GPU"
  },
  "cells": [
    {
      "cell_type": "code",
      "execution_count": 99,
      "metadata": {
        "id": "bk0eYbJB2aLR"
      },
      "outputs": [],
      "source": [
        "import torch\n",
        "import torch.nn as nn\n",
        "from torch.utils.data import Dataset, DataLoader\n",
        "from torchvision import transforms, utils\n",
        "import itertools\n",
        "import matplotlib.pyplot as plt\n",
        "import os\n",
        "import numpy as np\n",
        "import pandas as pd\n",
        "import random\n",
        "\n",
        "import albumentations\n",
        "import albumentations.pytorch"
      ]
    },
    {
      "cell_type": "code",
      "source": [
        "!pip3 install quickdraw"
      ],
      "metadata": {
        "colab": {
          "base_uri": "https://localhost:8080/"
        },
        "id": "2oc3C05b9e7h",
        "outputId": "bc613091-1388-46b3-aa52-79a07e826124"
      },
      "execution_count": 100,
      "outputs": [
        {
          "output_type": "stream",
          "name": "stdout",
          "text": [
            "Requirement already satisfied: quickdraw in /usr/local/lib/python3.7/dist-packages (0.2.0)\n",
            "Requirement already satisfied: pillow in /usr/local/lib/python3.7/dist-packages (from quickdraw) (7.1.2)\n",
            "Requirement already satisfied: requests in /usr/local/lib/python3.7/dist-packages (from quickdraw) (2.23.0)\n",
            "Requirement already satisfied: certifi>=2017.4.17 in /usr/local/lib/python3.7/dist-packages (from requests->quickdraw) (2021.10.8)\n",
            "Requirement already satisfied: urllib3!=1.25.0,!=1.25.1,<1.26,>=1.21.1 in /usr/local/lib/python3.7/dist-packages (from requests->quickdraw) (1.24.3)\n",
            "Requirement already satisfied: idna<3,>=2.5 in /usr/local/lib/python3.7/dist-packages (from requests->quickdraw) (2.10)\n",
            "Requirement already satisfied: chardet<4,>=3.0.2 in /usr/local/lib/python3.7/dist-packages (from requests->quickdraw) (3.0.4)\n"
          ]
        }
      ]
    },
    {
      "cell_type": "code",
      "source": [
        "from quickdraw import QuickDrawData, QuickDrawDataGroup"
      ],
      "metadata": {
        "id": "nNL0MBc695ZD"
      },
      "execution_count": 101,
      "outputs": []
    },
    {
      "cell_type": "code",
      "source": [
        "seed = 111\n",
        "\n",
        "torch.manual_seed(seed)\n",
        "torch.cuda.manual_seed(seed)\n",
        "torch.cuda.manual_seed_all(seed)\n",
        "torch.backends.cudnn.deterministic = True\n",
        "torch.backends.cudnn.benchmark = False\n",
        "np.random.seed(seed)\n",
        "random.seed(seed)"
      ],
      "metadata": {
        "id": "uwablAmt9g3N"
      },
      "execution_count": 102,
      "outputs": []
    },
    {
      "cell_type": "code",
      "source": [
        "num_img_per_class = 3000\n",
        "\n",
        "qd = QuickDrawData(max_drawings=num_img_per_class)\n",
        "\n",
        "class_list = ['apple', \n",
        "              'wine bottle', \n",
        "              'spoon', \n",
        "              'rainbow', \n",
        "              'panda', \n",
        "              'hospital', \n",
        "              'scissors', \n",
        "              'toothpaste', \n",
        "              'baseball', \n",
        "              'hourglass']\n",
        "\n",
        "class_dict = {'apple' : 0, \n",
        "              'wine bottle' : 1, \n",
        "              'spoon' : 2, \n",
        "              'rainbow' : 3, \n",
        "              'panda': 4, \n",
        "              'hospital' : 5, \n",
        "              'scissors' : 6, \n",
        "              'toothpaste' : 7, \n",
        "              'baseball' : 8, \n",
        "              'hourglass' : 9}"
      ],
      "metadata": {
        "id": "qxd6ztDW9x6J"
      },
      "execution_count": 103,
      "outputs": []
    },
    {
      "cell_type": "code",
      "source": [
        "qd.load_drawings(class_list)"
      ],
      "metadata": {
        "colab": {
          "base_uri": "https://localhost:8080/"
        },
        "id": "CJaImocj9zqI",
        "outputId": "5187f2fb-7e81-427d-e18e-11f49b87f9ef"
      },
      "execution_count": 104,
      "outputs": [
        {
          "output_type": "stream",
          "name": "stdout",
          "text": [
            "loading apple drawings\n",
            "load complete\n",
            "loading wine bottle drawings\n",
            "load complete\n",
            "loading spoon drawings\n",
            "load complete\n",
            "loading rainbow drawings\n",
            "load complete\n",
            "loading panda drawings\n",
            "load complete\n",
            "loading hospital drawings\n",
            "load complete\n",
            "loading scissors drawings\n",
            "load complete\n",
            "loading toothpaste drawings\n",
            "load complete\n",
            "loading baseball drawings\n",
            "load complete\n",
            "loading hourglass drawings\n",
            "load complete\n"
          ]
        }
      ]
    },
    {
      "cell_type": "code",
      "source": [
        "train_data = []\n",
        "val_data = []\n",
        "\n",
        "train_label = []\n",
        "val_label = []\n",
        "\n",
        "for class_name in class_list:\n",
        "    qdgroup = QuickDrawDataGroup(class_name,\n",
        "                                 max_drawings=num_img_per_class)\n",
        "    \n",
        "    for i, img in enumerate(qdgroup.drawings):\n",
        "        if i<int(0.9*num_img_per_class):\n",
        "            train_data.append(img.get_image())\n",
        "            train_label.append(class_dict[class_name])\n",
        "        else:\n",
        "            val_data.append(img.get_image())\n",
        "            val_label.append(class_dict[class_name])"
      ],
      "metadata": {
        "colab": {
          "base_uri": "https://localhost:8080/"
        },
        "id": "IPz2nLBU-Iq0",
        "outputId": "05e00b7c-c856-4a19-c494-0855af86f2d0"
      },
      "execution_count": 105,
      "outputs": [
        {
          "output_type": "stream",
          "name": "stdout",
          "text": [
            "loading apple drawings\n",
            "load complete\n",
            "loading wine bottle drawings\n",
            "load complete\n",
            "loading spoon drawings\n",
            "load complete\n",
            "loading rainbow drawings\n",
            "load complete\n",
            "loading panda drawings\n",
            "load complete\n",
            "loading hospital drawings\n",
            "load complete\n",
            "loading scissors drawings\n",
            "load complete\n",
            "loading toothpaste drawings\n",
            "load complete\n",
            "loading baseball drawings\n",
            "load complete\n",
            "loading hourglass drawings\n",
            "load complete\n"
          ]
        }
      ]
    },
    {
      "cell_type": "code",
      "source": [
        "class QuickDrawDataset(Dataset):\n",
        "\n",
        "    def __init__(self, data, labels, transform=None):\n",
        "        self.data = data\n",
        "        self.labels = labels\n",
        "        self.transform = transform\n",
        "\n",
        "    def __len__(self):\n",
        "        return len(self.data)\n",
        "\n",
        "    def __getitem__(self, idx):\n",
        "\n",
        "        img = self.data[idx]\n",
        "        \n",
        "        label = self.labels[idx]\n",
        "        \n",
        "        if self.transform:\n",
        "            img = self.transform(img)\n",
        "        \n",
        "        return img, label"
      ],
      "metadata": {
        "id": "Nl1AHPlX-Xhj"
      },
      "execution_count": 106,
      "outputs": []
    },
    {
      "cell_type": "code",
      "source": [
        "transform = transforms.Compose([\n",
        "    transforms.RandomAdjustSharpness(sharpness_factor=0),\n",
        "    transforms.RandomVerticalFlip(),\n",
        "    transforms.GaussianBlur(kernel_size=5),\n",
        "    transforms.RandomCrop(230), # 255 -> 230\n",
        "    transforms.ToTensor(),\n",
        "    transforms.Resize((224,224)),\n",
        "    transforms.Normalize(mean=[0.485, 0.456, 0.406],\n",
        "                         std=[0.229, 0.224, 0.225]) \n",
        "    # ImageNet의 mean과 std로, 통상적으로 normalize 수행할 때 사용함\n",
        "])\n",
        "\n",
        "transform_val = transforms.Compose([\n",
        "    transforms.ToTensor(),\n",
        "    transforms.Resize((224,224)),\n",
        "    transforms.Normalize(mean=[0.485, 0.456, 0.406],\n",
        "                         std=[0.229, 0.224, 0.225]) \n",
        "])"
      ],
      "metadata": {
        "id": "BMY4epFl-aS9"
      },
      "execution_count": 107,
      "outputs": []
    },
    {
      "cell_type": "code",
      "source": [
        "i = next(iter(train_data))\n",
        "t = transforms.ToTensor()(i)\n",
        "t.shape"
      ],
      "metadata": {
        "colab": {
          "base_uri": "https://localhost:8080/"
        },
        "id": "f3H2Us97RYb7",
        "outputId": "76172fa1-4311-4b7f-831b-78c5fceaf861"
      },
      "execution_count": 108,
      "outputs": [
        {
          "output_type": "execute_result",
          "data": {
            "text/plain": [
              "torch.Size([3, 255, 255])"
            ]
          },
          "metadata": {},
          "execution_count": 108
        }
      ]
    },
    {
      "cell_type": "code",
      "source": [
        "qd_train_dataset = QuickDrawDataset(train_data, train_label, transform)\n",
        "qd_val_dataset = QuickDrawDataset(val_data, val_label, transform_val)\n",
        "\n",
        "qd_train_dataloader = DataLoader(qd_train_dataset, batch_size=64, shuffle=True)\n",
        "qd_val_dataloader = DataLoader(qd_val_dataset, batch_size=64, shuffle=True)"
      ],
      "metadata": {
        "id": "AP_g0Zcewl9j"
      },
      "execution_count": 109,
      "outputs": []
    },
    {
      "cell_type": "markdown",
      "source": [
        "# Visualizing augmented images\n",
        "- Channel order:\n",
        "  - cv2: BGR\n",
        "  - torch: RGB\n",
        "- Dimension:\n",
        "  - cv2: (height, width, channel)\n",
        "  - torch conv2d layer: (batch_size, channel, height, width)"
      ],
      "metadata": {
        "id": "IcsOW1yo1DiL"
      }
    },
    {
      "cell_type": "code",
      "source": [
        "img, label = next(iter(qd_train_dataloader))\n",
        "\n",
        "plt.imshow(img[0].permute(1, 2, 0)) # torch.permute: dimension swapping\n",
        "plt.show()\n",
        "print(img[0].shape)\n",
        "print(label[0])"
      ],
      "metadata": {
        "colab": {
          "base_uri": "https://localhost:8080/",
          "height": 342
        },
        "id": "golm5LKfx-ft",
        "outputId": "d606be88-69c0-46fe-99db-88b47bcb774e"
      },
      "execution_count": 110,
      "outputs": [
        {
          "output_type": "stream",
          "name": "stderr",
          "text": [
            "Clipping input data to the valid range for imshow with RGB data ([0..1] for floats or [0..255] for integers).\n"
          ]
        },
        {
          "output_type": "display_data",
          "data": {
            "image/png": "[encoded data removed]",
            "text/plain": [
              "<Figure size 432x288 with 1 Axes>"
            ]
          },
          "metadata": {
            "needs_background": "light"
          }
        },
        {
          "output_type": "stream",
          "name": "stdout",
          "text": [
            "torch.Size([3, 224, 224])\n",
            "tensor(9)\n"
          ]
        }
      ]
    },
    {
      "cell_type": "code",
      "source": [
        "val_img, val_label = next(iter(qd_val_dataloader))\n",
        "\n",
        "plt.imshow(val_img[0].permute(1, 2, 0))\n",
        "plt.show()\n",
        "print(val_img[0].shape)\n",
        "print(val_label[0])"
      ],
      "metadata": {
        "colab": {
          "base_uri": "https://localhost:8080/",
          "height": 342
        },
        "id": "tofdJaY12YL2",
        "outputId": "23126c6d-175c-41ee-89ca-fb83e944ea60"
      },
      "execution_count": 111,
      "outputs": [
        {
          "output_type": "stream",
          "name": "stderr",
          "text": [
            "Clipping input data to the valid range for imshow with RGB data ([0..1] for floats or [0..255] for integers).\n"
          ]
        },
        {
          "output_type": "display_data",
          "data": {
            "image/png": "[encoded data removed]",
            "text/plain": [
              "<Figure size 432x288 with 1 Axes>"
            ]
          },
          "metadata": {
            "needs_background": "light"
          }
        },
        {
          "output_type": "stream",
          "name": "stdout",
          "text": [
            "torch.Size([3, 224, 224])\n",
            "tensor(4)\n"
          ]
        }
      ]
    },
    {
      "cell_type": "markdown",
      "source": [
        "# Training VGG-11 with augmented images"
      ],
      "metadata": {
        "id": "9wH3zZ5-7q3O"
      }
    },
    {
      "cell_type": "code",
      "source": [
        "from torchvision.models import vgg11\n",
        "\n",
        "pretrained=True\n",
        "\n",
        "model = vgg11(pretrained)\n",
        "\n",
        "model"
      ],
      "metadata": {
        "colab": {
          "base_uri": "https://localhost:8080/"
        },
        "id": "w2qoOOUg5iQS",
        "outputId": "e8c64e6a-f29c-4dc8-e94b-b5b469194e90"
      },
      "execution_count": 112,
      "outputs": [
        {
          "output_type": "execute_result",
          "data": {
            "text/plain": [
              "VGG(\n",
              "  (features): Sequential(\n",
              "    (0): Conv2d(3, 64, kernel_size=(3, 3), stride=(1, 1), padding=(1, 1))\n",
              "    (1): ReLU(inplace=True)\n",
              "    (2): MaxPool2d(kernel_size=2, stride=2, padding=0, dilation=1, ceil_mode=False)\n",
              "    (3): Conv2d(64, 128, kernel_size=(3, 3), stride=(1, 1), padding=(1, 1))\n",
              "    (4): ReLU(inplace=True)\n",
              "    (5): MaxPool2d(kernel_size=2, stride=2, padding=0, dilation=1, ceil_mode=False)\n",
              "    (6): Conv2d(128, 256, kernel_size=(3, 3), stride=(1, 1), padding=(1, 1))\n",
              "    (7): ReLU(inplace=True)\n",
              "    (8): Conv2d(256, 256, kernel_size=(3, 3), stride=(1, 1), padding=(1, 1))\n",
              "    (9): ReLU(inplace=True)\n",
              "    (10): MaxPool2d(kernel_size=2, stride=2, padding=0, dilation=1, ceil_mode=False)\n",
              "    (11): Conv2d(256, 512, kernel_size=(3, 3), stride=(1, 1), padding=(1, 1))\n",
              "    (12): ReLU(inplace=True)\n",
              "    (13): Conv2d(512, 512, kernel_size=(3, 3), stride=(1, 1), padding=(1, 1))\n",
              "    (14): ReLU(inplace=True)\n",
              "    (15): MaxPool2d(kernel_size=2, stride=2, padding=0, dilation=1, ceil_mode=False)\n",
              "    (16): Conv2d(512, 512, kernel_size=(3, 3), stride=(1, 1), padding=(1, 1))\n",
              "    (17): ReLU(inplace=True)\n",
              "    (18): Conv2d(512, 512, kernel_size=(3, 3), stride=(1, 1), padding=(1, 1))\n",
              "    (19): ReLU(inplace=True)\n",
              "    (20): MaxPool2d(kernel_size=2, stride=2, padding=0, dilation=1, ceil_mode=False)\n",
              "  )\n",
              "  (avgpool): AdaptiveAvgPool2d(output_size=(7, 7))\n",
              "  (classifier): Sequential(\n",
              "    (0): Linear(in_features=25088, out_features=4096, bias=True)\n",
              "    (1): ReLU(inplace=True)\n",
              "    (2): Dropout(p=0.5, inplace=False)\n",
              "    (3): Linear(in_features=4096, out_features=4096, bias=True)\n",
              "    (4): ReLU(inplace=True)\n",
              "    (5): Dropout(p=0.5, inplace=False)\n",
              "    (6): Linear(in_features=4096, out_features=1000, bias=True)\n",
              "  )\n",
              ")"
            ]
          },
          "metadata": {},
          "execution_count": 112
        }
      ]
    },
    {
      "cell_type": "code",
      "source": [
        "model.classifier[6] = nn.Linear(in_features=4096, out_features=10, bias=True)\n",
        "model.cuda()"
      ],
      "metadata": {
        "colab": {
          "base_uri": "https://localhost:8080/"
        },
        "id": "PJWTZ6Pc8JME",
        "outputId": "f8ba07f8-05ba-4d18-fdda-81f06cfb2453"
      },
      "execution_count": 113,
      "outputs": [
        {
          "output_type": "execute_result",
          "data": {
            "text/plain": [
              "VGG(\n",
              "  (features): Sequential(\n",
              "    (0): Conv2d(3, 64, kernel_size=(3, 3), stride=(1, 1), padding=(1, 1))\n",
              "    (1): ReLU(inplace=True)\n",
              "    (2): MaxPool2d(kernel_size=2, stride=2, padding=0, dilation=1, ceil_mode=False)\n",
              "    (3): Conv2d(64, 128, kernel_size=(3, 3), stride=(1, 1), padding=(1, 1))\n",
              "    (4): ReLU(inplace=True)\n",
              "    (5): MaxPool2d(kernel_size=2, stride=2, padding=0, dilation=1, ceil_mode=False)\n",
              "    (6): Conv2d(128, 256, kernel_size=(3, 3), stride=(1, 1), padding=(1, 1))\n",
              "    (7): ReLU(inplace=True)\n",
              "    (8): Conv2d(256, 256, kernel_size=(3, 3), stride=(1, 1), padding=(1, 1))\n",
              "    (9): ReLU(inplace=True)\n",
              "    (10): MaxPool2d(kernel_size=2, stride=2, padding=0, dilation=1, ceil_mode=False)\n",
              "    (11): Conv2d(256, 512, kernel_size=(3, 3), stride=(1, 1), padding=(1, 1))\n",
              "    (12): ReLU(inplace=True)\n",
              "    (13): Conv2d(512, 512, kernel_size=(3, 3), stride=(1, 1), padding=(1, 1))\n",
              "    (14): ReLU(inplace=True)\n",
              "    (15): MaxPool2d(kernel_size=2, stride=2, padding=0, dilation=1, ceil_mode=False)\n",
              "    (16): Conv2d(512, 512, kernel_size=(3, 3), stride=(1, 1), padding=(1, 1))\n",
              "    (17): ReLU(inplace=True)\n",
              "    (18): Conv2d(512, 512, kernel_size=(3, 3), stride=(1, 1), padding=(1, 1))\n",
              "    (19): ReLU(inplace=True)\n",
              "    (20): MaxPool2d(kernel_size=2, stride=2, padding=0, dilation=1, ceil_mode=False)\n",
              "  )\n",
              "  (avgpool): AdaptiveAvgPool2d(output_size=(7, 7))\n",
              "  (classifier): Sequential(\n",
              "    (0): Linear(in_features=25088, out_features=4096, bias=True)\n",
              "    (1): ReLU(inplace=True)\n",
              "    (2): Dropout(p=0.5, inplace=False)\n",
              "    (3): Linear(in_features=4096, out_features=4096, bias=True)\n",
              "    (4): ReLU(inplace=True)\n",
              "    (5): Dropout(p=0.5, inplace=False)\n",
              "    (6): Linear(in_features=4096, out_features=10, bias=True)\n",
              "  )\n",
              ")"
            ]
          },
          "metadata": {},
          "execution_count": 113
        }
      ]
    },
    {
      "cell_type": "code",
      "source": [
        "class AverageMeter(object):\n",
        "\n",
        "    def __init__(self):\n",
        "        self.reset()\n",
        "\n",
        "    def reset(self):\n",
        "        self.val = 0\n",
        "        self.avg = 0\n",
        "        self.sum = 0\n",
        "        self.cnt = 0\n",
        "\n",
        "    def update(self, val, n=1):\n",
        "        self.val = val\n",
        "        self.sum += val * n\n",
        "        self.cnt += n\n",
        "        self.avg = self.sum / self.cnt"
      ],
      "metadata": {
        "id": "hL5ZIg3HAPUY"
      },
      "execution_count": 114,
      "outputs": []
    },
    {
      "cell_type": "code",
      "source": [
        "from torch.optim import Adam\n",
        "\n",
        "criterion = nn.CrossEntropyLoss()\n",
        "optimizer_ft = Adam(model.parameters(), lr=1e-4)"
      ],
      "metadata": {
        "id": "KN-aoq6f9V86"
      },
      "execution_count": 115,
      "outputs": []
    },
    {
      "cell_type": "code",
      "source": [
        "log_dir = './log'\n",
        "\n",
        "os.makedirs(log_dir, exist_ok=True)\n",
        "\n",
        "with open(os.path.join(log_dir, 'augmentation_train_log.csv'), 'w') as log:\n",
        "\n",
        "    model.train()\n",
        "\n",
        "    for iteration, (img, label) in enumerate(qd_train_dataloader):\n",
        "\n",
        "        optimizer_ft.zero_grad()\n",
        "\n",
        "        img, label = img.float().cuda(), label.long().cuda()\n",
        "\n",
        "        pred_logit = model(img)\n",
        "\n",
        "        loss = criterion(pred_logit, label)\n",
        "\n",
        "        loss.backward()\n",
        "        optimizer_ft.step()\n",
        "\n",
        "        pred_label = torch.argmax(pred_logit, 1)\n",
        "        acc = (pred_label==label).sum().item() / len(img)\n",
        "\n",
        "        train_loss = loss.item()\n",
        "        train_acc = acc\n",
        "\n",
        "        if (iteration%20==0) or (iteration==len(qd_train_dataloader)-1):\n",
        "            \n",
        "            model.eval()\n",
        "\n",
        "            valid_loss, valid_acc = AverageMeter(), AverageMeter()\n",
        "\n",
        "            for img, label in qd_val_dataloader:\n",
        "\n",
        "                img, label = img.float().cuda(), label.long().cuda()\n",
        "\n",
        "                with torch.no_grad():\n",
        "                    pred_logit = model(img)\n",
        "\n",
        "                loss = criterion(pred_logit, label)\n",
        "\n",
        "                pred_label = torch.argmax(pred_logit, 1)\n",
        "                acc = (pred_label==label).sum().item() / len(img)\n",
        "\n",
        "                valid_loss.update(loss.item(), len(img))\n",
        "                valid_acc.update(acc, len(img))\n",
        "\n",
        "            valid_loss = valid_loss.avg\n",
        "            valid_acc = valid_acc.avg\n",
        "\n",
        "            print(\"Iter [%3d/%3d] | Train Loss %.4f | Train Acc %.4f | Valid Loss %.4f | Valid Acc %.4f\" %\n",
        "            (iteration, len(qd_train_dataloader), train_loss, train_acc, valid_loss, valid_acc))\n",
        "      \n",
        "            log.write('%d,%.4f,%.4f,%.4f,%.4f\\n'%(iteration, train_loss, train_acc, valid_loss, valid_acc))"
      ],
      "metadata": {
        "colab": {
          "base_uri": "https://localhost:8080/"
        },
        "id": "gs_YP5wV9KSl",
        "outputId": "e2bd2a71-72ad-4621-c286-8b80d5fb2d1a"
      },
      "execution_count": 116,
      "outputs": [
        {
          "output_type": "stream",
          "name": "stdout",
          "text": [
            "Iter [  0/422] | Train Loss 2.4141 | Train Acc 0.0312 | Valid Loss 2.2524 | Valid Acc 0.1527\n",
            "Iter [ 20/422] | Train Loss 0.8858 | Train Acc 0.7188 | Valid Loss 0.6415 | Valid Acc 0.8057\n",
            "Iter [ 40/422] | Train Loss 0.5034 | Train Acc 0.8281 | Valid Loss 0.5071 | Valid Acc 0.8483\n",
            "Iter [ 60/422] | Train Loss 0.3440 | Train Acc 0.8594 | Valid Loss 0.4135 | Valid Acc 0.8733\n",
            "Iter [ 80/422] | Train Loss 0.4112 | Train Acc 0.8906 | Valid Loss 0.3919 | Valid Acc 0.8920\n",
            "Iter [100/422] | Train Loss 0.4681 | Train Acc 0.8594 | Valid Loss 0.3597 | Valid Acc 0.8970\n",
            "Iter [120/422] | Train Loss 0.3661 | Train Acc 0.8594 | Valid Loss 0.3440 | Valid Acc 0.8927\n",
            "Iter [140/422] | Train Loss 0.4483 | Train Acc 0.8594 | Valid Loss 0.2932 | Valid Acc 0.9100\n",
            "Iter [160/422] | Train Loss 0.3985 | Train Acc 0.8594 | Valid Loss 0.3245 | Valid Acc 0.9090\n",
            "Iter [180/422] | Train Loss 0.3138 | Train Acc 0.8438 | Valid Loss 0.3376 | Valid Acc 0.8983\n",
            "Iter [200/422] | Train Loss 0.2265 | Train Acc 0.9531 | Valid Loss 0.2845 | Valid Acc 0.9157\n",
            "Iter [220/422] | Train Loss 0.2048 | Train Acc 0.9219 | Valid Loss 0.3217 | Valid Acc 0.9000\n",
            "Iter [240/422] | Train Loss 0.4602 | Train Acc 0.9062 | Valid Loss 0.2993 | Valid Acc 0.9090\n",
            "Iter [260/422] | Train Loss 0.2004 | Train Acc 0.9531 | Valid Loss 0.2992 | Valid Acc 0.9127\n",
            "Iter [280/422] | Train Loss 0.1607 | Train Acc 0.9531 | Valid Loss 0.2858 | Valid Acc 0.9177\n",
            "Iter [300/422] | Train Loss 0.2697 | Train Acc 0.9062 | Valid Loss 0.2446 | Valid Acc 0.9240\n",
            "Iter [320/422] | Train Loss 0.1601 | Train Acc 0.9531 | Valid Loss 0.2804 | Valid Acc 0.9210\n",
            "Iter [340/422] | Train Loss 0.1446 | Train Acc 0.9844 | Valid Loss 0.2244 | Valid Acc 0.9313\n",
            "Iter [360/422] | Train Loss 0.4577 | Train Acc 0.8594 | Valid Loss 0.2882 | Valid Acc 0.9103\n",
            "Iter [380/422] | Train Loss 0.2150 | Train Acc 0.9375 | Valid Loss 0.2823 | Valid Acc 0.9160\n",
            "Iter [400/422] | Train Loss 0.3345 | Train Acc 0.8906 | Valid Loss 0.2674 | Valid Acc 0.9230\n",
            "Iter [420/422] | Train Loss 0.1724 | Train Acc 0.9844 | Valid Loss 0.2618 | Valid Acc 0.9190\n",
            "Iter [421/422] | Train Loss 0.2415 | Train Acc 0.9286 | Valid Loss 0.2562 | Valid Acc 0.9220\n"
          ]
        }
      ]
    },
    {
      "cell_type": "code",
      "source": [
        "augmentation_train_log = pd.read_csv(os.path.join(log_dir, 'augmentation_train_log.csv'), index_col=0, header=None)"
      ],
      "metadata": {
        "id": "StvIbBaZACLX"
      },
      "execution_count": 117,
      "outputs": []
    },
    {
      "cell_type": "code",
      "source": [
        "fig, (ax1, ax2) = plt.subplots(1, 2, figsize=(15,8))\n",
        "\n",
        "ax1.plot(augmentation_train_log.iloc[:,0], label='Training with augmentation')\n",
        "ax1.set_title('Loss Graph', fontsize=15)\n",
        "ax1.set_xlabel('Iteration', fontsize=15)\n",
        "ax1.set_ylabel('Loss', fontsize=15)\n",
        "\n",
        "fig.legend(fontsize=15)\n",
        "\n",
        "ax2.plot(augmentation_train_log.iloc[:,1], label='Training with augmentation')\n",
        "ax2.set_title('Accuracy Graph', fontsize=15)\n",
        "ax2.set_xlabel('Iteration', fontsize=15)\n",
        "ax2.set_ylabel('Accuracy', fontsize=15)\n",
        "\n",
        "plt.show()"
      ],
      "metadata": {
        "colab": {
          "base_uri": "https://localhost:8080/",
          "height": 363
        },
        "id": "Zrxtud2DIbcf",
        "outputId": "ae150d13-bec8-4b27-a7c9-4fd6efc92d6d"
      },
      "execution_count": 118,
      "outputs": [
        {
          "output_type": "display_data",
          "data": {
            "image/png": "[encoded data removed]",
            "text/plain": [
              "<Figure size 1080x576 with 2 Axes>"
            ]
          },
          "metadata": {
            "needs_background": "light"
          }
        }
      ]
    },
    {
      "cell_type": "code",
      "source": [
        ""
      ],
      "metadata": {
        "id": "sok-ZENhXOTs"
      },
      "execution_count": null,
      "outputs": []
    }
  ]
}