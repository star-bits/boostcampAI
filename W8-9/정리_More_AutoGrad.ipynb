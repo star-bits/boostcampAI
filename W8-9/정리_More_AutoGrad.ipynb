{
 "cells": [
  {
   "cell_type": "code",
   "execution_count": 1,
   "id": "8e7af4ac",
   "metadata": {},
   "outputs": [],
   "source": [
    "import torch"
   ]
  },
  {
   "cell_type": "code",
   "execution_count": 17,
   "id": "58a4b2d4",
   "metadata": {},
   "outputs": [
    {
     "data": {
      "text/plain": [
       "tensor(12.)"
      ]
     },
     "execution_count": 17,
     "metadata": {},
     "output_type": "execute_result"
    }
   ],
   "source": [
    "x = torch.tensor(2., requires_grad=True)\n",
    "y = x ** 3\n",
    "y.backward()\n",
    "x.grad # 3 * 2 ** 2"
   ]
  },
  {
   "cell_type": "code",
   "execution_count": 6,
   "id": "107608d8",
   "metadata": {},
   "outputs": [
    {
     "data": {
      "text/plain": [
       "tensor(6.)"
      ]
     },
     "execution_count": 6,
     "metadata": {},
     "output_type": "execute_result"
    }
   ],
   "source": [
    "x = torch.tensor(3., requires_grad=True)\n",
    "y = x ** 2 \n",
    "y.backward()\n",
    "x.grad # 2 * 3"
   ]
  },
  {
   "cell_type": "code",
   "execution_count": 7,
   "id": "f1087ec3",
   "metadata": {},
   "outputs": [
    {
     "data": {
      "text/plain": [
       "tensor(2.)"
      ]
     },
     "execution_count": 7,
     "metadata": {},
     "output_type": "execute_result"
    }
   ],
   "source": [
    "x = torch.tensor(3., requires_grad=True)\n",
    "y = x * 2\n",
    "y.backward()\n",
    "x.grad # 2"
   ]
  },
  {
   "cell_type": "code",
   "execution_count": 15,
   "id": "84b87911",
   "metadata": {},
   "outputs": [
    {
     "data": {
      "text/plain": [
       "tensor(200.)"
      ]
     },
     "execution_count": 15,
     "metadata": {},
     "output_type": "execute_result"
    }
   ],
   "source": [
    "x = torch.tensor(3., requires_grad=True)\n",
    "y = x * 2\n",
    "gradient = torch.tensor(100, dtype=torch.float)\n",
    "y.backward(gradient)\n",
    "x.grad # 2 * 100 \n",
    "# external gradient를 쓰면 원래 x 값은 상관없어짐?"
   ]
  },
  {
   "cell_type": "code",
   "execution_count": 16,
   "id": "b0c83e53",
   "metadata": {},
   "outputs": [
    {
     "data": {
      "text/plain": [
       "tensor([200.0000,   0.2000])"
      ]
     },
     "execution_count": 16,
     "metadata": {},
     "output_type": "execute_result"
    }
   ],
   "source": [
    "x = torch.randn(2, requires_grad=True)\n",
    "y = x * 2\n",
    "gradients = torch.tensor([100, 0.1], dtype=torch.float)\n",
    "y.backward(gradients)\n",
    "x.grad"
   ]
  },
  {
   "cell_type": "code",
   "execution_count": null,
   "id": "14605967",
   "metadata": {},
   "outputs": [],
   "source": [
    "for epoch in range(epochs):\n",
    "    optimizer.zero_grad()\n",
    "    output = model(inputs)\n",
    "    loss_fn = CrossEntropyLoss()\n",
    "    loss = loss_fn(output, label) \n",
    "    # loss function도 computational graph의 연장일 뿐\n",
    "    loss.backward()\n",
    "    optimizer.step()"
   ]
  }
 ],
 "metadata": {
  "kernelspec": {
   "display_name": "Python 3 (ipykernel)",
   "language": "python",
   "name": "python3"
  },
  "language_info": {
   "codemirror_mode": {
    "name": "ipython",
    "version": 3
   },
   "file_extension": ".py",
   "mimetype": "text/x-python",
   "name": "python",
   "nbconvert_exporter": "python",
   "pygments_lexer": "ipython3",
   "version": "3.8.5"
  }
 },
 "nbformat": 4,
 "nbformat_minor": 5
}
