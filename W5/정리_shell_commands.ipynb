{
 "cells": [
  {
   "cell_type": "markdown",
   "id": "02142405",
   "metadata": {},
   "source": [
    "# man\n",
    "\n",
    "```\n",
    "man python # manual\n",
    "\n",
    "```"
   ]
  },
  {
   "cell_type": "markdown",
   "id": "347e2463",
   "metadata": {},
   "source": [
    "# mkdir, ls, pwd, cd\n",
    "\n",
    "```\n",
    "mkdir dir_name\n",
    "\n",
    "ls\n",
    "ls ~\n",
    "ls -a # all\n",
    "ls -l # list\n",
    "ls -al\n",
    "ls -lh # MB, GB\n",
    "\n",
    "pwd\n",
    "\n",
    "cd\n",
    "\n",
    "```"
   ]
  },
  {
   "cell_type": "markdown",
   "id": "b9c2534c",
   "metadata": {},
   "source": [
    "# echo\n",
    "\n",
    "```\n",
    "echo \"hi\" # print\n",
    "echo `pwd` # backtick\n",
    "\n",
    "```"
   ]
  },
  {
   "cell_type": "markdown",
   "id": "92c53349",
   "metadata": {},
   "source": [
    "# vi\n",
    "\n",
    "```\n",
    "vi vi_name.sh # vim editor\n",
    "\n",
    "i # insert mode\n",
    "`ESC` # command mode\n",
    ": # last line mode\n",
    "\n",
    "# in command mode,\n",
    "dd # delete a line\n",
    "yy # ctrl+c a line\n",
    "p # ctrl+v\n",
    "\n",
    "# in last line mode,\n",
    "w # write\n",
    "q # quit\n",
    "q! # force quit\n",
    "wq # write and quit\n",
    "wq! # force write and quit\n",
    "/sample_str # search sample_str\n",
    "n # when typed after /sample_str command, shows the next occurence of sample_str\n",
    "set nu # show line number\n",
    "\n",
    "bash vi_name.sh\n",
    "zsh vi_name.sh\n",
    "\n",
    "```"
   ]
  },
  {
   "cell_type": "markdown",
   "id": "01443576",
   "metadata": {},
   "source": [
    "# sudo\n",
    "\n",
    "```\n",
    "sudo rm -rf /\n",
    "\n",
    "```"
   ]
  },
  {
   "cell_type": "markdown",
   "id": "b550b1bb",
   "metadata": {},
   "source": [
    "# cp, mv\n",
    "\n",
    "```\n",
    "cp vi_name.sh vi_2.sh\n",
    "\n",
    "mv vi_name.sh vi_3.sh # change name\n",
    "\n",
    "```"
   ]
  },
  {
   "cell_type": "markdown",
   "id": "b8f51629",
   "metadata": {},
   "source": [
    "# cat (practically a 'file print')\n",
    "\n",
    "```\n",
    "cat vi_2.sh # print\n",
    "cat vi_2.sh vi_3.sh # concat print\n",
    "cat vi_2.sh vi_3.sh > vi_overwrite.sh # overwrite to a file\n",
    "cat vi_2.sh vi_3.sh >> vi_append.sh # append to a file\n",
    "\n",
    "```"
   ]
  },
  {
   "cell_type": "markdown",
   "id": "de61eb54",
   "metadata": {},
   "source": [
    "# history, find\n",
    "\n",
    "```\n",
    "history\n",
    "!(history_line_number) # execute the command\n",
    "\n",
    "find . -name 'file_name' # search for a file or directory\n",
    "\n",
    "```"
   ]
  },
  {
   "cell_type": "markdown",
   "id": "73a6c0e7",
   "metadata": {},
   "source": [
    "# export\n",
    "\n",
    "``` \n",
    "export water='물'\n",
    "echo $water # 물\n",
    "echo water # water\n",
    "\n",
    "# .bashrc, .zshrc에 저장하기\n",
    "vi ~/.bashrc\n",
    "vi ~/.zshrc\n",
    "# 변경 내용 적용\n",
    "source ~/.bashrc\n",
    "source ~/.zshrc\n",
    "\n",
    "```"
   ]
  },
  {
   "cell_type": "markdown",
   "id": "4cd5eca6",
   "metadata": {},
   "source": [
    "# alias\n",
    "\n",
    "```\n",
    "# 단축키 설정\n",
    "alias ll2='ls -l' # ll2를 입력하면 ls -l이 동작\n",
    "\n",
    "```"
   ]
  },
  {
   "cell_type": "markdown",
   "id": "4ef76815",
   "metadata": {},
   "source": [
    "# head/tail, sort, uniq\n",
    "\n",
    "```\n",
    "# 파일의 앞/뒤 n행 출력\n",
    "head -n 3 text_name.txt\n",
    "tail -n 3 text_name.txt\n",
    "\n",
    "# sort\n",
    "cat text_name.txt | sort\n",
    "cat text_name.txt | sort -r # reverse\n",
    "\n",
    "# 중복된 행이 연속으로 있는 경우 중복 제거\n",
    "cat text_name.txt | uniq\n",
    "cat text_name.txt | sort | uniq\n",
    "cat text_name.txt | sort | uniq | wc -l # number of lines\n",
    "\n",
    "```"
   ]
  },
  {
   "cell_type": "markdown",
   "id": "329ed8b4",
   "metadata": {},
   "source": [
    "# grep (Global - Regular Expression - Print)\n",
    "\n",
    "```\n",
    "- grep: find lines from text files\n",
    "- find: find files and directories\n",
    "```"
   ]
  },
  {
   "cell_type": "markdown",
   "id": "faf74f5b",
   "metadata": {},
   "source": [
    "### haiku.txt\n",
    "\n",
    "```\n",
    "The Tao that is seen\n",
    "Is not the true Tao, until\n",
    "You bring fresh toner.\n",
    "\n",
    "With searching comes loss\n",
    "and the presence of absence:\n",
    "\"My Thesis\" not found.\n",
    "\n",
    "Yesterday it worked\n",
    "Today it is not working\n",
    "Software is like that.\n",
    "```"
   ]
  },
  {
   "cell_type": "markdown",
   "id": "62c6fa53",
   "metadata": {},
   "source": [
    "```\n",
    "grep not haiku.txt # print any line containing 'The'\n",
    "# The Tao that is seen\n",
    "# \"My Thesis\" not found.\n",
    "\n",
    "grep -i The haiku.txt # case insensitive\n",
    "\n",
    "grep -w The haiku.txt # does not take 'Thesis' as a match\n",
    "# The Tao that is seen\n",
    "\n",
    "grep -v is haiku.txt # every line does not contain 'is'\n",
    "\n",
    "grep -v -i is haiku.txt\n",
    "\n",
    "grep -E 'toner|found' haiku.txt # regex\n",
    "\n",
    "```"
   ]
  },
  {
   "cell_type": "markdown",
   "id": "e2db10ad",
   "metadata": {},
   "source": [
    "# cut\n",
    "\n",
    "```\n",
    "cut -b 1-3 haiku.txt # 앞 세 글자만\n",
    "\n",
    "cut -d ' ' -f 1 haiku.txt # 앞 한 단어만\n",
    "# cut [-d demiliter] [-f list] [file]\n",
    "\n",
    "```"
   ]
  },
  {
   "cell_type": "markdown",
   "id": "fb9a62bd",
   "metadata": {},
   "source": [
    "### cut_file\n",
    "\n",
    "```\n",
    "root:x:0:0:root:/root:/bin/bash \n",
    "bin:x:1:1:bin:/bin:/sbin/nologin \n",
    "daemon:x:2:2:daemon:/sbin:/sbin/nologin\n",
    "```"
   ]
  },
  {
   "cell_type": "markdown",
   "id": "def72d1e",
   "metadata": {},
   "source": [
    "```\n",
    "cat cut_file | cut -d : -f 1,7\n",
    "# root:/bin/bash\n",
    "# bin:/sbin/nologin\n",
    "# daemon:/sbin/nologin\n",
    "\n",
    "```"
   ]
  },
  {
   "cell_type": "markdown",
   "id": "13a3930c",
   "metadata": {},
   "source": [
    "# Redirection & Pipe\n",
    "\n",
    "```\n",
    "echo 'hi' > vi_3.sh # overwrite echo 'hi' stdout to vi_3.sh\n",
    "echo 'hello' >> vi_3.sh # append\n",
    "cat vi_3.sh # file print\n",
    "\n",
    "ls | grep 'vi' # vi가 들어간 파일명 찾아줌\n",
    "ls | grep 'vi' > output.txt # 위 결과를 파일에 저장\n",
    "\n",
    "history | grep 'echo' # 최근 입력한 커맨드 중 echo가 들어간 커맨드 찾아줌\n",
    "\n",
    "```"
   ]
  },
  {
   "cell_type": "markdown",
   "id": "4dbe80b0",
   "metadata": {},
   "source": [
    "# 서버에서 사용하는 쉘 커맨드\n",
    "\n",
    "```\n",
    "# ps: process status\n",
    "ps -e # entire\n",
    "ps -f # full format\n",
    "\n",
    "# curl: clinet url\n",
    "curl -X localhost:5000/{data} # 리퀘스트가 제대로 실행되는지 확인\n",
    "\n",
    "df -h # 디스크 용량 확인\n",
    "\n",
    "# scp: secure copy\n",
    "scp local_path user@ip:remote_directory # local에서 remote server로\n",
    "scp user@ip:remote_directory local_path # remote server에서 local로\n",
    "scp user@ip:remove_directory user2@ip2:target_remote_directory \n",
    "\n",
    "nohup python3 app.py & # 터미널 종료 후에도 백그라운드 실행\n",
    "# nohup으로 실행될 파일은 permission이 755여야 함\n",
    "# 종료는 ps ef | grep app.py 한 후, \n",
    "# pid(Process ID) 찾은 후 kill -9 pid\n",
    "# 로그는 nohup.out에 저장됨\n",
    "\n",
    "# chmod: change mode \n",
    "# owner-group-others \n",
    "# drwxr-xr-x # d: directory # rwx, r-x, r-x\n",
    "# -rw-r--r-- # -: single file # rw-, r--, r--\n",
    "# permission 755 # r: 4, w: 2, x: 1 \n",
    "chmod 755 vi_2.sh # change permission to 755\n",
    "\n",
    "```"
   ]
  },
  {
   "cell_type": "markdown",
   "id": "9aeff6d6",
   "metadata": {},
   "source": [
    "# 쉘 스크립트\n",
    "\n",
    "```\n",
    "bash sh_name.sh # 실행\n",
    "\n",
    "#!/bin/bash # 파일의 맨 앞에 추가하면 이 스크립트를 bash shell로 해석해라는 뜻\n",
    "\n",
    "```"
   ]
  },
  {
   "cell_type": "code",
   "execution_count": null,
   "id": "02be92fd",
   "metadata": {},
   "outputs": [],
   "source": []
  }
 ],
 "metadata": {
  "kernelspec": {
   "display_name": "Python 3 (ipykernel)",
   "language": "python",
   "name": "python3"
  },
  "language_info": {
   "codemirror_mode": {
    "name": "ipython",
    "version": 3
   },
   "file_extension": ".py",
   "mimetype": "text/x-python",
   "name": "python",
   "nbconvert_exporter": "python",
   "pygments_lexer": "ipython3",
   "version": "3.8.5"
  }
 },
 "nbformat": 4,
 "nbformat_minor": 5
}
