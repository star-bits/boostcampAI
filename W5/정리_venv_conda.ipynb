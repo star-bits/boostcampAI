{
 "cells": [
  {
   "cell_type": "markdown",
   "id": "4fd4484d",
   "metadata": {},
   "source": [
    "# venv\n",
    "\n",
    "```\n",
    "# create\n",
    "python3 -m venv bcai\n",
    "\n",
    "# activate\n",
    "source bcai/bin/activate # Unix/Mac\n",
    "bcai\\Scripts\\activate.bat # Windows\n",
    "\n",
    "# install\n",
    "pip install torch==1.10.2\n",
    "pip install --upgrade torch\n",
    "pip uninstall torch\n",
    "pip show torch\n",
    "\n",
    "# packages\n",
    "pip list\n",
    "pip freeze > requirements.txt\n",
    "pip install -r requirements.txt\n",
    "\n",
    "# deactivate\n",
    "deactivate\n",
    "\n",
    "```"
   ]
  },
  {
   "cell_type": "markdown",
   "id": "c012d1bf",
   "metadata": {},
   "source": [
    "# conda\n",
    "\n",
    "```\n",
    "# create\n",
    "conda create -n bcai python=3.8 \n",
    "\n",
    "# activate\n",
    "conda activate bcai\n",
    "\n",
    "# install\n",
    "conda install torch=1.10.2\n",
    "conda update torch\n",
    "conda remove torch\n",
    "\n",
    "# packages\n",
    "conda list\n",
    "\n",
    "# deactivate\n",
    "conda deactivate\n",
    "\n",
    "# list\n",
    "conda info --envs\n",
    "\n",
    "```"
   ]
  },
  {
   "cell_type": "code",
   "execution_count": null,
   "id": "32196613",
   "metadata": {},
   "outputs": [],
   "source": []
  }
 ],
 "metadata": {
  "kernelspec": {
   "display_name": "Python 3 (ipykernel)",
   "language": "python",
   "name": "python3"
  },
  "language_info": {
   "codemirror_mode": {
    "name": "ipython",
    "version": 3
   },
   "file_extension": ".py",
   "mimetype": "text/x-python",
   "name": "python",
   "nbconvert_exporter": "python",
   "pygments_lexer": "ipython3",
   "version": "3.9.9"
  }
 },
 "nbformat": 4,
 "nbformat_minor": 5
}
