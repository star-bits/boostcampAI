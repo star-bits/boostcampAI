{
 "cells": [
  {
   "cell_type": "code",
   "execution_count": 1,
   "id": "3d5b61af",
   "metadata": {},
   "outputs": [],
   "source": [
    "import os"
   ]
  },
  {
   "cell_type": "code",
   "execution_count": 2,
   "id": "b5c833cd",
   "metadata": {},
   "outputs": [],
   "source": [
    "# os.chdir('/Users/jaeh8nkim/Documents')"
   ]
  },
  {
   "cell_type": "code",
   "execution_count": 3,
   "id": "e3a4b9ed",
   "metadata": {},
   "outputs": [
    {
     "data": {
      "text/plain": [
       "'/Users/jaeh8nkim/Documents'"
      ]
     },
     "execution_count": 3,
     "metadata": {},
     "output_type": "execute_result"
    }
   ],
   "source": [
    "# getcwd\n",
    "\n",
    "os.getcwd()"
   ]
  },
  {
   "cell_type": "code",
   "execution_count": 4,
   "id": "4c90e1d8",
   "metadata": {},
   "outputs": [
    {
     "data": {
      "text/plain": [
       "'/Users/jaeh8nkim/Desktop'"
      ]
     },
     "execution_count": 4,
     "metadata": {},
     "output_type": "execute_result"
    }
   ],
   "source": [
    "# chdir\n",
    "\n",
    "os.chdir('/Users/jaeh8nkim/Desktop')\n",
    "\n",
    "os.getcwd()"
   ]
  },
  {
   "cell_type": "code",
   "execution_count": 5,
   "id": "2fff9903",
   "metadata": {},
   "outputs": [
    {
     "data": {
      "text/plain": [
       "['file2.txt', 'file3.txt', 'file1.txt', '.DS_Store', '.localized']"
      ]
     },
     "execution_count": 5,
     "metadata": {},
     "output_type": "execute_result"
    }
   ],
   "source": [
    "# listdir\n",
    "\n",
    "os.listdir(os.getcwd())"
   ]
  },
  {
   "cell_type": "code",
   "execution_count": 6,
   "id": "b7b44e56",
   "metadata": {},
   "outputs": [
    {
     "data": {
      "text/plain": [
       "['file2.txt', 'file3.txt', 'file1.txt', '.DS_Store', '.localized', 'dir1']"
      ]
     },
     "execution_count": 6,
     "metadata": {},
     "output_type": "execute_result"
    }
   ],
   "source": [
    "# mkdir 1\n",
    "\n",
    "os.mkdir('dir1')\n",
    "\n",
    "os.listdir(os.getcwd())"
   ]
  },
  {
   "cell_type": "code",
   "execution_count": 7,
   "id": "04f4cd26",
   "metadata": {},
   "outputs": [
    {
     "data": {
      "text/plain": [
       "['file2.txt',\n",
       " 'file3.txt',\n",
       " 'file1.txt',\n",
       " '.DS_Store',\n",
       " '.localized',\n",
       " 'dir2',\n",
       " 'dir1']"
      ]
     },
     "execution_count": 7,
     "metadata": {},
     "output_type": "execute_result"
    }
   ],
   "source": [
    "# mkdir 2\n",
    "\n",
    "os.mkdir('/Users/jaeh8nkim/Desktop/dir2')\n",
    "\n",
    "os.listdir(os.getcwd())"
   ]
  },
  {
   "cell_type": "code",
   "execution_count": 8,
   "id": "70437ed2",
   "metadata": {},
   "outputs": [
    {
     "data": {
      "text/plain": [
       "['file2.txt',\n",
       " 'file3.txt',\n",
       " 'file1.txt',\n",
       " '.DS_Store',\n",
       " '.localized',\n",
       " 'dir2',\n",
       " 'dir3',\n",
       " 'dir1']"
      ]
     },
     "execution_count": 8,
     "metadata": {},
     "output_type": "execute_result"
    }
   ],
   "source": [
    "# makedirs\n",
    "\n",
    "os.makedirs('dir3/subdir1/subsubdir1')\n",
    "\n",
    "os.listdir(os.getcwd())"
   ]
  },
  {
   "cell_type": "code",
   "execution_count": 9,
   "id": "eebd0e9c",
   "metadata": {},
   "outputs": [
    {
     "data": {
      "text/plain": [
       "['file3.txt', '.DS_Store', '.localized', 'dir2', 'dir3', 'dir1']"
      ]
     },
     "execution_count": 9,
     "metadata": {},
     "output_type": "execute_result"
    }
   ],
   "source": [
    "# remove\n",
    "# 파일 삭제\n",
    "\n",
    "os.remove('file1.txt')\n",
    "\n",
    "# unlink\n",
    "# 파일 삭제\n",
    "\n",
    "os.remove('file2.txt')\n",
    "\n",
    "os.listdir(os.getcwd())"
   ]
  },
  {
   "cell_type": "code",
   "execution_count": 10,
   "id": "1a08e1d8",
   "metadata": {},
   "outputs": [
    {
     "data": {
      "text/plain": [
       "['file3.txt', '.DS_Store', '.localized', 'dir2', 'dir3']"
      ]
     },
     "execution_count": 10,
     "metadata": {},
     "output_type": "execute_result"
    }
   ],
   "source": [
    "# rmdir\n",
    "# 비어있는 폴더 삭제\n",
    "\n",
    "os.rmdir('dir1')\n",
    "\n",
    "os.listdir(os.getcwd())"
   ]
  },
  {
   "cell_type": "code",
   "execution_count": 11,
   "id": "9afbe216",
   "metadata": {},
   "outputs": [
    {
     "name": "stdout",
     "output_type": "stream",
     "text": [
      "/Users/jaeh8nkim/Desktop\n",
      "['dir2', 'dir3']\n",
      "['file3.txt', '.DS_Store', '.localized']\n",
      "/Users/jaeh8nkim/Desktop/dir2\n",
      "[]\n",
      "[]\n",
      "/Users/jaeh8nkim/Desktop/dir3\n",
      "['subdir1']\n",
      "[]\n",
      "/Users/jaeh8nkim/Desktop/dir3/subdir1\n",
      "['subsubdir1']\n",
      "[]\n",
      "/Users/jaeh8nkim/Desktop/dir3/subdir1/subsubdir1\n",
      "[]\n",
      "[]\n"
     ]
    }
   ],
   "source": [
    "# walk\n",
    "\n",
    "for path, dirs, files in os.walk(os.getcwd()):\n",
    "    print(path)\n",
    "    print(dirs)\n",
    "    print(files)"
   ]
  },
  {
   "cell_type": "code",
   "execution_count": 12,
   "id": "16d836f8",
   "metadata": {},
   "outputs": [
    {
     "data": {
      "text/plain": [
       "True"
      ]
     },
     "execution_count": 12,
     "metadata": {},
     "output_type": "execute_result"
    }
   ],
   "source": [
    "# path.isdir\n",
    "\n",
    "os.path.isdir('dir2')"
   ]
  },
  {
   "cell_type": "code",
   "execution_count": 13,
   "id": "48dcaab3",
   "metadata": {},
   "outputs": [
    {
     "data": {
      "text/plain": [
       "True"
      ]
     },
     "execution_count": 13,
     "metadata": {},
     "output_type": "execute_result"
    }
   ],
   "source": [
    "# path.isfile\n",
    "\n",
    "os.path.isfile('file3.txt')"
   ]
  },
  {
   "cell_type": "code",
   "execution_count": 14,
   "id": "28ebea0b",
   "metadata": {},
   "outputs": [
    {
     "data": {
      "text/plain": [
       "True"
      ]
     },
     "execution_count": 14,
     "metadata": {},
     "output_type": "execute_result"
    }
   ],
   "source": [
    "# path.exists\n",
    "\n",
    "os.path.exists('file3.txt')"
   ]
  },
  {
   "cell_type": "code",
   "execution_count": 15,
   "id": "deeca913",
   "metadata": {},
   "outputs": [
    {
     "data": {
      "text/plain": [
       "4"
      ]
     },
     "execution_count": 15,
     "metadata": {},
     "output_type": "execute_result"
    }
   ],
   "source": [
    "# path.getsize\n",
    "# in byte\n",
    "\n",
    "os.path.getsize('file3.txt')"
   ]
  },
  {
   "cell_type": "code",
   "execution_count": 16,
   "id": "0b38ff86",
   "metadata": {},
   "outputs": [
    {
     "data": {
      "text/plain": [
       "('/Users/jaeh8nkim/Desktop', 'file3.txt')"
      ]
     },
     "execution_count": 16,
     "metadata": {},
     "output_type": "execute_result"
    }
   ],
   "source": [
    "# path.split\n",
    "\n",
    "os.path.split('/Users/jaeh8nkim/Desktop/file3.txt')"
   ]
  },
  {
   "cell_type": "code",
   "execution_count": 17,
   "id": "6ff6eca4",
   "metadata": {},
   "outputs": [
    {
     "data": {
      "text/plain": [
       "('/Users/jaeh8nkim/Desktop/file3', '.txt')"
      ]
     },
     "execution_count": 17,
     "metadata": {},
     "output_type": "execute_result"
    }
   ],
   "source": [
    "# path.splitext\n",
    "\n",
    "os.path.splitext('/Users/jaeh8nkim/Desktop/file3.txt')"
   ]
  },
  {
   "cell_type": "code",
   "execution_count": null,
   "id": "bf749f5b",
   "metadata": {},
   "outputs": [],
   "source": []
  }
 ],
 "metadata": {
  "kernelspec": {
   "display_name": "Python 3 (ipykernel)",
   "language": "python",
   "name": "python3"
  },
  "language_info": {
   "codemirror_mode": {
    "name": "ipython",
    "version": 3
   },
   "file_extension": ".py",
   "mimetype": "text/x-python",
   "name": "python",
   "nbconvert_exporter": "python",
   "pygments_lexer": "ipython3",
   "version": "3.8.5"
  }
 },
 "nbformat": 4,
 "nbformat_minor": 5
}
