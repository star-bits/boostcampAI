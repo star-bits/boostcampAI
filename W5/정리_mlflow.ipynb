{
 "cells": [
  {
   "cell_type": "markdown",
   "id": "7cfd99a1",
   "metadata": {},
   "source": [
    "설치하기\n",
    "\n",
    "```\n",
    "pip install mlflow\n",
    "\n",
    "```"
   ]
  },
  {
   "cell_type": "markdown",
   "id": "a96210c5",
   "metadata": {},
   "source": [
    "experiment 생성\n",
    "\n",
    "```\n",
    "mlflow experiments create --experiment-name my-first-experiment\n",
    "\n",
    "```"
   ]
  },
  {
   "cell_type": "markdown",
   "id": "abc30563",
   "metadata": {},
   "source": [
    "experiment 리스트 확인\n",
    "\n",
    "```\n",
    "mlflow experiments list\n",
    "\n",
    "```"
   ]
  },
  {
   "cell_type": "markdown",
   "id": "ed1d6337",
   "metadata": {},
   "source": [
    "experiment용 폴더 생성\n",
    "\n",
    "```\n",
    "mkdir logistic_regression\n",
    "\n",
    "```"
   ]
  },
  {
   "cell_type": "markdown",
   "id": "c5b8b27d",
   "metadata": {},
   "source": [
    "train.py 파일 생성\n",
    "\n",
    "```\n",
    "vi logistic_regression/train.py\n",
    "\n",
    "```"
   ]
  },
  {
   "cell_type": "markdown",
   "id": "920ea301",
   "metadata": {},
   "source": [
    "train.py\n",
    "\n",
    "```python\n",
    "import numpy as np\n",
    "from sklearn.linear_model import LogisticRegression\n",
    "\n",
    "import mlflow\n",
    "import mlflow.sklearn\n",
    "\n",
    "if __name__ == \"__main__\":\n",
    "    X = np.array([-2, -1, 0, 1, 2, 1]).reshape(-1, 1)\n",
    "    y = np.array([0, 0, 1, 1, 1, 0])\n",
    "    lr = LogisticRegression()\n",
    "    lr.fit(X, y)\n",
    "    score = lr.score(X, y)\n",
    "    print(\"Score: %s\" % score)\n",
    "    mlflow.log_metric(\"score\", score)\n",
    "    mlflow.sklearn.log_model(lr, \"model\")\n",
    "    print(\"Model saved in run %s\" % mlflow.active_run().info.run_uuid)\n",
    "\n",
    "```"
   ]
  },
  {
   "cell_type": "markdown",
   "id": "bd576f12",
   "metadata": {},
   "source": [
    "MLproject 파일 생성 (확장자 없음)\n",
    "\n",
    "```\n",
    "vi logistic_regression/MLproject\n",
    "\n",
    "```"
   ]
  },
  {
   "cell_type": "markdown",
   "id": "44b92196",
   "metadata": {},
   "source": [
    "MLproject \n",
    "\n",
    "```\n",
    "name: tutorial\n",
    "\n",
    "entry_points:\n",
    "  main:\n",
    "    command: \"python train.py\"\n",
    "\n",
    "```"
   ]
  },
  {
   "cell_type": "markdown",
   "id": "1f1443fd",
   "metadata": {},
   "source": [
    "mlflow 실행\n",
    "\n",
    "```\n",
    "mlflow run logistic_regression --experiment-name my-first-experiment --no-conda\n",
    "\n",
    "```"
   ]
  },
  {
   "cell_type": "markdown",
   "id": "831e5a55",
   "metadata": {},
   "source": [
    "ui 실행\n",
    "\n",
    "```\n",
    "mlflow ui\n",
    "\n",
    "```"
   ]
  },
  {
   "cell_type": "markdown",
   "id": "a86b94ec",
   "metadata": {},
   "source": [
    "ui 출력값\n",
    "\n",
    "```\n",
    "[2022-02-18 03:39:57 +0900] [10130] [INFO] Starting gunicorn 20.1.0\n",
    "[2022-02-18 03:39:57 +0900] [10130] [INFO] Listening at: http://127.0.0.1:5000 (10130)\n",
    "[2022-02-18 03:39:57 +0900] [10130] [INFO] Using worker: sync\n",
    "[2022-02-18 03:39:57 +0900] [10132] [INFO] Booting worker with pid: 10132\n",
    "```\n",
    "\n",
    "http://127.0.0.1:5000 으로 접속"
   ]
  },
  {
   "cell_type": "code",
   "execution_count": null,
   "id": "911a6643",
   "metadata": {},
   "outputs": [],
   "source": []
  }
 ],
 "metadata": {
  "kernelspec": {
   "display_name": "Python 3 (ipykernel)",
   "language": "python",
   "name": "python3"
  },
  "language_info": {
   "codemirror_mode": {
    "name": "ipython",
    "version": 3
   },
   "file_extension": ".py",
   "mimetype": "text/x-python",
   "name": "python",
   "nbconvert_exporter": "python",
   "pygments_lexer": "ipython3",
   "version": "3.9.9"
  }
 },
 "nbformat": 4,
 "nbformat_minor": 5
}
