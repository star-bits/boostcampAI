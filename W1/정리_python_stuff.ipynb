{
 "cells": [
  {
   "cell_type": "markdown",
   "id": "723deb7c",
   "metadata": {},
   "source": [
    "# Python basics"
   ]
  },
  {
   "cell_type": "markdown",
   "id": "01bde06a",
   "metadata": {},
   "source": [
    "### List comprehension"
   ]
  },
  {
   "cell_type": "code",
   "execution_count": 1,
   "id": "b45ea234",
   "metadata": {},
   "outputs": [
    {
     "data": {
      "text/plain": [
       "['ad', 'ae', 'bd', 'be', 'ba', 'cd', 'ce', 'ca']"
      ]
     },
     "execution_count": 1,
     "metadata": {},
     "output_type": "execute_result"
    }
   ],
   "source": [
    "l1 = ['a', 'b', 'c']\n",
    "l2 = ['d', 'e', 'a']\n",
    "\n",
    "l = [i+j for i in l1 for j in l2 if not(i==j)]\n",
    "l"
   ]
  },
  {
   "cell_type": "code",
   "execution_count": 2,
   "id": "63527d95",
   "metadata": {},
   "outputs": [
    {
     "name": "stdout",
     "output_type": "stream",
     "text": [
      "a1 b1\n",
      "a2 b2\n",
      "a3 b3\n"
     ]
    }
   ],
   "source": [
    "l1 = ['a1', 'a2', 'a3']\n",
    "l2 = ['b1', 'b2', 'b3']\n",
    "\n",
    "for a, b in zip(l1, l2):\n",
    "    print(a, b)"
   ]
  },
  {
   "cell_type": "markdown",
   "id": "65234e68",
   "metadata": {},
   "source": [
    "### lambda"
   ]
  },
  {
   "cell_type": "code",
   "execution_count": 5,
   "id": "2a23e442",
   "metadata": {},
   "outputs": [],
   "source": [
    "f = lambda x, y: x+y"
   ]
  },
  {
   "cell_type": "code",
   "execution_count": 4,
   "id": "dbe1625d",
   "metadata": {},
   "outputs": [],
   "source": [
    "def f(x, y):\n",
    "    return x+y"
   ]
  },
  {
   "cell_type": "code",
   "execution_count": 6,
   "id": "150a881c",
   "metadata": {},
   "outputs": [
    {
     "name": "stdout",
     "output_type": "stream",
     "text": [
      "5\n"
     ]
    }
   ],
   "source": [
    "print(f(1, 4))"
   ]
  },
  {
   "cell_type": "markdown",
   "id": "25de65aa",
   "metadata": {},
   "source": [
    "### map"
   ]
  },
  {
   "cell_type": "code",
   "execution_count": 7,
   "id": "1237b03e",
   "metadata": {},
   "outputs": [
    {
     "data": {
      "text/plain": [
       "[1, 4, 9, 16, 25]"
      ]
     },
     "execution_count": 7,
     "metadata": {},
     "output_type": "execute_result"
    }
   ],
   "source": [
    "l = [1, 2, 3, 4, 5]\n",
    "f = lambda x: x**2\n",
    "list(map(f, l))\n",
    "\n",
    "# map(function, sequence)\n",
    "# sequence형 데이터에 mapping을 해줌"
   ]
  },
  {
   "cell_type": "markdown",
   "id": "4860355a",
   "metadata": {},
   "source": [
    "### 하지만 map은 사용 권장 ㄴㄴ"
   ]
  },
  {
   "cell_type": "code",
   "execution_count": 8,
   "id": "7f04ef8f",
   "metadata": {},
   "outputs": [
    {
     "data": {
      "text/plain": [
       "[1, 4, 9, 16, 25]"
      ]
     },
     "execution_count": 8,
     "metadata": {},
     "output_type": "execute_result"
    }
   ],
   "source": [
    "def f(x):\n",
    "    return x**2\n",
    "\n",
    "[f(x) for x in l]"
   ]
  },
  {
   "cell_type": "code",
   "execution_count": 9,
   "id": "193a530f",
   "metadata": {},
   "outputs": [
    {
     "data": {
      "text/plain": [
       "[1, 4, 3, 16, 5]"
      ]
     },
     "execution_count": 9,
     "metadata": {},
     "output_type": "execute_result"
    }
   ],
   "source": [
    "list(map(lambda x: x**2 if x%2==0 else x, l))"
   ]
  },
  {
   "cell_type": "code",
   "execution_count": 10,
   "id": "6e647edf",
   "metadata": {},
   "outputs": [
    {
     "data": {
      "text/plain": [
       "[1, 4, 3, 16, 5]"
      ]
     },
     "execution_count": 10,
     "metadata": {},
     "output_type": "execute_result"
    }
   ],
   "source": [
    "[x**2 if x%2==0 else x for x in l]"
   ]
  },
  {
   "cell_type": "markdown",
   "id": "e0140461",
   "metadata": {},
   "source": [
    "### Asterisk stuff"
   ]
  },
  {
   "cell_type": "code",
   "execution_count": 11,
   "id": "beedf54c",
   "metadata": {},
   "outputs": [
    {
     "name": "stdout",
     "output_type": "stream",
     "text": [
      "15\n"
     ]
    }
   ],
   "source": [
    "# function passing arguments\n",
    "\n",
    "# variable-length arguments\n",
    "# 입력된 값은 tuple type\n",
    "\n",
    "def args_test(a, b, *args):\n",
    "    return a + b + sum(args)\n",
    "\n",
    "print(args_test(1, 2, 3, 4, 5))"
   ]
  },
  {
   "cell_type": "code",
   "execution_count": 12,
   "id": "f333e5a4",
   "metadata": {},
   "outputs": [
    {
     "name": "stdout",
     "output_type": "stream",
     "text": [
      "(3, 4, 5)\n",
      "{'first': 6, 'second': 7, 'third': 8}\n",
      "6\n"
     ]
    }
   ],
   "source": [
    "# keyword variable-length arguments\n",
    "# 입력된 값은 dict type\n",
    "\n",
    "def kwargs_test(one, two, *args, **kwargs):\n",
    "    print(args)\n",
    "    print(kwargs)\n",
    "    print(kwargs['first'])\n",
    "    \n",
    "kwargs_test(1, 2, 3, 4, 5, first=6, second=7, third=8)"
   ]
  },
  {
   "cell_type": "code",
   "execution_count": 13,
   "id": "b7f4d211",
   "metadata": {},
   "outputs": [
    {
     "name": "stdout",
     "output_type": "stream",
     "text": [
      "1 (2, 3, 4, 5, 6)\n",
      "<class 'tuple'>\n"
     ]
    }
   ],
   "source": [
    "# asterisk unpacking\n",
    "\n",
    "def unpacking_1(a, *args):\n",
    "    print(a, args)\n",
    "    print(type(args))\n",
    "    \n",
    "unpacking_1(1, *(2, 3, 4, 5, 6))"
   ]
  },
  {
   "cell_type": "code",
   "execution_count": 14,
   "id": "e3ecdcb8",
   "metadata": {},
   "outputs": [
    {
     "name": "stdout",
     "output_type": "stream",
     "text": [
      "10 1 2 3\n"
     ]
    }
   ],
   "source": [
    "def unpacking_2(a, b, c, d):\n",
    "    print(a, b, c, d)\n",
    "    \n",
    "data = {'b': 1, 'c': 2, 'd': 3}\n",
    "\n",
    "unpacking_2(10, **data)"
   ]
  },
  {
   "cell_type": "markdown",
   "id": "27b6406d",
   "metadata": {},
   "source": [
    "# OOP"
   ]
  },
  {
   "cell_type": "code",
   "execution_count": 15,
   "id": "97e84f1d",
   "metadata": {},
   "outputs": [
    {
     "name": "stdout",
     "output_type": "stream",
     "text": [
      "name: Son, back number: 7\n",
      "name: Son, back number: 10\n",
      "name: Son, back number: 20\n"
     ]
    }
   ],
   "source": [
    "# attribute(variable) and action(method)\n",
    "\n",
    "# class: blueprint, instance: realization\n",
    "\n",
    "# attribute 추가하려면 __init__\n",
    "\n",
    "# method에 self를 추가해야 class의 함수로 인정됨\n",
    "\n",
    "class SoccerPlayer(object):\n",
    "    def __init__(self, name: str, back_num: int):\n",
    "        self.name = name\n",
    "        self.back_num = back_num\n",
    "        \n",
    "    def __str__(self):\n",
    "        return f'name: {self.name}, back number: {self.back_num}'\n",
    "    \n",
    "    def change_back_num(self, new_num):\n",
    "        self.back_num = new_num\n",
    "\n",
    "son = SoccerPlayer('Son', 7)\n",
    "\n",
    "print(son)\n",
    "\n",
    "son.change_back_num(10)\n",
    "print(son)\n",
    "\n",
    "son.back_num = 20\n",
    "print(son)"
   ]
  },
  {
   "cell_type": "code",
   "execution_count": 21,
   "id": "073ab720",
   "metadata": {},
   "outputs": [
    {
     "name": "stdout",
     "output_type": "stream",
     "text": [
      "name: Lee, age: 22\n",
      "salary: 200\n"
     ]
    }
   ],
   "source": [
    "# Inheritance\n",
    "# 부모 클래스로부터 attribute와 method를 물려받음\n",
    "\n",
    "class Person(object):\n",
    "    def __init__(self, name, age):\n",
    "        self.name = name\n",
    "        self.age = age\n",
    "        \n",
    "    def about_me(self):\n",
    "        print(f'name: {self.name}, age: {self.age}')\n",
    "        \n",
    "class Employee(Person):\n",
    "    def __init__(self, name, age, salary):\n",
    "        super().__init__(name, age) # 부모 객체 사용\n",
    "        self.salary = salary\n",
    "        \n",
    "    def about_me(self):\n",
    "        super().about_me()\n",
    "        print(f'salary: {self.salary}')\n",
    "\n",
    "e1 = Employee('Lee', 22, 200)\n",
    "\n",
    "e1.about_me()"
   ]
  },
  {
   "cell_type": "markdown",
   "id": "49ec9c73",
   "metadata": {},
   "source": [
    "# File handling"
   ]
  },
  {
   "cell_type": "markdown",
   "id": "725b047e",
   "metadata": {},
   "source": [
    "### read, readlines, readline"
   ]
  },
  {
   "cell_type": "code",
   "execution_count": 37,
   "id": "12726f37",
   "metadata": {},
   "outputs": [
    {
     "name": "stdout",
     "output_type": "stream",
     "text": [
      "20\n",
      "aaaa\n",
      "bbbb\n",
      "\n",
      "cccc\n",
      "dddd\n"
     ]
    }
   ],
   "source": [
    "# read()\n",
    "\n",
    "f = open('a.txt', 'r')\n",
    "l = f.read() # returns everything within the file as a single string\n",
    "print(len(l))\n",
    "print(l)\n",
    "f.close()"
   ]
  },
  {
   "cell_type": "code",
   "execution_count": 38,
   "id": "0d10a14b",
   "metadata": {},
   "outputs": [
    {
     "name": "stdout",
     "output_type": "stream",
     "text": [
      "20\n",
      "aaaa\n",
      "bbbb\n",
      "\n",
      "cccc\n",
      "dddd\n"
     ]
    }
   ],
   "source": [
    "# with \n",
    "\n",
    "with open('a.txt', 'r') as f:\n",
    "    l = f.read()\n",
    "    print(len(l))\n",
    "    print(l)"
   ]
  },
  {
   "cell_type": "code",
   "execution_count": 39,
   "id": "b8a454a6",
   "metadata": {},
   "outputs": [
    {
     "name": "stdout",
     "output_type": "stream",
     "text": [
      "5\n",
      "['aaaa\\n', 'bbbb\\n', '\\n', 'cccc\\n', 'dddd']\n"
     ]
    }
   ],
   "source": [
    "# readlines()\n",
    "\n",
    "with open('a.txt', 'r') as f:\n",
    "    l = f.readlines() # all data into a list\n",
    "    print(len(l))\n",
    "    print(l)"
   ]
  },
  {
   "cell_type": "code",
   "execution_count": 48,
   "id": "a8465680",
   "metadata": {},
   "outputs": [
    {
     "name": "stdout",
     "output_type": "stream",
     "text": [
      "4\n",
      "aaaa\n",
      "4\n",
      "bbbb\n",
      "0\n",
      "\n",
      "4\n",
      "cccc\n",
      "4\n",
      "dddd\n"
     ]
    }
   ],
   "source": [
    "# readline()\n",
    "\n",
    "with open('a.txt', 'r') as f:\n",
    "    for i in range(5):\n",
    "        l = f.readline().strip() # single line separated by newline\n",
    "        print(len(l))\n",
    "        print(l)"
   ]
  },
  {
   "cell_type": "code",
   "execution_count": 53,
   "id": "b91b85eb",
   "metadata": {},
   "outputs": [
    {
     "name": "stdout",
     "output_type": "stream",
     "text": [
      "4\n",
      "aaaa\n",
      "4\n",
      "bbbb\n",
      "0\n",
      "\n",
      "4\n",
      "cccc\n",
      "4\n",
      "dddd\n"
     ]
    }
   ],
   "source": [
    "with open('a.txt', 'r') as f:\n",
    "    for l in f.readlines():\n",
    "        l = l.strip()\n",
    "        print(len(l))\n",
    "        print(l)"
   ]
  },
  {
   "cell_type": "code",
   "execution_count": 58,
   "id": "adef282f",
   "metadata": {},
   "outputs": [],
   "source": [
    "with open('b.txt', 'w', encoding='utf8') as f:\n",
    "    for i in range(10):\n",
    "        f.write(str(i)+'\\n')"
   ]
  },
  {
   "cell_type": "markdown",
   "id": "ece10e99",
   "metadata": {},
   "source": [
    "### directory"
   ]
  },
  {
   "cell_type": "code",
   "execution_count": 143,
   "id": "a885c67d",
   "metadata": {},
   "outputs": [],
   "source": [
    "import os\n",
    "\n",
    "os.mkdir('d')"
   ]
  },
  {
   "cell_type": "code",
   "execution_count": 144,
   "id": "e60b457d",
   "metadata": {},
   "outputs": [
    {
     "name": "stdout",
     "output_type": "stream",
     "text": [
      "File already exists\n"
     ]
    }
   ],
   "source": [
    "try:\n",
    "    os.mkdir('d')\n",
    "except FileExistsError as e:\n",
    "    print('File already exists')"
   ]
  },
  {
   "cell_type": "code",
   "execution_count": 145,
   "id": "9383e0d6",
   "metadata": {},
   "outputs": [
    {
     "data": {
      "text/plain": [
       "True"
      ]
     },
     "execution_count": 145,
     "metadata": {},
     "output_type": "execute_result"
    }
   ],
   "source": [
    "os.path.exists('d')"
   ]
  },
  {
   "cell_type": "code",
   "execution_count": 146,
   "id": "3f3bbe10",
   "metadata": {},
   "outputs": [
    {
     "data": {
      "text/plain": [
       "True"
      ]
     },
     "execution_count": 146,
     "metadata": {},
     "output_type": "execute_result"
    }
   ],
   "source": [
    "os.path.isdir('d')"
   ]
  },
  {
   "cell_type": "code",
   "execution_count": 147,
   "id": "48ae6f54",
   "metadata": {},
   "outputs": [
    {
     "data": {
      "text/plain": [
       "'./c.txt'"
      ]
     },
     "execution_count": 147,
     "metadata": {},
     "output_type": "execute_result"
    }
   ],
   "source": [
    "import shutil\n",
    "\n",
    "source = 'b.txt'\n",
    "dest = os.path.join('.', 'c.txt')\n",
    "shutil.copy(source, dest)"
   ]
  },
  {
   "cell_type": "code",
   "execution_count": 149,
   "id": "b7faaf4a",
   "metadata": {},
   "outputs": [],
   "source": [
    "import pathlib\n",
    "\n",
    "cwd = pathlib.Path.cwd()\n",
    "cwd"
   ]
  },
  {
   "cell_type": "code",
   "execution_count": 69,
   "id": "47e274b9",
   "metadata": {},
   "outputs": [],
   "source": [
    "cwd.parent"
   ]
  },
  {
   "cell_type": "markdown",
   "id": "e2356c8d",
   "metadata": {},
   "source": [
    "### pickle"
   ]
  },
  {
   "cell_type": "code",
   "execution_count": 150,
   "id": "779b1736",
   "metadata": {},
   "outputs": [],
   "source": [
    "import pickle\n",
    "\n",
    "l = [1, 2, 3, 4, 5]\n",
    "\n",
    "with open('d/pickle_example.pickle', 'wb') as f:\n",
    "    pickle.dump(l, f)"
   ]
  },
  {
   "cell_type": "code",
   "execution_count": 151,
   "id": "a5f7a4a6",
   "metadata": {},
   "outputs": [
    {
     "name": "stdout",
     "output_type": "stream",
     "text": [
      "[1, 2, 3, 4, 5]\n"
     ]
    }
   ],
   "source": [
    "with open('d/pickle_example.pickle', 'rb') as f:\n",
    "    p = pickle.load(f)\n",
    "\n",
    "print(p)"
   ]
  },
  {
   "cell_type": "markdown",
   "id": "d173ccf3",
   "metadata": {},
   "source": [
    "# Data handling"
   ]
  },
  {
   "cell_type": "markdown",
   "id": "c8165fa3",
   "metadata": {},
   "source": [
    "### csv"
   ]
  },
  {
   "cell_type": "code",
   "execution_count": 166,
   "id": "e626ff90",
   "metadata": {},
   "outputs": [
    {
     "name": "stdout",
     "output_type": "stream",
     "text": [
      "['customerNumber', 'customerName', 'contactLastName', 'contactFirstName', 'phone', 'addressLine1', 'addressLine2', 'city', 'state', 'postalCode', 'country', 'salesRepEmployeeNumber', 'creditLimit\\n']\n",
      "['103', '\"Atelier graphique\"', 'Schmitt', '\"Carine \"', '40.32.2555', '\"54', ' rue Royale\"', 'NULL', 'Nantes', 'NULL', '44000', 'France', '1370', '21000\\n']\n",
      "['112', '\"Signal Gift Stores\"', 'King', 'Jean', '7025551838', '\"8489 Strong St.\"', 'NULL', '\"Las Vegas\"', 'NV', '83030', 'USA', '1166', '71800\\n']\n",
      "['114', '\"Australian Collectors', ' Co.\"', 'Ferguson', 'Peter', '\"03 9520 4555\"', '\"636 St Kilda Road\"', '\"Level 3\"', 'Melbourne', 'Victoria', '3004', 'Australia', '1611', '117300\\n']\n",
      "['119', '\"La Rochelle Gifts\"', 'Labrune', '\"Janine \"', '40.67.8555', '\"67', ' rue des Cinquante Otages\"', 'NULL', 'Nantes', 'NULL', '44000', 'France', '1370', '118200\\n']\n",
      "['121', '\"Baane Mini Imports\"', 'Bergulfsen', '\"Jonas \"', '\"07-98 9555\"', '\"Erling Skakkes gate 78\"', 'NULL', 'Stavern', 'NULL', '4110', 'Norway', '1504', '81700\\n']\n",
      "122\n"
     ]
    }
   ],
   "source": [
    "header_flag = True\n",
    "data_header = []\n",
    "customer_list = []\n",
    "\n",
    "with open('d/csv_example.csv') as f:\n",
    "    while True:\n",
    "        data = f.readline()\n",
    "        \n",
    "        if not data:\n",
    "            break\n",
    "        \n",
    "        if header_flag:\n",
    "            data_header = data.split(',')\n",
    "        \n",
    "        else:\n",
    "            customer_list.append(data.split(','))\n",
    "        \n",
    "        header_flag = False\n",
    "        \n",
    "print(data_header)\n",
    "for i in range(5):\n",
    "    print(customer_list[i])\n",
    "print(len(customer_list))"
   ]
  },
  {
   "cell_type": "code",
   "execution_count": 167,
   "id": "9828744d",
   "metadata": {},
   "outputs": [
    {
     "name": "stdout",
     "output_type": "stream",
     "text": [
      "['112', '\"Signal Gift Stores\"', 'King', 'Jean', '7025551838', '\"8489 Strong St.\"', 'NULL', '\"Las Vegas\"', 'NV', '83030', 'USA', '1166', '71800\\n']\n",
      "['124', '\"Mini Gifts Distributors Ltd.\"', 'Nelson', 'Susan', '4155551450', '\"5677 Strong St.\"', 'NULL', '\"San Rafael\"', 'CA', '97562', 'USA', '1165', '210500\\n']\n",
      "['129', '\"Mini Wheels Co.\"', 'Murphy', 'Julie', '6505555787', '\"5557 North Pendale Street\"', 'NULL', '\"San Francisco\"', 'CA', '94217', 'USA', '1165', '64600\\n']\n",
      "['131', '\"Land of Toys Inc.\"', 'Lee', 'Kwai', '2125557818', '\"897 Long Airport Avenue\"', 'NULL', 'NYC', 'NY', '10022', 'USA', '1323', '114900\\n']\n",
      "['151', '\"Muscle Machine Inc\"', 'Young', 'Jeff', '2125557413', '\"4092 Furth Circle\"', '\"Suite 400\"', 'NYC', 'NY', '10022', 'USA', '1286', '138500\\n']\n",
      "34\n"
     ]
    }
   ],
   "source": [
    "customer_USA_only_list = []\n",
    "\n",
    "with open('d/csv_example.csv', 'r') as f:\n",
    "    while True:\n",
    "        data = f.readline()\n",
    "        \n",
    "        if not data:\n",
    "            break\n",
    "        \n",
    "        else:\n",
    "            if data.split(',')[10]=='USA':\n",
    "                customer_USA_only_list.append(data.split(','))\n",
    "                \n",
    "for i in range(5):\n",
    "    print(customer_USA_only_list[i])\n",
    "print(len(customer_USA_only_list))\n",
    "\n",
    "with open('d/csv_w_example.csv', 'w') as f:\n",
    "    for customer in customer_USA_only_list:\n",
    "        f.write(','.join(customer))"
   ]
  },
  {
   "cell_type": "markdown",
   "id": "38a831eb",
   "metadata": {},
   "source": [
    "### html"
   ]
  },
  {
   "cell_type": "code",
   "execution_count": 78,
   "id": "27e7a25d",
   "metadata": {},
   "outputs": [
    {
     "data": {
      "text/plain": [
       "['codo***',\n",
       " 'outb7***',\n",
       " 'dubba4***',\n",
       " 'multicuspi***',\n",
       " 'crownm***',\n",
       " 'triformo***',\n",
       " 'spania***',\n",
       " 'magazin***',\n",
       " 'presby***',\n",
       " 'trophody***',\n",
       " 'nontr***',\n",
       " 'enranck***',\n",
       " 'canc***',\n",
       " 'uncanker***',\n",
       " 'wrymo***',\n",
       " 'non***',\n",
       " 'luminat***',\n",
       " 'oblig***',\n",
       " 'anna***',\n",
       " 'hyperth***',\n",
       " 'toplabl***',\n",
       " 'dolce0***',\n",
       " 'rudals2***',\n",
       " 'jjw980***',\n",
       " 'elvlz***',\n",
       " 'skmid***',\n",
       " 'qkep***',\n",
       " 'kisslov***',\n",
       " 'maskman***',\n",
       " 'sungt***']"
      ]
     },
     "execution_count": 78,
     "metadata": {},
     "output_type": "execute_result"
    }
   ],
   "source": [
    "import re\n",
    "import urllib.request\n",
    "\n",
    "url = 'http://goo.gl/U7mSQl'\n",
    "html = urllib.request.urlopen(url)\n",
    "html_contents = str(html.read())\n",
    "# regular expression\n",
    "id_results = re.findall(r'([A-Za-z0-9]+\\*\\*\\*)', html_contents)\n",
    "\n",
    "id_results"
   ]
  },
  {
   "cell_type": "code",
   "execution_count": 169,
   "id": "739812ea",
   "metadata": {},
   "outputs": [
    {
     "name": "stdout",
     "output_type": "stream",
     "text": [
      "2022년 02월 03일 16시 11분 기준 장마감\n",
      "종목명 삼성전자\n",
      "종목코드 005930 코스피\n",
      "현재가 73,300 전일대비 보합 0  0.00 퍼센트\n",
      "전일가 73,300\n",
      "시가 74,900\n",
      "고가 74,900\n",
      "상한가 95,200\n",
      "저가 73,300\n",
      "하한가 51,400\n",
      "거래량 17,400,508\n",
      "거래대금 1,289,052백만\n"
     ]
    }
   ],
   "source": [
    "url = 'http://finance.naver.com/item/main.nhn?code=005930'\n",
    "html = urllib.request.urlopen(url)\n",
    "html_contents = str(html.read().decode('ms949'))\n",
    "\n",
    "# <dl class=\"blind\"> 에서 시작해서 </dl> 사이에 아무 글자나\n",
    "stock_results = re.findall('(\\<dl class=\\\"blind\\\"\\>)([\\s\\S]+?)(\\<\\/dl\\>)', html_contents)\n",
    "samsung_stock = stock_results[0]\n",
    "samsung_index = samsung_stock[1]\n",
    "# <dd> 에서 시작해서 </dd> 사이에 아무 글자나\n",
    "index_list = re.findall('(\\<dd\\>)([\\s\\S]+?)(\\<\\/dd\\>)', samsung_index)\n",
    "\n",
    "for index in index_list:\n",
    "    print(index[1])"
   ]
  },
  {
   "cell_type": "markdown",
   "id": "c809d3ec",
   "metadata": {},
   "source": [
    "### xml"
   ]
  },
  {
   "cell_type": "code",
   "execution_count": 171,
   "id": "63c77b40",
   "metadata": {},
   "outputs": [
    {
     "name": "stdout",
     "output_type": "stream",
     "text": [
      "<author>Carson</author>\n",
      "Carson\n",
      "<author>Sungchul</author>\n",
      "Sungchul\n"
     ]
    }
   ],
   "source": [
    "from bs4 import BeautifulSoup\n",
    "\n",
    "with open('d/xml_example.xml', 'r', encoding='utf8') as f:\n",
    "    books_xml = f.read()\n",
    "\n",
    "soup = BeautifulSoup(books_xml, 'html')\n",
    "\n",
    "for book_info in soup.find_all('author'):\n",
    "    print(book_info)\n",
    "    print(book_info.get_text())"
   ]
  },
  {
   "cell_type": "markdown",
   "id": "383c3168",
   "metadata": {},
   "source": [
    "### json"
   ]
  },
  {
   "cell_type": "code",
   "execution_count": 154,
   "id": "81ba73a8",
   "metadata": {
    "scrolled": true
   },
   "outputs": [
    {
     "name": "stdout",
     "output_type": "stream",
     "text": [
      "[{'firstName': 'John', 'lastName': 'Doe'}, {'firstName': 'Anna', 'lastName': 'Smith'}, {'firstName': 'Peter', 'lastName': 'Jones'}]\n"
     ]
    }
   ],
   "source": [
    "import json\n",
    "\n",
    "with open('d/json_example.json', 'r', encoding='utf8') as f:\n",
    "    contents = f.read()\n",
    "    json_data = json.loads(contents)\n",
    "    print(json_data[\"employees\"])"
   ]
  },
  {
   "cell_type": "code",
   "execution_count": null,
   "id": "344ba0a1",
   "metadata": {},
   "outputs": [],
   "source": []
  }
 ],
 "metadata": {
  "kernelspec": {
   "display_name": "Python 3 (ipykernel)",
   "language": "python",
   "name": "python3"
  },
  "language_info": {
   "codemirror_mode": {
    "name": "ipython",
    "version": 3
   },
   "file_extension": ".py",
   "mimetype": "text/x-python",
   "name": "python",
   "nbconvert_exporter": "python",
   "pygments_lexer": "ipython3",
   "version": "3.9.9"
  }
 },
 "nbformat": 4,
 "nbformat_minor": 5
}
