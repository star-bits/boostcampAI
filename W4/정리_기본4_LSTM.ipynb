{
 "cells": [
  {
   "cell_type": "code",
   "execution_count": 4,
   "id": "8de68961",
   "metadata": {},
   "outputs": [
    {
     "name": "stdout",
     "output_type": "stream",
     "text": [
      "1.10.2\n"
     ]
    }
   ],
   "source": [
    "import numpy as np\n",
    "import matplotlib.pyplot as plt\n",
    "import torch\n",
    "import torch.nn as nn\n",
    "import torch.optim as optim\n",
    "import torch.nn.functional as F\n",
    "from torchvision import datasets, transforms\n",
    "from tqdm import tqdm\n",
    "\n",
    "print(torch.__version__)"
   ]
  },
  {
   "cell_type": "code",
   "execution_count": 23,
   "id": "83a127b0",
   "metadata": {},
   "outputs": [
    {
     "name": "stdout",
     "output_type": "stream",
     "text": [
      "cpu\n"
     ]
    }
   ],
   "source": [
    "device = torch.device('cuda:0' if torch.cuda.is_available() else 'cpu')\n",
    "print (device)"
   ]
  },
  {
   "cell_type": "code",
   "execution_count": 6,
   "id": "a1a31ff0",
   "metadata": {},
   "outputs": [
    {
     "name": "stdout",
     "output_type": "stream",
     "text": [
      "Dataset MNIST\n",
      "    Number of datapoints: 60000\n",
      "    Root location: ./mnist/\n",
      "    Split: Train\n",
      "    StandardTransform\n",
      "Transform: ToTensor()\n",
      "Dataset MNIST\n",
      "    Number of datapoints: 10000\n",
      "    Root location: ./mnist/\n",
      "    Split: Test\n",
      "    StandardTransform\n",
      "Transform: ToTensor()\n"
     ]
    }
   ],
   "source": [
    "# dataset\n",
    "\n",
    "mnist_train = datasets.MNIST(root='./mnist/',\n",
    "                             train=True,\n",
    "                             transform=transforms.ToTensor(),\n",
    "                             download=True)\n",
    "mnist_test = datasets.MNIST(root='./mnist/',\n",
    "                            train=False,\n",
    "                            transform=transforms.ToTensor(),\n",
    "                            download=True)\n",
    "\n",
    "print(mnist_train)\n",
    "print(mnist_test)"
   ]
  },
  {
   "cell_type": "code",
   "execution_count": 7,
   "id": "1cafe962",
   "metadata": {},
   "outputs": [],
   "source": [
    "# dataloader\n",
    "\n",
    "BATCH_SIZE = 256\n",
    "\n",
    "train_iter = torch.utils.data.DataLoader(mnist_train,batch_size=BATCH_SIZE,shuffle=True,num_workers=1)\n",
    "test_iter = torch.utils.data.DataLoader(mnist_test,batch_size=BATCH_SIZE,shuffle=True,num_workers=1)\n"
   ]
  },
  {
   "cell_type": "code",
   "execution_count": 9,
   "id": "021cf37a",
   "metadata": {},
   "outputs": [],
   "source": [
    "# model\n",
    "\n",
    "class RNNClass(nn.Module):\n",
    "    \n",
    "    def __init__(self, \n",
    "                 name='rnn', \n",
    "                 xdim=28, \n",
    "                 hdim=256, \n",
    "                 ydim=10, \n",
    "                 n_layers=3):\n",
    "        super(RNNClass, self).__init__()\n",
    "        self.name = name\n",
    "        self.xdim = xdim\n",
    "        self.hdim = hdim\n",
    "        self.ydim = ydim\n",
    "        self.n_layers = n_layers\n",
    "        \n",
    "        self.rnn = nn.LSTM(input_size=self.xdim, \n",
    "                           hidden_size=self.hdim, \n",
    "                           num_layers=self.n_layers, \n",
    "                           batch_first=True)\n",
    "        self.lin = nn.Linear(self.hdim, self.ydim)\n",
    "                \n",
    "    def forward(self, x):\n",
    "        \n",
    "        h0 = torch.zeros(self.n_layers, x.size(0), self.hdim).to(device)\n",
    "        c0 = torch.zeros(self.n_layers, x.size(0), self.hdim).to(device)\n",
    "        \n",
    "        rnn_out, (hn, cn) = self.rnn(x, (h0, c0))\n",
    "        \n",
    "        out = self.lin(rnn_out[:, -1:]).view([-1, self.ydim])\n",
    "        return out\n",
    "    \n",
    "R = RNNClass(name='rnn', \n",
    "             xdim=28, \n",
    "             hdim=256, \n",
    "             ydim=10,\n",
    "             n_layers=2).to(device)\n",
    "\n",
    "loss = nn.CrossEntropyLoss()\n",
    "\n",
    "optm = optim.Adam(R.parameters(), lr=1e-3)  "
   ]
  },
  {
   "cell_type": "code",
   "execution_count": 10,
   "id": "43385742",
   "metadata": {},
   "outputs": [
    {
     "name": "stdout",
     "output_type": "stream",
     "text": [
      "rnn.weight_ih_l0 torch.Size([1024, 28])\n",
      "rnn.weight_hh_l0 torch.Size([1024, 256])\n",
      "rnn.bias_ih_l0 torch.Size([1024])\n",
      "rnn.bias_hh_l0 torch.Size([1024])\n",
      "rnn.weight_ih_l1 torch.Size([1024, 256])\n",
      "rnn.weight_hh_l1 torch.Size([1024, 256])\n",
      "rnn.bias_ih_l1 torch.Size([1024])\n",
      "rnn.bias_hh_l1 torch.Size([1024])\n",
      "lin.weight torch.Size([10, 256])\n",
      "lin.bias torch.Size([10])\n",
      "821770\n"
     ]
    }
   ],
   "source": [
    "# check parameters\n",
    "\n",
    "n_param = 0\n",
    "\n",
    "for param_name, param in R.named_parameters():\n",
    "    \n",
    "    n_param += len(param.reshape(-1))\n",
    "    \n",
    "    print(param_name, param.shape)\n",
    "    \n",
    "print(n_param)"
   ]
  },
  {
   "cell_type": "code",
   "execution_count": 11,
   "id": "81080a4b",
   "metadata": {},
   "outputs": [
    {
     "data": {
      "text/plain": [
       "RNNClass(\n",
       "  (rnn): LSTM(28, 256, num_layers=2, batch_first=True)\n",
       "  (lin): Linear(in_features=256, out_features=10, bias=True)\n",
       ")"
      ]
     },
     "execution_count": 11,
     "metadata": {},
     "output_type": "execute_result"
    }
   ],
   "source": [
    "R"
   ]
  },
  {
   "cell_type": "code",
   "execution_count": 14,
   "id": "c19a9e8b",
   "metadata": {},
   "outputs": [
    {
     "name": "stdout",
     "output_type": "stream",
     "text": [
      "x_numpy: (3, 10, 28)\n",
      "x_torch: torch.Size([3, 10, 28])\n",
      "y_torch: torch.Size([3, 10])\n",
      "y_numpy: (3, 10)\n"
     ]
    }
   ],
   "source": [
    "# simple forward pass\n",
    "\n",
    "np.set_printoptions(precision=3)\n",
    "torch.set_printoptions(precision=3)\n",
    "\n",
    "x_numpy = np.random.rand(3, 10, 28)\n",
    "x_torch = torch.from_numpy(x_numpy).float().to(device)\n",
    "y_torch = R.forward(x_torch)\n",
    "y_numpy = y_torch.detach().cpu().numpy()\n",
    "\n",
    "print (f'x_numpy: {x_numpy.shape}')\n",
    "print (f'x_torch: {x_torch.shape}')\n",
    "print (f'y_torch: {y_torch.shape}')\n",
    "print (f'y_numpy: {y_numpy.shape}')"
   ]
  },
  {
   "cell_type": "code",
   "execution_count": 19,
   "id": "f67d9c35",
   "metadata": {},
   "outputs": [],
   "source": [
    "# eval func\n",
    "\n",
    "def func_eval(model, data_iter, device):\n",
    "\n",
    "    with torch.no_grad():\n",
    "        model.eval()\n",
    "        # torch.no_grad & model.eval(): evaluation mode\n",
    "        # turns off dropout and BN\n",
    "        \n",
    "        n_correct, n_total = 0, 0\n",
    "        \n",
    "        for X, y in data_iter:\n",
    "            \n",
    "            y = y.to(device)\n",
    "            output = model.forward(X.view(-1, 28, 28).to(device))\n",
    "            _, y_pred = torch.max(output, 1)\n",
    "            \n",
    "            n_correct += (y_pred==y).sum().item()\n",
    "            n_total += X.size(0)\n",
    "            \n",
    "        acc = n_correct/n_total\n",
    "        \n",
    "        model.train()\n",
    "        \n",
    "    return acc"
   ]
  },
  {
   "cell_type": "code",
   "execution_count": 20,
   "id": "d5cb4844",
   "metadata": {},
   "outputs": [
    {
     "name": "stdout",
     "output_type": "stream",
     "text": [
      "0.09871666666666666\n",
      "0.098\n"
     ]
    }
   ],
   "source": [
    "train_acc = func_eval(R, train_iter, device)\n",
    "test_acc = func_eval(R, test_iter, device)\n",
    "\n",
    "print(train_acc)\n",
    "print(test_acc)"
   ]
  },
  {
   "cell_type": "code",
   "execution_count": 22,
   "id": "0273fb6e",
   "metadata": {},
   "outputs": [
    {
     "data": {
      "application/vnd.jupyter.widget-view+json": {
       "model_id": "a3e2f456acb54ccf8d555ed6af9a430b",
       "version_major": 2,
       "version_minor": 0
      },
      "text/plain": [
       "  0%|          | 0/235 [00:00<?, ?it/s]"
      ]
     },
     "metadata": {},
     "output_type": "display_data"
    },
    {
     "name": "stdout",
     "output_type": "stream",
     "text": [
      "epoch: 0, loss: 0.14054667949676514\n",
      "train_acc: 0.9698166666666667, test_acc: 0.9674\n"
     ]
    },
    {
     "data": {
      "application/vnd.jupyter.widget-view+json": {
       "model_id": "f545e2a914914ba59b25507930f7a548",
       "version_major": 2,
       "version_minor": 0
      },
      "text/plain": [
       "  0%|          | 0/235 [00:00<?, ?it/s]"
      ]
     },
     "metadata": {},
     "output_type": "display_data"
    },
    {
     "name": "stdout",
     "output_type": "stream",
     "text": [
      "epoch: 1, loss: 0.08790548890829086\n",
      "train_acc: 0.9807, test_acc: 0.9781\n"
     ]
    },
    {
     "data": {
      "application/vnd.jupyter.widget-view+json": {
       "model_id": "8f1fb11b06544d1f8683258c7e73121c",
       "version_major": 2,
       "version_minor": 0
      },
      "text/plain": [
       "  0%|          | 0/235 [00:00<?, ?it/s]"
      ]
     },
     "metadata": {},
     "output_type": "display_data"
    },
    {
     "name": "stdout",
     "output_type": "stream",
     "text": [
      "epoch: 2, loss: 0.06268253177404404\n",
      "train_acc: 0.9793, test_acc: 0.9778\n"
     ]
    },
    {
     "data": {
      "application/vnd.jupyter.widget-view+json": {
       "model_id": "a473029c9274476191ce487f8131fb7c",
       "version_major": 2,
       "version_minor": 0
      },
      "text/plain": [
       "  0%|          | 0/235 [00:00<?, ?it/s]"
      ]
     },
     "metadata": {},
     "output_type": "display_data"
    },
    {
     "name": "stdout",
     "output_type": "stream",
     "text": [
      "epoch: 3, loss: 0.05005732923746109\n",
      "train_acc: 0.9827166666666667, test_acc: 0.9765\n"
     ]
    },
    {
     "data": {
      "application/vnd.jupyter.widget-view+json": {
       "model_id": "5adfe9b15b0c4c8da7f137c0f4812835",
       "version_major": 2,
       "version_minor": 0
      },
      "text/plain": [
       "  0%|          | 0/235 [00:00<?, ?it/s]"
      ]
     },
     "metadata": {},
     "output_type": "display_data"
    },
    {
     "name": "stdout",
     "output_type": "stream",
     "text": [
      "epoch: 4, loss: 0.04145713150501251\n",
      "train_acc: 0.9890666666666666, test_acc: 0.9847\n"
     ]
    }
   ],
   "source": [
    "# train\n",
    "\n",
    "R.train()\n",
    "\n",
    "EPOCHS = 5\n",
    "print_every = 1\n",
    "\n",
    "for epoch in range(EPOCHS):\n",
    "    \n",
    "    loss_val_sum = 0\n",
    "    \n",
    "    for X, y in tqdm(train_iter):\n",
    "        \n",
    "        output = R.forward(X.view(-1, 28, 28).to(device))\n",
    "        loss_out = loss(output, y.to(device))\n",
    "        \n",
    "        optm.zero_grad() # reset grad\n",
    "        \n",
    "        loss_out.backward() # backprop\n",
    "        \n",
    "        optm.step() # optimizer update\n",
    "        \n",
    "        loss_val_sum += loss_out\n",
    "        \n",
    "    loss_val_avg = loss_val_sum/len(train_iter)\n",
    "    \n",
    "    if ((epoch%print_every)==0) or (epoch==(EPOCH-1)):\n",
    "        \n",
    "        train_acc = func_eval(R, train_iter, device)\n",
    "        test_acc = func_eval(R, test_iter, device)\n",
    "        \n",
    "        print(f'epoch: {epoch}, loss: {loss_val_avg}')\n",
    "        print(f'train_acc: {train_acc}, test_acc: {test_acc}')"
   ]
  },
  {
   "cell_type": "code",
   "execution_count": null,
   "id": "f955b4d1",
   "metadata": {},
   "outputs": [],
   "source": []
  }
 ],
 "metadata": {
  "kernelspec": {
   "display_name": "Python 3 (ipykernel)",
   "language": "python",
   "name": "python3"
  },
  "language_info": {
   "codemirror_mode": {
    "name": "ipython",
    "version": 3
   },
   "file_extension": ".py",
   "mimetype": "text/x-python",
   "name": "python",
   "nbconvert_exporter": "python",
   "pygments_lexer": "ipython3",
   "version": "3.8.5"
  }
 },
 "nbformat": 4,
 "nbformat_minor": 5
}
