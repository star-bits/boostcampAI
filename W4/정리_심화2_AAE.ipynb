{
 "cells": [
  {
   "cell_type": "markdown",
   "id": "f619cb13",
   "metadata": {},
   "source": [
    "## AAE is composed of:\n",
    "\n",
    "- Prior distribution (Target distribution)\n",
    "- AutoEncoder\n",
    "  - Encoder (Generator)\n",
    "  - Decoder\n",
    "- Discriminator\n"
   ]
  },
  {
   "cell_type": "markdown",
   "id": "8f1d8d7a",
   "metadata": {},
   "source": [
    "x: input\n",
    "\n",
    "z: latent vector (created by encoder)\n",
    "\n",
    "p(x): model distribution\n",
    "\n",
    "p_d(x): data distribution\n",
    "\n",
    "q(z|x): AAE\n",
    "\n",
    "q(z): (aggregated) posterior distribution\n",
    "\n",
    "p(z): (arbitrary) prior distribution\n",
    "\n",
    "AAE guides q(z) to match p(z)\n",
    "\n",
    "$q(z) = \\int_x q(z|x) p_d(x) dx$\n"
   ]
  },
  {
   "cell_type": "code",
   "execution_count": 13,
   "id": "20dd0184",
   "metadata": {},
   "outputs": [],
   "source": [
    "import os\n",
    "import math\n",
    "import itertools\n",
    "import argparse\n",
    "import numpy as np\n",
    "import torch\n",
    "import torch.nn as nn\n",
    "import torch.nn.functional as F\n",
    "from torch.autograd import Variable\n",
    "# from torch.utils.data import DataLoader\n",
    "from torchvision import datasets, transforms\n",
    "from torchvision.utils import save_image\n",
    "from tqdm import tqdm\n"
   ]
  },
  {
   "cell_type": "code",
   "execution_count": 3,
   "id": "1626328a",
   "metadata": {},
   "outputs": [],
   "source": [
    "os.makedirs(\"./images\", exist_ok=True)"
   ]
  },
  {
   "cell_type": "markdown",
   "id": "c89e4fad",
   "metadata": {},
   "source": [
    "## Hyperparameters"
   ]
  },
  {
   "cell_type": "code",
   "execution_count": 4,
   "id": "b19b6e68",
   "metadata": {},
   "outputs": [],
   "source": [
    "channels = 1\n",
    "img_size = 32\n",
    "n_epochs = 100\n",
    "batch_size = 64\n",
    "lr = 0.002\n",
    "b1 = 0.5\n",
    "b2 = 0.999\n",
    "latent_dim = 10 # output dim for encoder, input dim for decoder and discriminator\n",
    "img_shape = (channels, img_size, img_size)"
   ]
  },
  {
   "cell_type": "markdown",
   "id": "2129f3a5",
   "metadata": {},
   "source": [
    "## Reparameterization\n",
    "\n",
    "backprop을 하기 위해선 z들이 같은 분포를 가져야 함\n"
   ]
  },
  {
   "cell_type": "code",
   "execution_count": 5,
   "id": "3babea7a",
   "metadata": {},
   "outputs": [],
   "source": [
    "def reparameterization(mu, logvar):\n",
    "    std = torch.exp(logvar/2)\n",
    "    sampled_z = Variable(Tensor(np.random.normal(0, 1, (mu.size(0), latent_dim))))\n",
    "    z = sampled_z * std + mu\n",
    "    return z"
   ]
  },
  {
   "cell_type": "markdown",
   "id": "b8e75c5c",
   "metadata": {},
   "source": [
    "## Encoder"
   ]
  },
  {
   "cell_type": "code",
   "execution_count": 20,
   "id": "8748ce2b",
   "metadata": {},
   "outputs": [],
   "source": [
    "class Encoder(nn.Module):\n",
    "    def __init__(self):\n",
    "        super(Encoder, self).__init__()\n",
    "        \n",
    "        self.model = nn.Sequential(nn.Linear(1024, 512), \n",
    "                                   nn.Dropout(p=0.2), \n",
    "                                   nn.ReLU(), \n",
    "                                   nn.Linear(512, 512), \n",
    "                                   nn.Dropout(p=0.2), \n",
    "                                   nn.ReLU())\n",
    "        \n",
    "        self.mu = nn.Linear(512, latent_dim)\n",
    "        self.logvar = nn.Linear(512, latent_dim)\n",
    "        \n",
    "    def forward(self, img):\n",
    "        \n",
    "        img_flat = img.view(img.shape[0], -1)\n",
    "        \n",
    "        x = self.model(img_flat)\n",
    "        \n",
    "        mu = self.mu(x)\n",
    "        logvar = self.logvar(x)\n",
    "        \n",
    "        z = reparameterization(mu, logvar)\n",
    "        return z"
   ]
  },
  {
   "cell_type": "markdown",
   "id": "438528b2",
   "metadata": {},
   "source": [
    "## Decoder"
   ]
  },
  {
   "cell_type": "code",
   "execution_count": 21,
   "id": "3e9f7e9a",
   "metadata": {},
   "outputs": [],
   "source": [
    "class Decoder(nn.Module):\n",
    "    def __init__(self):\n",
    "        super(Decoder, self).__init__()\n",
    "        \n",
    "        self.model = nn.Sequential(nn.Linear(latent_dim, 512), \n",
    "                                   nn.Dropout(p=0.2), \n",
    "                                   nn.ReLU(), \n",
    "                                   nn.Linear(512, 512), \n",
    "                                   nn.BatchNorm1d(512),\n",
    "                                   nn.Dropout(p=0.2), \n",
    "                                   nn.ReLU(),\n",
    "                                   nn.Linear(512, 1024),\n",
    "                                   nn.Tanh())\n",
    "        \n",
    "    def forward(self, z):\n",
    "        q = self.model(z)\n",
    "        q = q.view(q.shape[0], *img_shape)\n",
    "        return q"
   ]
  },
  {
   "cell_type": "markdown",
   "id": "9a82eda9",
   "metadata": {},
   "source": [
    "## Discriminator"
   ]
  },
  {
   "cell_type": "code",
   "execution_count": 22,
   "id": "329ce361",
   "metadata": {},
   "outputs": [],
   "source": [
    "class Discriminator(nn.Module):\n",
    "    def __init__(self):\n",
    "        super(Discriminator, self).__init__()\n",
    "        \n",
    "        self.model = nn.Sequential(nn.Linear(latent_dim, 512), \n",
    "                                   nn.Dropout(p=0.2), \n",
    "                                   nn.ReLU(), \n",
    "                                   nn.Linear(512, 256), \n",
    "                                   nn.Dropout(p=0.2), \n",
    "                                   nn.ReLU(),\n",
    "                                   nn.Linear(256, 1),\n",
    "                                   nn.Sigmoid())\n",
    "        \n",
    "    def forward(self, z):\n",
    "        x = self.model(z)\n",
    "        return x"
   ]
  },
  {
   "cell_type": "markdown",
   "id": "bfa56f9c",
   "metadata": {},
   "source": [
    "## Loss function & Model initialization"
   ]
  },
  {
   "cell_type": "code",
   "execution_count": 23,
   "id": "bbf31d57",
   "metadata": {},
   "outputs": [],
   "source": [
    "adversarial_loss = torch.nn.BCELoss()\n",
    "pixelwise_loss = torch.nn.L1Loss()\n",
    "\n",
    "encoder = Encoder()\n",
    "decoder = Decoder()\n",
    "discriminator = Discriminator()"
   ]
  },
  {
   "cell_type": "code",
   "execution_count": 24,
   "id": "a79eec61",
   "metadata": {},
   "outputs": [],
   "source": [
    "if torch.cuda.is_available():\n",
    "    encoder.cuda()\n",
    "    decoder.cuda()\n",
    "    discriminator.cuda()\n",
    "    adversarial_loss.cuda()\n",
    "    pixelwise_loss.cuda()"
   ]
  },
  {
   "cell_type": "markdown",
   "id": "9227b055",
   "metadata": {},
   "source": [
    "## Dataset & Dataloader"
   ]
  },
  {
   "cell_type": "code",
   "execution_count": 25,
   "id": "07a8fb61",
   "metadata": {},
   "outputs": [],
   "source": [
    "os.makedirs('./mnist', exist_ok=True)\n",
    "\n",
    "dataset = datasets.MNIST(root='./mnist',\n",
    "                         train=True,\n",
    "                         transform=transforms.Compose([transforms.Resize(img_size), \n",
    "                                                       transforms.ToTensor(), \n",
    "                                                       transforms.Normalize([0.5], [0.5])]),\n",
    "                         download=True)\n",
    "\n",
    "dataloader = torch.utils.data.DataLoader(dataset,\n",
    "                                         batch_size=batch_size,\n",
    "                                         shuffle=True)"
   ]
  },
  {
   "cell_type": "markdown",
   "id": "657c07a2",
   "metadata": {},
   "source": [
    "## Training"
   ]
  },
  {
   "cell_type": "code",
   "execution_count": 26,
   "id": "4c36e05b",
   "metadata": {},
   "outputs": [],
   "source": [
    "def sample_image(n_row, epoch):\n",
    "    z = Variable(Tensor(np.random.normal(0, 1, (n_row**2, latent_dim))))\n",
    "    gen_imgs = decoder(z)\n",
    "    save_image(gen_imgs.data, f'images/gen_imgs_epoch_{epoch}.png', nrow=n_row, normalize=True)"
   ]
  },
  {
   "cell_type": "code",
   "execution_count": 28,
   "id": "d927452a",
   "metadata": {},
   "outputs": [
    {
     "name": "stderr",
     "output_type": "stream",
     "text": [
      "100%|█████████████████████████████████████████████████████████████| 938/938 [00:36<00:00, 25.78it/s]\n"
     ]
    },
    {
     "name": "stdout",
     "output_type": "stream",
     "text": [
      "epoch: 0/100 D loss: 0.5266318321228027 G loss: 0.13006426393985748\n"
     ]
    },
    {
     "name": "stderr",
     "output_type": "stream",
     "text": [
      "100%|█████████████████████████████████████████████████████████████| 938/938 [00:36<00:00, 25.49it/s]\n"
     ]
    },
    {
     "name": "stdout",
     "output_type": "stream",
     "text": [
      "epoch: 1/100 D loss: 0.5397289395332336 G loss: 0.10078063607215881\n"
     ]
    },
    {
     "name": "stderr",
     "output_type": "stream",
     "text": [
      "100%|█████████████████████████████████████████████████████████████| 938/938 [00:35<00:00, 26.23it/s]\n"
     ]
    },
    {
     "name": "stdout",
     "output_type": "stream",
     "text": [
      "epoch: 2/100 D loss: 0.497637003660202 G loss: 0.1227707490324974\n"
     ]
    },
    {
     "name": "stderr",
     "output_type": "stream",
     "text": [
      "100%|█████████████████████████████████████████████████████████████| 938/938 [00:35<00:00, 26.19it/s]\n"
     ]
    },
    {
     "name": "stdout",
     "output_type": "stream",
     "text": [
      "epoch: 3/100 D loss: 0.426893413066864 G loss: 0.11010731756687164\n"
     ]
    },
    {
     "name": "stderr",
     "output_type": "stream",
     "text": [
      "100%|█████████████████████████████████████████████████████████████| 938/938 [00:35<00:00, 26.24it/s]\n"
     ]
    },
    {
     "name": "stdout",
     "output_type": "stream",
     "text": [
      "epoch: 4/100 D loss: 0.42118245363235474 G loss: 0.11621172726154327\n"
     ]
    },
    {
     "name": "stderr",
     "output_type": "stream",
     "text": [
      "100%|█████████████████████████████████████████████████████████████| 938/938 [00:35<00:00, 26.13it/s]\n"
     ]
    },
    {
     "name": "stdout",
     "output_type": "stream",
     "text": [
      "epoch: 5/100 D loss: 0.39058902859687805 G loss: 0.1141049787402153\n"
     ]
    },
    {
     "name": "stderr",
     "output_type": "stream",
     "text": [
      "100%|█████████████████████████████████████████████████████████████| 938/938 [00:35<00:00, 26.21it/s]\n"
     ]
    },
    {
     "name": "stdout",
     "output_type": "stream",
     "text": [
      "epoch: 6/100 D loss: 0.4899601638317108 G loss: 0.12451797723770142\n"
     ]
    },
    {
     "name": "stderr",
     "output_type": "stream",
     "text": [
      "100%|█████████████████████████████████████████████████████████████| 938/938 [00:38<00:00, 24.60it/s]\n"
     ]
    },
    {
     "name": "stdout",
     "output_type": "stream",
     "text": [
      "epoch: 7/100 D loss: 0.4053356945514679 G loss: 0.11996223777532578\n"
     ]
    },
    {
     "name": "stderr",
     "output_type": "stream",
     "text": [
      "100%|█████████████████████████████████████████████████████████████| 938/938 [00:36<00:00, 25.39it/s]\n"
     ]
    },
    {
     "name": "stdout",
     "output_type": "stream",
     "text": [
      "epoch: 8/100 D loss: 0.43173444271087646 G loss: 0.11691002547740936\n"
     ]
    },
    {
     "name": "stderr",
     "output_type": "stream",
     "text": [
      "100%|█████████████████████████████████████████████████████████████| 938/938 [00:35<00:00, 26.18it/s]\n"
     ]
    },
    {
     "name": "stdout",
     "output_type": "stream",
     "text": [
      "epoch: 9/100 D loss: 0.35356658697128296 G loss: 0.1139746904373169\n"
     ]
    },
    {
     "name": "stderr",
     "output_type": "stream",
     "text": [
      "100%|█████████████████████████████████████████████████████████████| 938/938 [00:35<00:00, 26.18it/s]\n"
     ]
    },
    {
     "name": "stdout",
     "output_type": "stream",
     "text": [
      "epoch: 10/100 D loss: 0.44627249240875244 G loss: 0.11080314218997955\n"
     ]
    },
    {
     "name": "stderr",
     "output_type": "stream",
     "text": [
      "100%|█████████████████████████████████████████████████████████████| 938/938 [00:35<00:00, 26.27it/s]\n"
     ]
    },
    {
     "name": "stdout",
     "output_type": "stream",
     "text": [
      "epoch: 11/100 D loss: 0.3351743817329407 G loss: 0.12199800461530685\n"
     ]
    },
    {
     "name": "stderr",
     "output_type": "stream",
     "text": [
      "100%|█████████████████████████████████████████████████████████████| 938/938 [00:35<00:00, 26.28it/s]\n"
     ]
    },
    {
     "name": "stdout",
     "output_type": "stream",
     "text": [
      "epoch: 12/100 D loss: 0.4387548863887787 G loss: 0.11820647865533829\n"
     ]
    },
    {
     "name": "stderr",
     "output_type": "stream",
     "text": [
      "100%|█████████████████████████████████████████████████████████████| 938/938 [00:35<00:00, 26.32it/s]\n"
     ]
    },
    {
     "name": "stdout",
     "output_type": "stream",
     "text": [
      "epoch: 13/100 D loss: 0.3799889087677002 G loss: 0.12421400845050812\n"
     ]
    },
    {
     "name": "stderr",
     "output_type": "stream",
     "text": [
      "100%|█████████████████████████████████████████████████████████████| 938/938 [00:35<00:00, 26.27it/s]\n"
     ]
    },
    {
     "name": "stdout",
     "output_type": "stream",
     "text": [
      "epoch: 14/100 D loss: 0.3788883090019226 G loss: 0.10415326803922653\n"
     ]
    },
    {
     "name": "stderr",
     "output_type": "stream",
     "text": [
      "100%|█████████████████████████████████████████████████████████████| 938/938 [00:36<00:00, 25.59it/s]\n"
     ]
    },
    {
     "name": "stdout",
     "output_type": "stream",
     "text": [
      "epoch: 15/100 D loss: 0.41648393869400024 G loss: 0.1079256683588028\n"
     ]
    },
    {
     "name": "stderr",
     "output_type": "stream",
     "text": [
      "100%|█████████████████████████████████████████████████████████████| 938/938 [00:38<00:00, 24.12it/s]\n"
     ]
    },
    {
     "name": "stdout",
     "output_type": "stream",
     "text": [
      "epoch: 16/100 D loss: 0.43281322717666626 G loss: 0.11520516872406006\n"
     ]
    },
    {
     "name": "stderr",
     "output_type": "stream",
     "text": [
      "100%|█████████████████████████████████████████████████████████████| 938/938 [00:36<00:00, 25.45it/s]\n"
     ]
    },
    {
     "name": "stdout",
     "output_type": "stream",
     "text": [
      "epoch: 17/100 D loss: 0.35480886697769165 G loss: 0.121392160654068\n"
     ]
    },
    {
     "name": "stderr",
     "output_type": "stream",
     "text": [
      "100%|█████████████████████████████████████████████████████████████| 938/938 [00:37<00:00, 24.77it/s]\n"
     ]
    },
    {
     "name": "stdout",
     "output_type": "stream",
     "text": [
      "epoch: 18/100 D loss: 0.49001961946487427 G loss: 0.10257936269044876\n"
     ]
    },
    {
     "name": "stderr",
     "output_type": "stream",
     "text": [
      "100%|█████████████████████████████████████████████████████████████| 938/938 [00:35<00:00, 26.25it/s]\n"
     ]
    },
    {
     "name": "stdout",
     "output_type": "stream",
     "text": [
      "epoch: 19/100 D loss: 0.36603665351867676 G loss: 0.10790588706731796\n"
     ]
    },
    {
     "name": "stderr",
     "output_type": "stream",
     "text": [
      "100%|█████████████████████████████████████████████████████████████| 938/938 [00:35<00:00, 26.29it/s]\n"
     ]
    },
    {
     "name": "stdout",
     "output_type": "stream",
     "text": [
      "epoch: 20/100 D loss: 0.4688485562801361 G loss: 0.10883143544197083\n"
     ]
    },
    {
     "name": "stderr",
     "output_type": "stream",
     "text": [
      "100%|█████████████████████████████████████████████████████████████| 938/938 [00:35<00:00, 26.32it/s]\n"
     ]
    },
    {
     "name": "stdout",
     "output_type": "stream",
     "text": [
      "epoch: 21/100 D loss: 0.26752543449401855 G loss: 0.11284264177083969\n"
     ]
    },
    {
     "name": "stderr",
     "output_type": "stream",
     "text": [
      "100%|█████████████████████████████████████████████████████████████| 938/938 [00:35<00:00, 26.36it/s]\n"
     ]
    },
    {
     "name": "stdout",
     "output_type": "stream",
     "text": [
      "epoch: 22/100 D loss: 0.4134080410003662 G loss: 0.098781056702137\n"
     ]
    },
    {
     "name": "stderr",
     "output_type": "stream",
     "text": [
      "100%|█████████████████████████████████████████████████████████████| 938/938 [00:35<00:00, 26.24it/s]\n"
     ]
    },
    {
     "name": "stdout",
     "output_type": "stream",
     "text": [
      "epoch: 23/100 D loss: 0.3119789659976959 G loss: 0.10772687941789627\n"
     ]
    },
    {
     "name": "stderr",
     "output_type": "stream",
     "text": [
      "100%|█████████████████████████████████████████████████████████████| 938/938 [00:35<00:00, 26.37it/s]\n"
     ]
    },
    {
     "name": "stdout",
     "output_type": "stream",
     "text": [
      "epoch: 24/100 D loss: 0.6326725482940674 G loss: 0.11372140049934387\n"
     ]
    },
    {
     "name": "stderr",
     "output_type": "stream",
     "text": [
      "100%|█████████████████████████████████████████████████████████████| 938/938 [00:35<00:00, 26.34it/s]\n"
     ]
    },
    {
     "name": "stdout",
     "output_type": "stream",
     "text": [
      "epoch: 25/100 D loss: 0.3803875148296356 G loss: 0.10719811916351318\n"
     ]
    },
    {
     "name": "stderr",
     "output_type": "stream",
     "text": [
      "100%|█████████████████████████████████████████████████████████████| 938/938 [00:35<00:00, 26.40it/s]\n"
     ]
    },
    {
     "name": "stdout",
     "output_type": "stream",
     "text": [
      "epoch: 26/100 D loss: 0.42243692278862 G loss: 0.10836521536111832\n"
     ]
    },
    {
     "name": "stderr",
     "output_type": "stream",
     "text": [
      "100%|█████████████████████████████████████████████████████████████| 938/938 [00:36<00:00, 25.99it/s]\n"
     ]
    },
    {
     "name": "stdout",
     "output_type": "stream",
     "text": [
      "epoch: 27/100 D loss: 0.39417195320129395 G loss: 0.1091945618391037\n"
     ]
    },
    {
     "name": "stderr",
     "output_type": "stream",
     "text": [
      "100%|█████████████████████████████████████████████████████████████| 938/938 [00:35<00:00, 26.29it/s]\n"
     ]
    },
    {
     "name": "stdout",
     "output_type": "stream",
     "text": [
      "epoch: 28/100 D loss: 0.4729747176170349 G loss: 0.10644227266311646\n"
     ]
    },
    {
     "name": "stderr",
     "output_type": "stream",
     "text": [
      "100%|█████████████████████████████████████████████████████████████| 938/938 [00:35<00:00, 26.27it/s]\n"
     ]
    },
    {
     "name": "stdout",
     "output_type": "stream",
     "text": [
      "epoch: 29/100 D loss: 0.36963188648223877 G loss: 0.12725360691547394\n"
     ]
    },
    {
     "name": "stderr",
     "output_type": "stream",
     "text": [
      "100%|█████████████████████████████████████████████████████████████| 938/938 [00:35<00:00, 26.24it/s]\n"
     ]
    },
    {
     "name": "stdout",
     "output_type": "stream",
     "text": [
      "epoch: 30/100 D loss: 0.49965694546699524 G loss: 0.1229623481631279\n"
     ]
    },
    {
     "name": "stderr",
     "output_type": "stream",
     "text": [
      "100%|█████████████████████████████████████████████████████████████| 938/938 [00:35<00:00, 26.28it/s]\n"
     ]
    },
    {
     "name": "stdout",
     "output_type": "stream",
     "text": [
      "epoch: 31/100 D loss: 0.46371400356292725 G loss: 0.10394208878278732\n"
     ]
    },
    {
     "name": "stderr",
     "output_type": "stream",
     "text": [
      "100%|█████████████████████████████████████████████████████████████| 938/938 [00:35<00:00, 26.29it/s]\n"
     ]
    },
    {
     "name": "stdout",
     "output_type": "stream",
     "text": [
      "epoch: 32/100 D loss: 0.4604050815105438 G loss: 0.11361303925514221\n"
     ]
    },
    {
     "name": "stderr",
     "output_type": "stream",
     "text": [
      "100%|█████████████████████████████████████████████████████████████| 938/938 [00:35<00:00, 26.32it/s]\n"
     ]
    },
    {
     "name": "stdout",
     "output_type": "stream",
     "text": [
      "epoch: 33/100 D loss: 0.4201332628726959 G loss: 0.10885772109031677\n"
     ]
    },
    {
     "name": "stderr",
     "output_type": "stream",
     "text": [
      "100%|█████████████████████████████████████████████████████████████| 938/938 [00:37<00:00, 25.27it/s]\n"
     ]
    },
    {
     "name": "stdout",
     "output_type": "stream",
     "text": [
      "epoch: 34/100 D loss: 0.3297739028930664 G loss: 0.10926040261983871\n"
     ]
    },
    {
     "name": "stderr",
     "output_type": "stream",
     "text": [
      "100%|█████████████████████████████████████████████████████████████| 938/938 [00:35<00:00, 26.35it/s]\n"
     ]
    },
    {
     "name": "stdout",
     "output_type": "stream",
     "text": [
      "epoch: 35/100 D loss: 0.48581379652023315 G loss: 0.11284587532281876\n"
     ]
    },
    {
     "name": "stderr",
     "output_type": "stream",
     "text": [
      "100%|█████████████████████████████████████████████████████████████| 938/938 [00:35<00:00, 26.33it/s]\n"
     ]
    },
    {
     "name": "stdout",
     "output_type": "stream",
     "text": [
      "epoch: 36/100 D loss: 0.4054407775402069 G loss: 0.10887393355369568\n"
     ]
    },
    {
     "name": "stderr",
     "output_type": "stream",
     "text": [
      "100%|█████████████████████████████████████████████████████████████| 938/938 [00:35<00:00, 26.24it/s]\n"
     ]
    },
    {
     "name": "stdout",
     "output_type": "stream",
     "text": [
      "epoch: 37/100 D loss: 0.33899515867233276 G loss: 0.1033555120229721\n"
     ]
    },
    {
     "name": "stderr",
     "output_type": "stream",
     "text": [
      "100%|█████████████████████████████████████████████████████████████| 938/938 [00:35<00:00, 26.31it/s]\n"
     ]
    },
    {
     "name": "stdout",
     "output_type": "stream",
     "text": [
      "epoch: 38/100 D loss: 0.3095078468322754 G loss: 0.11923850327730179\n"
     ]
    },
    {
     "name": "stderr",
     "output_type": "stream",
     "text": [
      "100%|█████████████████████████████████████████████████████████████| 938/938 [00:35<00:00, 26.44it/s]\n"
     ]
    },
    {
     "name": "stdout",
     "output_type": "stream",
     "text": [
      "epoch: 39/100 D loss: 0.43686288595199585 G loss: 0.11203258484601974\n"
     ]
    },
    {
     "name": "stderr",
     "output_type": "stream",
     "text": [
      "100%|█████████████████████████████████████████████████████████████| 938/938 [00:35<00:00, 26.35it/s]\n"
     ]
    },
    {
     "name": "stdout",
     "output_type": "stream",
     "text": [
      "epoch: 40/100 D loss: 0.4083128869533539 G loss: 0.1095091849565506\n"
     ]
    },
    {
     "name": "stderr",
     "output_type": "stream",
     "text": [
      "100%|█████████████████████████████████████████████████████████████| 938/938 [00:35<00:00, 26.40it/s]\n"
     ]
    },
    {
     "name": "stdout",
     "output_type": "stream",
     "text": [
      "epoch: 41/100 D loss: 0.49394509196281433 G loss: 0.11213154345750809\n"
     ]
    },
    {
     "name": "stderr",
     "output_type": "stream",
     "text": [
      "100%|█████████████████████████████████████████████████████████████| 938/938 [00:35<00:00, 26.36it/s]\n"
     ]
    },
    {
     "name": "stdout",
     "output_type": "stream",
     "text": [
      "epoch: 42/100 D loss: 0.3028692901134491 G loss: 0.10718951374292374\n"
     ]
    },
    {
     "name": "stderr",
     "output_type": "stream",
     "text": [
      "100%|█████████████████████████████████████████████████████████████| 938/938 [00:35<00:00, 26.37it/s]\n"
     ]
    },
    {
     "name": "stdout",
     "output_type": "stream",
     "text": [
      "epoch: 43/100 D loss: 0.4608156085014343 G loss: 0.1140201985836029\n"
     ]
    },
    {
     "name": "stderr",
     "output_type": "stream",
     "text": [
      "100%|█████████████████████████████████████████████████████████████| 938/938 [00:35<00:00, 26.26it/s]\n"
     ]
    },
    {
     "name": "stdout",
     "output_type": "stream",
     "text": [
      "epoch: 44/100 D loss: 0.3967244625091553 G loss: 0.10911719501018524\n"
     ]
    },
    {
     "name": "stderr",
     "output_type": "stream",
     "text": [
      "100%|█████████████████████████████████████████████████████████████| 938/938 [00:35<00:00, 26.24it/s]\n"
     ]
    },
    {
     "name": "stdout",
     "output_type": "stream",
     "text": [
      "epoch: 45/100 D loss: 0.4862138628959656 G loss: 0.11371224373579025\n"
     ]
    },
    {
     "name": "stderr",
     "output_type": "stream",
     "text": [
      "100%|█████████████████████████████████████████████████████████████| 938/938 [00:35<00:00, 26.30it/s]\n"
     ]
    },
    {
     "name": "stdout",
     "output_type": "stream",
     "text": [
      "epoch: 46/100 D loss: 0.3807283043861389 G loss: 0.10980113595724106\n"
     ]
    },
    {
     "name": "stderr",
     "output_type": "stream",
     "text": [
      "100%|█████████████████████████████████████████████████████████████| 938/938 [00:35<00:00, 26.30it/s]\n"
     ]
    },
    {
     "name": "stdout",
     "output_type": "stream",
     "text": [
      "epoch: 47/100 D loss: 0.3309551477432251 G loss: 0.11675738543272018\n"
     ]
    },
    {
     "name": "stderr",
     "output_type": "stream",
     "text": [
      "100%|█████████████████████████████████████████████████████████████| 938/938 [00:35<00:00, 26.28it/s]\n"
     ]
    },
    {
     "name": "stdout",
     "output_type": "stream",
     "text": [
      "epoch: 48/100 D loss: 0.4202401041984558 G loss: 0.09337411820888519\n"
     ]
    },
    {
     "name": "stderr",
     "output_type": "stream",
     "text": [
      "100%|█████████████████████████████████████████████████████████████| 938/938 [00:35<00:00, 26.20it/s]\n"
     ]
    },
    {
     "name": "stdout",
     "output_type": "stream",
     "text": [
      "epoch: 49/100 D loss: 0.3362715244293213 G loss: 0.11586907505989075\n"
     ]
    },
    {
     "name": "stderr",
     "output_type": "stream",
     "text": [
      "100%|█████████████████████████████████████████████████████████████| 938/938 [00:35<00:00, 26.28it/s]\n"
     ]
    },
    {
     "name": "stdout",
     "output_type": "stream",
     "text": [
      "epoch: 50/100 D loss: 0.33463966846466064 G loss: 0.11072397232055664\n"
     ]
    },
    {
     "name": "stderr",
     "output_type": "stream",
     "text": [
      "100%|█████████████████████████████████████████████████████████████| 938/938 [00:35<00:00, 26.16it/s]\n"
     ]
    },
    {
     "name": "stdout",
     "output_type": "stream",
     "text": [
      "epoch: 51/100 D loss: 0.5085573196411133 G loss: 0.11154025048017502\n"
     ]
    },
    {
     "name": "stderr",
     "output_type": "stream",
     "text": [
      "100%|█████████████████████████████████████████████████████████████| 938/938 [00:35<00:00, 26.09it/s]\n"
     ]
    },
    {
     "name": "stdout",
     "output_type": "stream",
     "text": [
      "epoch: 52/100 D loss: 0.524895191192627 G loss: 0.10735085606575012\n"
     ]
    },
    {
     "name": "stderr",
     "output_type": "stream",
     "text": [
      "100%|█████████████████████████████████████████████████████████████| 938/938 [00:36<00:00, 25.87it/s]\n"
     ]
    },
    {
     "name": "stdout",
     "output_type": "stream",
     "text": [
      "epoch: 53/100 D loss: 0.43135330080986023 G loss: 0.10918925702571869\n"
     ]
    },
    {
     "name": "stderr",
     "output_type": "stream",
     "text": [
      "100%|█████████████████████████████████████████████████████████████| 938/938 [00:36<00:00, 25.71it/s]\n"
     ]
    },
    {
     "name": "stdout",
     "output_type": "stream",
     "text": [
      "epoch: 54/100 D loss: 0.43108677864074707 G loss: 0.12235254049301147\n"
     ]
    },
    {
     "name": "stderr",
     "output_type": "stream",
     "text": [
      "100%|█████████████████████████████████████████████████████████████| 938/938 [00:36<00:00, 25.63it/s]\n"
     ]
    },
    {
     "name": "stdout",
     "output_type": "stream",
     "text": [
      "epoch: 55/100 D loss: 0.33528146147727966 G loss: 0.11887674033641815\n"
     ]
    },
    {
     "name": "stderr",
     "output_type": "stream",
     "text": [
      "100%|█████████████████████████████████████████████████████████████| 938/938 [00:36<00:00, 25.45it/s]\n"
     ]
    },
    {
     "name": "stdout",
     "output_type": "stream",
     "text": [
      "epoch: 56/100 D loss: 0.3997333347797394 G loss: 0.1105785071849823\n"
     ]
    },
    {
     "name": "stderr",
     "output_type": "stream",
     "text": [
      "100%|█████████████████████████████████████████████████████████████| 938/938 [00:37<00:00, 25.22it/s]\n"
     ]
    },
    {
     "name": "stdout",
     "output_type": "stream",
     "text": [
      "epoch: 57/100 D loss: 0.44034862518310547 G loss: 0.11139354109764099\n"
     ]
    },
    {
     "name": "stderr",
     "output_type": "stream",
     "text": [
      "100%|█████████████████████████████████████████████████████████████| 938/938 [00:37<00:00, 25.09it/s]\n"
     ]
    },
    {
     "name": "stdout",
     "output_type": "stream",
     "text": [
      "epoch: 58/100 D loss: 0.34485164284706116 G loss: 0.09755168855190277\n"
     ]
    },
    {
     "name": "stderr",
     "output_type": "stream",
     "text": [
      "100%|█████████████████████████████████████████████████████████████| 938/938 [00:37<00:00, 24.97it/s]\n"
     ]
    },
    {
     "name": "stdout",
     "output_type": "stream",
     "text": [
      "epoch: 59/100 D loss: 0.3375057280063629 G loss: 0.10385437309741974\n"
     ]
    },
    {
     "name": "stderr",
     "output_type": "stream",
     "text": [
      "100%|█████████████████████████████████████████████████████████████| 938/938 [00:37<00:00, 24.76it/s]\n"
     ]
    },
    {
     "name": "stdout",
     "output_type": "stream",
     "text": [
      "epoch: 60/100 D loss: 0.2736496925354004 G loss: 0.11301174759864807\n"
     ]
    },
    {
     "name": "stderr",
     "output_type": "stream",
     "text": [
      "100%|█████████████████████████████████████████████████████████████| 938/938 [00:37<00:00, 24.70it/s]\n"
     ]
    },
    {
     "name": "stdout",
     "output_type": "stream",
     "text": [
      "epoch: 61/100 D loss: 0.5802940130233765 G loss: 0.10252562165260315\n"
     ]
    },
    {
     "name": "stderr",
     "output_type": "stream",
     "text": [
      "100%|█████████████████████████████████████████████████████████████| 938/938 [00:38<00:00, 24.45it/s]\n"
     ]
    },
    {
     "name": "stdout",
     "output_type": "stream",
     "text": [
      "epoch: 62/100 D loss: 0.4653245210647583 G loss: 0.1050223857164383\n"
     ]
    },
    {
     "name": "stderr",
     "output_type": "stream",
     "text": [
      "100%|█████████████████████████████████████████████████████████████| 938/938 [00:38<00:00, 24.38it/s]\n"
     ]
    },
    {
     "name": "stdout",
     "output_type": "stream",
     "text": [
      "epoch: 63/100 D loss: 0.346552312374115 G loss: 0.1002531573176384\n"
     ]
    },
    {
     "name": "stderr",
     "output_type": "stream",
     "text": [
      "100%|█████████████████████████████████████████████████████████████| 938/938 [00:38<00:00, 24.31it/s]\n"
     ]
    },
    {
     "name": "stdout",
     "output_type": "stream",
     "text": [
      "epoch: 64/100 D loss: 0.3155691623687744 G loss: 0.10185036063194275\n"
     ]
    },
    {
     "name": "stderr",
     "output_type": "stream",
     "text": [
      "100%|█████████████████████████████████████████████████████████████| 938/938 [00:38<00:00, 24.23it/s]\n"
     ]
    },
    {
     "name": "stdout",
     "output_type": "stream",
     "text": [
      "epoch: 65/100 D loss: 0.36746275424957275 G loss: 0.11395028233528137\n"
     ]
    },
    {
     "name": "stderr",
     "output_type": "stream",
     "text": [
      "100%|█████████████████████████████████████████████████████████████| 938/938 [00:38<00:00, 24.19it/s]\n"
     ]
    },
    {
     "name": "stdout",
     "output_type": "stream",
     "text": [
      "epoch: 66/100 D loss: 0.49533554911613464 G loss: 0.10395541787147522\n"
     ]
    },
    {
     "name": "stderr",
     "output_type": "stream",
     "text": [
      "100%|█████████████████████████████████████████████████████████████| 938/938 [00:39<00:00, 24.01it/s]\n"
     ]
    },
    {
     "name": "stdout",
     "output_type": "stream",
     "text": [
      "epoch: 67/100 D loss: 0.37024515867233276 G loss: 0.11760903894901276\n"
     ]
    },
    {
     "name": "stderr",
     "output_type": "stream",
     "text": [
      "100%|█████████████████████████████████████████████████████████████| 938/938 [00:39<00:00, 24.04it/s]\n"
     ]
    },
    {
     "name": "stdout",
     "output_type": "stream",
     "text": [
      "epoch: 68/100 D loss: 0.34825313091278076 G loss: 0.1065031960606575\n"
     ]
    },
    {
     "name": "stderr",
     "output_type": "stream",
     "text": [
      "100%|█████████████████████████████████████████████████████████████| 938/938 [00:39<00:00, 24.04it/s]\n"
     ]
    },
    {
     "name": "stdout",
     "output_type": "stream",
     "text": [
      "epoch: 69/100 D loss: 0.44470667839050293 G loss: 0.10242718458175659\n"
     ]
    },
    {
     "name": "stderr",
     "output_type": "stream",
     "text": [
      "100%|█████████████████████████████████████████████████████████████| 938/938 [00:39<00:00, 23.93it/s]\n"
     ]
    },
    {
     "name": "stdout",
     "output_type": "stream",
     "text": [
      "epoch: 70/100 D loss: 0.41451364755630493 G loss: 0.12020871043205261\n"
     ]
    },
    {
     "name": "stderr",
     "output_type": "stream",
     "text": [
      "100%|█████████████████████████████████████████████████████████████| 938/938 [00:39<00:00, 23.94it/s]\n"
     ]
    },
    {
     "name": "stdout",
     "output_type": "stream",
     "text": [
      "epoch: 71/100 D loss: 0.5192517042160034 G loss: 0.11300753802061081\n"
     ]
    },
    {
     "name": "stderr",
     "output_type": "stream",
     "text": [
      "100%|█████████████████████████████████████████████████████████████| 938/938 [00:39<00:00, 23.92it/s]\n"
     ]
    },
    {
     "name": "stdout",
     "output_type": "stream",
     "text": [
      "epoch: 72/100 D loss: 0.5010596513748169 G loss: 0.10240005701780319\n"
     ]
    },
    {
     "name": "stderr",
     "output_type": "stream",
     "text": [
      "100%|█████████████████████████████████████████████████████████████| 938/938 [00:39<00:00, 23.93it/s]\n"
     ]
    },
    {
     "name": "stdout",
     "output_type": "stream",
     "text": [
      "epoch: 73/100 D loss: 0.34027451276779175 G loss: 0.09651670604944229\n"
     ]
    },
    {
     "name": "stderr",
     "output_type": "stream",
     "text": [
      "100%|█████████████████████████████████████████████████████████████| 938/938 [00:39<00:00, 24.05it/s]\n"
     ]
    },
    {
     "name": "stdout",
     "output_type": "stream",
     "text": [
      "epoch: 74/100 D loss: 0.38438600301742554 G loss: 0.10045506060123444\n"
     ]
    },
    {
     "name": "stderr",
     "output_type": "stream",
     "text": [
      "100%|█████████████████████████████████████████████████████████████| 938/938 [00:39<00:00, 23.91it/s]\n"
     ]
    },
    {
     "name": "stdout",
     "output_type": "stream",
     "text": [
      "epoch: 75/100 D loss: 0.3945625424385071 G loss: 0.11041048169136047\n"
     ]
    },
    {
     "name": "stderr",
     "output_type": "stream",
     "text": [
      "100%|█████████████████████████████████████████████████████████████| 938/938 [00:39<00:00, 23.85it/s]\n"
     ]
    },
    {
     "name": "stdout",
     "output_type": "stream",
     "text": [
      "epoch: 76/100 D loss: 0.459033727645874 G loss: 0.11580321192741394\n"
     ]
    },
    {
     "name": "stderr",
     "output_type": "stream",
     "text": [
      "100%|█████████████████████████████████████████████████████████████| 938/938 [00:39<00:00, 23.87it/s]\n"
     ]
    },
    {
     "name": "stdout",
     "output_type": "stream",
     "text": [
      "epoch: 77/100 D loss: 0.47705602645874023 G loss: 0.1047392413020134\n"
     ]
    },
    {
     "name": "stderr",
     "output_type": "stream",
     "text": [
      "100%|█████████████████████████████████████████████████████████████| 938/938 [00:39<00:00, 23.56it/s]\n"
     ]
    },
    {
     "name": "stdout",
     "output_type": "stream",
     "text": [
      "epoch: 78/100 D loss: 0.3165512681007385 G loss: 0.10892661660909653\n"
     ]
    },
    {
     "name": "stderr",
     "output_type": "stream",
     "text": [
      "100%|█████████████████████████████████████████████████████████████| 938/938 [00:39<00:00, 23.83it/s]\n"
     ]
    },
    {
     "name": "stdout",
     "output_type": "stream",
     "text": [
      "epoch: 79/100 D loss: 0.4274228513240814 G loss: 0.1078953817486763\n"
     ]
    },
    {
     "name": "stderr",
     "output_type": "stream",
     "text": [
      "100%|█████████████████████████████████████████████████████████████| 938/938 [00:39<00:00, 23.90it/s]\n"
     ]
    },
    {
     "name": "stdout",
     "output_type": "stream",
     "text": [
      "epoch: 80/100 D loss: 0.3256518840789795 G loss: 0.09800101071596146\n"
     ]
    },
    {
     "name": "stderr",
     "output_type": "stream",
     "text": [
      "100%|█████████████████████████████████████████████████████████████| 938/938 [00:39<00:00, 23.84it/s]\n"
     ]
    },
    {
     "name": "stdout",
     "output_type": "stream",
     "text": [
      "epoch: 81/100 D loss: 0.43994975090026855 G loss: 0.10901914536952972\n"
     ]
    },
    {
     "name": "stderr",
     "output_type": "stream",
     "text": [
      "100%|█████████████████████████████████████████████████████████████| 938/938 [00:39<00:00, 23.88it/s]\n"
     ]
    },
    {
     "name": "stdout",
     "output_type": "stream",
     "text": [
      "epoch: 82/100 D loss: 0.5067921876907349 G loss: 0.09947972744703293\n"
     ]
    },
    {
     "name": "stderr",
     "output_type": "stream",
     "text": [
      "100%|█████████████████████████████████████████████████████████████| 938/938 [00:39<00:00, 23.91it/s]\n"
     ]
    },
    {
     "name": "stdout",
     "output_type": "stream",
     "text": [
      "epoch: 83/100 D loss: 0.36179518699645996 G loss: 0.10359353572130203\n"
     ]
    },
    {
     "name": "stderr",
     "output_type": "stream",
     "text": [
      "100%|█████████████████████████████████████████████████████████████| 938/938 [00:39<00:00, 23.89it/s]\n"
     ]
    },
    {
     "name": "stdout",
     "output_type": "stream",
     "text": [
      "epoch: 84/100 D loss: 0.32238855957984924 G loss: 0.1166810691356659\n"
     ]
    },
    {
     "name": "stderr",
     "output_type": "stream",
     "text": [
      "100%|█████████████████████████████████████████████████████████████| 938/938 [00:39<00:00, 23.89it/s]\n"
     ]
    },
    {
     "name": "stdout",
     "output_type": "stream",
     "text": [
      "epoch: 85/100 D loss: 0.3393133282661438 G loss: 0.11189816892147064\n"
     ]
    },
    {
     "name": "stderr",
     "output_type": "stream",
     "text": [
      "100%|█████████████████████████████████████████████████████████████| 938/938 [00:39<00:00, 23.86it/s]\n"
     ]
    },
    {
     "name": "stdout",
     "output_type": "stream",
     "text": [
      "epoch: 86/100 D loss: 0.32909464836120605 G loss: 0.11144563555717468\n"
     ]
    },
    {
     "name": "stderr",
     "output_type": "stream",
     "text": [
      "100%|█████████████████████████████████████████████████████████████| 938/938 [00:39<00:00, 23.85it/s]\n"
     ]
    },
    {
     "name": "stdout",
     "output_type": "stream",
     "text": [
      "epoch: 87/100 D loss: 0.2829378843307495 G loss: 0.10889432579278946\n"
     ]
    },
    {
     "name": "stderr",
     "output_type": "stream",
     "text": [
      "100%|█████████████████████████████████████████████████████████████| 938/938 [00:39<00:00, 23.80it/s]\n"
     ]
    },
    {
     "name": "stdout",
     "output_type": "stream",
     "text": [
      "epoch: 88/100 D loss: 0.6559052467346191 G loss: 0.11822819709777832\n"
     ]
    },
    {
     "name": "stderr",
     "output_type": "stream",
     "text": [
      "100%|█████████████████████████████████████████████████████████████| 938/938 [00:39<00:00, 23.86it/s]\n"
     ]
    },
    {
     "name": "stdout",
     "output_type": "stream",
     "text": [
      "epoch: 89/100 D loss: 0.28588512539863586 G loss: 0.1071016937494278\n"
     ]
    },
    {
     "name": "stderr",
     "output_type": "stream",
     "text": [
      "100%|█████████████████████████████████████████████████████████████| 938/938 [00:39<00:00, 23.95it/s]\n"
     ]
    },
    {
     "name": "stdout",
     "output_type": "stream",
     "text": [
      "epoch: 90/100 D loss: 0.4925811290740967 G loss: 0.11308222264051437\n"
     ]
    },
    {
     "name": "stderr",
     "output_type": "stream",
     "text": [
      "100%|█████████████████████████████████████████████████████████████| 938/938 [00:39<00:00, 23.85it/s]\n"
     ]
    },
    {
     "name": "stdout",
     "output_type": "stream",
     "text": [
      "epoch: 91/100 D loss: 0.3736913800239563 G loss: 0.10987691581249237\n"
     ]
    },
    {
     "name": "stderr",
     "output_type": "stream",
     "text": [
      "100%|█████████████████████████████████████████████████████████████| 938/938 [00:39<00:00, 23.81it/s]\n"
     ]
    },
    {
     "name": "stdout",
     "output_type": "stream",
     "text": [
      "epoch: 92/100 D loss: 0.37940675020217896 G loss: 0.11376426368951797\n"
     ]
    },
    {
     "name": "stderr",
     "output_type": "stream",
     "text": [
      "100%|█████████████████████████████████████████████████████████████| 938/938 [00:39<00:00, 23.83it/s]\n"
     ]
    },
    {
     "name": "stdout",
     "output_type": "stream",
     "text": [
      "epoch: 93/100 D loss: 0.36716505885124207 G loss: 0.10671622306108475\n"
     ]
    },
    {
     "name": "stderr",
     "output_type": "stream",
     "text": [
      "100%|█████████████████████████████████████████████████████████████| 938/938 [00:39<00:00, 23.86it/s]\n"
     ]
    },
    {
     "name": "stdout",
     "output_type": "stream",
     "text": [
      "epoch: 94/100 D loss: 0.5201664566993713 G loss: 0.10251795500516891\n"
     ]
    },
    {
     "name": "stderr",
     "output_type": "stream",
     "text": [
      "100%|█████████████████████████████████████████████████████████████| 938/938 [00:39<00:00, 23.78it/s]\n"
     ]
    },
    {
     "name": "stdout",
     "output_type": "stream",
     "text": [
      "epoch: 95/100 D loss: 0.5139280557632446 G loss: 0.12168795615434647\n"
     ]
    },
    {
     "name": "stderr",
     "output_type": "stream",
     "text": [
      "100%|█████████████████████████████████████████████████████████████| 938/938 [00:39<00:00, 23.89it/s]\n"
     ]
    },
    {
     "name": "stdout",
     "output_type": "stream",
     "text": [
      "epoch: 96/100 D loss: 0.45037010312080383 G loss: 0.10290137678384781\n"
     ]
    },
    {
     "name": "stderr",
     "output_type": "stream",
     "text": [
      "100%|█████████████████████████████████████████████████████████████| 938/938 [00:39<00:00, 23.91it/s]\n"
     ]
    },
    {
     "name": "stdout",
     "output_type": "stream",
     "text": [
      "epoch: 97/100 D loss: 0.4939908981323242 G loss: 0.1071738451719284\n"
     ]
    },
    {
     "name": "stderr",
     "output_type": "stream",
     "text": [
      "100%|█████████████████████████████████████████████████████████████| 938/938 [00:39<00:00, 23.78it/s]\n"
     ]
    },
    {
     "name": "stdout",
     "output_type": "stream",
     "text": [
      "epoch: 98/100 D loss: 0.3294450640678406 G loss: 0.10539760440587997\n"
     ]
    },
    {
     "name": "stderr",
     "output_type": "stream",
     "text": [
      "100%|█████████████████████████████████████████████████████████████| 938/938 [00:39<00:00, 23.88it/s]\n"
     ]
    },
    {
     "name": "stdout",
     "output_type": "stream",
     "text": [
      "epoch: 99/100 D loss: 0.3767692446708679 G loss: 0.12156082689762115\n"
     ]
    }
   ],
   "source": [
    "optimizer_G = torch.optim.Adam(itertools.chain(encoder.parameters(), \n",
    "                                               decoder.parameters()), \n",
    "                               lr=lr, \n",
    "                               betas=(b1, b2))\n",
    "\n",
    "optimizer_D = torch.optim.Adam(discriminator.parameters(), \n",
    "                               lr=lr, \n",
    "                               betas=(b1, b2))\n",
    "\n",
    "Tensor = torch.cuda.FloatTensor if torch.cuda.is_available() else torch.FloatTensor\n",
    "\n",
    "for epoch in range(n_epochs):\n",
    "    \n",
    "    for imgs, _ in tqdm(dataloader):\n",
    "        \n",
    "        valid = Variable(Tensor(imgs.shape[0], 1).fill_(1.), requires_grad=False)\n",
    "        fake = Variable(Tensor(imgs.shape[0], 1).fill_(0.), requires_grad=False)\n",
    "        \n",
    "        real_imgs = Variable(imgs.type(Tensor))\n",
    "        \n",
    "        \n",
    "        # Generator\n",
    "        optimizer_G.zero_grad()\n",
    "        \n",
    "        encoded_imgs = encoder(real_imgs)\n",
    "        decoded_imgs = decoder(encoded_imgs)\n",
    "        \n",
    "        # Loss measures generator's ability to fool the discriminator\n",
    "        g_loss = 0.001 * adversarial_loss(discriminator(encoded_imgs), valid) \\\n",
    "               + 0.999 * pixelwise_loss(decoded_imgs, real_imgs)\n",
    "        \n",
    "        g_loss.backward()\n",
    "        \n",
    "        optimizer_G.step()\n",
    "        \n",
    "        \n",
    "        # Discriminator\n",
    "        optimizer_D.zero_grad()\n",
    "        \n",
    "        # Sample noise as discriminator ground truth\n",
    "        z = Variable(Tensor(np.random.normal(0, 1, (imgs.shape[0], latent_dim))))\n",
    "        \n",
    "        # Measures discriminator's ability to classify real from generated samples\n",
    "        real_loss = adversarial_loss(discriminator(z), valid)\n",
    "        fake_loss = adversarial_loss(discriminator(encoded_imgs.detach()), fake)\n",
    "        d_loss = 0.5 * (real_loss + fake_loss)\n",
    "        \n",
    "        d_loss.backward()\n",
    "        \n",
    "        optimizer_D.step()\n",
    "    \n",
    "    # Save result per epoch\n",
    "    sample_image(n_row=10, epoch=epoch)\n",
    "    print(f'epoch: {epoch}/{n_epochs} D loss: {d_loss.item()} G loss: {g_loss.item()}')\n"
   ]
  },
  {
   "cell_type": "code",
   "execution_count": null,
   "id": "d3b749a1",
   "metadata": {},
   "outputs": [],
   "source": []
  }
 ],
 "metadata": {
  "kernelspec": {
   "display_name": "Python 3 (ipykernel)",
   "language": "python",
   "name": "python3"
  },
  "language_info": {
   "codemirror_mode": {
    "name": "ipython",
    "version": 3
   },
   "file_extension": ".py",
   "mimetype": "text/x-python",
   "name": "python",
   "nbconvert_exporter": "python",
   "pygments_lexer": "ipython3",
   "version": "3.8.5"
  }
 },
 "nbformat": 4,
 "nbformat_minor": 5
}
