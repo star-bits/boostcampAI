{
 "cells": [
  {
   "cell_type": "code",
   "execution_count": 1,
   "id": "bf8d45a9",
   "metadata": {},
   "outputs": [
    {
     "name": "stdout",
     "output_type": "stream",
     "text": [
      "3.8.5\n",
      "3.5.1\n",
      "1.10.2\n"
     ]
    }
   ],
   "source": [
    "from platform import python_version\n",
    "import numpy as np\n",
    "import matplotlib as mpl\n",
    "import matplotlib.pyplot as plt\n",
    "import torch\n",
    "import torch.nn as nn\n",
    "import torch.optim as optim\n",
    "import torch.nn.functional as F\n",
    "from torchvision import datasets, transforms\n",
    "from tqdm import tqdm\n",
    "\n",
    "print(python_version())\n",
    "print(mpl.__version__)\n",
    "print(torch.__version__)"
   ]
  },
  {
   "cell_type": "code",
   "execution_count": 2,
   "id": "b9a9aff4",
   "metadata": {},
   "outputs": [
    {
     "name": "stdout",
     "output_type": "stream",
     "text": [
      "cpu\n"
     ]
    }
   ],
   "source": [
    "device = torch.device('cuda:0' if torch.cuda.is_available() else 'cpu')\n",
    "print(device)"
   ]
  },
  {
   "cell_type": "code",
   "execution_count": 3,
   "id": "7b51e2fd",
   "metadata": {},
   "outputs": [
    {
     "name": "stdout",
     "output_type": "stream",
     "text": [
      "Dataset MNIST\n",
      "    Number of datapoints: 60000\n",
      "    Root location: ./mnist/\n",
      "    Split: Train\n",
      "    StandardTransform\n",
      "Transform: ToTensor()\n",
      "Dataset MNIST\n",
      "    Number of datapoints: 10000\n",
      "    Root location: ./mnist/\n",
      "    Split: Test\n",
      "    StandardTransform\n",
      "Transform: ToTensor()\n"
     ]
    }
   ],
   "source": [
    "# dataset\n",
    "\n",
    "mnist_train = datasets.MNIST(root='./mnist/',\n",
    "                             train=True,\n",
    "                             transform=transforms.ToTensor(),\n",
    "                             download=True)\n",
    "mnist_test = datasets.MNIST(root='./mnist/',\n",
    "                            train=False,\n",
    "                            transform=transforms.ToTensor(),\n",
    "                            download=True)\n",
    "\n",
    "print(mnist_train)\n",
    "print(mnist_test)"
   ]
  },
  {
   "cell_type": "code",
   "execution_count": 4,
   "id": "b6c2b415",
   "metadata": {},
   "outputs": [],
   "source": [
    "# dataloader\n",
    "\n",
    "BATCH_SIZE = 256\n",
    "\n",
    "train_iter = torch.utils.data.DataLoader(mnist_train,\n",
    "                                         batch_size=BATCH_SIZE,\n",
    "                                         shuffle=True,\n",
    "                                         num_workers=1)\n",
    "test_iter = torch.utils.data.DataLoader(mnist_test,\n",
    "                                        batch_size=BATCH_SIZE,\n",
    "                                        shuffle=True,\n",
    "                                        num_workers=1)"
   ]
  },
  {
   "cell_type": "code",
   "execution_count": 5,
   "id": "2e2f4d98",
   "metadata": {},
   "outputs": [
    {
     "name": "stdout",
     "output_type": "stream",
     "text": [
      "torch.Size([256, 1, 28, 28])\n",
      "torch.Size([256])\n"
     ]
    }
   ],
   "source": [
    "for index, i in enumerate(train_iter):\n",
    "\n",
    "    if index==1:\n",
    "        break\n",
    "    \n",
    "    print(i[0].shape)\n",
    "    print(i[1].shape)"
   ]
  },
  {
   "cell_type": "code",
   "execution_count": 6,
   "id": "8363ad9a",
   "metadata": {},
   "outputs": [],
   "source": [
    "# model\n",
    "\n",
    "class MLPClass(nn.Module):\n",
    "    \n",
    "    def __init__(self, name='mlp', xdim=784, hdim=256, ydim=10):\n",
    "        super(MLPClass, self).__init__()\n",
    "        self.name = name\n",
    "        \n",
    "        self.xdim = xdim\n",
    "        self.hdim = hdim\n",
    "        self.ydim = ydim\n",
    "        \n",
    "        self.lin_1 = nn.Linear(self.xdim, self.hdim)\n",
    "        self.lin_2 = nn.Linear(self.hdim, self.ydim)\n",
    "        \n",
    "        self.init_param()\n",
    "        \n",
    "    def init_param(self):\n",
    "        nn.init.kaiming_normal_(self.lin_1.weight)\n",
    "        nn.init.zeros_(self.lin_1.bias)\n",
    "        nn.init.kaiming_normal_(self.lin_2.weight)\n",
    "        nn.init.zeros_(self.lin_2.bias)\n",
    "        \n",
    "    def forward(self, x):\n",
    "        net = x\n",
    "        net = self.lin_1(net)\n",
    "        net = F.relu(net)\n",
    "        net = self.lin_2(net)\n",
    "        return net\n",
    "\n",
    "M = MLPClass(name='mlp', xdim=784, hdim=256, ydim=10).to(device)\n",
    "\n",
    "loss = nn.CrossEntropyLoss()\n",
    "\n",
    "optm = optim.Adam(M.parameters(), lr=1e-3)"
   ]
  },
  {
   "cell_type": "code",
   "execution_count": 7,
   "id": "e82ee397",
   "metadata": {},
   "outputs": [
    {
     "name": "stdout",
     "output_type": "stream",
     "text": [
      "lin_1.weight torch.Size([256, 784])\n",
      "Parameter containing:\n",
      "tensor([[-0.0114, -0.0183,  0.0138,  ..., -0.0035, -0.0225, -0.0109],\n",
      "        [-0.0993,  0.0022,  0.0454,  ...,  0.0823, -0.0650, -0.0665],\n",
      "        [ 0.0509, -0.0157,  0.0738,  ...,  0.0310, -0.0488, -0.0033],\n",
      "        ...,\n",
      "        [ 0.0264, -0.0319,  0.0271,  ...,  0.0177, -0.0210, -0.0037],\n",
      "        [ 0.0566, -0.0570,  0.0462,  ...,  0.0008,  0.0092,  0.0521],\n",
      "        [ 0.0525,  0.0219, -0.0188,  ...,  0.0105,  0.0169, -0.0692]],\n",
      "       requires_grad=True)\n",
      "\n",
      "lin_1.bias torch.Size([256])\n",
      "Parameter containing:\n",
      "tensor([0., 0., 0., 0., 0., 0., 0., 0., 0., 0., 0., 0., 0., 0., 0., 0., 0., 0., 0., 0., 0., 0., 0., 0.,\n",
      "        0., 0., 0., 0., 0., 0., 0., 0., 0., 0., 0., 0., 0., 0., 0., 0., 0., 0., 0., 0., 0., 0., 0., 0.,\n",
      "        0., 0., 0., 0., 0., 0., 0., 0., 0., 0., 0., 0., 0., 0., 0., 0., 0., 0., 0., 0., 0., 0., 0., 0.,\n",
      "        0., 0., 0., 0., 0., 0., 0., 0., 0., 0., 0., 0., 0., 0., 0., 0., 0., 0., 0., 0., 0., 0., 0., 0.,\n",
      "        0., 0., 0., 0., 0., 0., 0., 0., 0., 0., 0., 0., 0., 0., 0., 0., 0., 0., 0., 0., 0., 0., 0., 0.,\n",
      "        0., 0., 0., 0., 0., 0., 0., 0., 0., 0., 0., 0., 0., 0., 0., 0., 0., 0., 0., 0., 0., 0., 0., 0.,\n",
      "        0., 0., 0., 0., 0., 0., 0., 0., 0., 0., 0., 0., 0., 0., 0., 0., 0., 0., 0., 0., 0., 0., 0., 0.,\n",
      "        0., 0., 0., 0., 0., 0., 0., 0., 0., 0., 0., 0., 0., 0., 0., 0., 0., 0., 0., 0., 0., 0., 0., 0.,\n",
      "        0., 0., 0., 0., 0., 0., 0., 0., 0., 0., 0., 0., 0., 0., 0., 0., 0., 0., 0., 0., 0., 0., 0., 0.,\n",
      "        0., 0., 0., 0., 0., 0., 0., 0., 0., 0., 0., 0., 0., 0., 0., 0., 0., 0., 0., 0., 0., 0., 0., 0.,\n",
      "        0., 0., 0., 0., 0., 0., 0., 0., 0., 0., 0., 0., 0., 0., 0., 0.],\n",
      "       requires_grad=True)\n",
      "\n",
      "lin_2.weight torch.Size([10, 256])\n",
      "Parameter containing:\n",
      "tensor([[ 0.0181,  0.0402, -0.0937,  ...,  0.0851,  0.0766, -0.0243],\n",
      "        [-0.0715, -0.1582, -0.0499,  ...,  0.0394, -0.0910, -0.0583],\n",
      "        [-0.1030,  0.2044, -0.0110,  ..., -0.0131,  0.0027,  0.0082],\n",
      "        ...,\n",
      "        [ 0.1720, -0.0398,  0.1176,  ...,  0.0961, -0.1343,  0.1374],\n",
      "        [ 0.0683,  0.0623, -0.1217,  ..., -0.0586,  0.0351,  0.0361],\n",
      "        [-0.0363,  0.0393,  0.0044,  ..., -0.0343, -0.0361, -0.1104]],\n",
      "       requires_grad=True)\n",
      "\n",
      "lin_2.bias torch.Size([10])\n",
      "Parameter containing:\n",
      "tensor([0., 0., 0., 0., 0., 0., 0., 0., 0., 0.], requires_grad=True)\n",
      "\n",
      "Total number of parameters: 203530\n"
     ]
    }
   ],
   "source": [
    "# check parameters\n",
    "\n",
    "n_param = 0\n",
    "\n",
    "for param_name, param in M.named_parameters():\n",
    "\n",
    "    n_param += len(param.reshape(-1))\n",
    "    \n",
    "    print(param_name, param.shape)\n",
    "    print(param)\n",
    "    print()\n",
    "\n",
    "print(f'Total number of parameters: {n_param}')"
   ]
  },
  {
   "cell_type": "code",
   "execution_count": 8,
   "id": "4d037206",
   "metadata": {},
   "outputs": [
    {
     "data": {
      "text/plain": [
       "MLPClass(\n",
       "  (lin_1): Linear(in_features=784, out_features=256, bias=True)\n",
       "  (lin_2): Linear(in_features=256, out_features=10, bias=True)\n",
       ")"
      ]
     },
     "execution_count": 8,
     "metadata": {},
     "output_type": "execute_result"
    }
   ],
   "source": [
    "M"
   ]
  },
  {
   "cell_type": "code",
   "execution_count": 111,
   "id": "a2951f05",
   "metadata": {},
   "outputs": [
    {
     "data": {
      "text/plain": [
       "[('lin_1.weight',\n",
       "  Parameter containing:\n",
       "  tensor([[-0.0683,  0.0539,  0.0112,  ...,  0.0408, -0.0327,  0.0840],\n",
       "          [ 0.0086,  0.0076, -0.0628,  ..., -0.0544,  0.0880, -0.0398],\n",
       "          [ 0.0023, -0.0427, -0.0331,  ..., -0.0148, -0.0302, -0.0346],\n",
       "          ...,\n",
       "          [ 0.0571, -0.0644, -0.0139,  ...,  0.0854,  0.0402,  0.0072],\n",
       "          [ 0.0065, -0.0628, -0.0216,  ...,  0.0263, -0.0617,  0.0313],\n",
       "          [ 0.0211,  0.0613, -0.0511,  ...,  0.0961, -0.0321,  0.0080]],\n",
       "         requires_grad=True)),\n",
       " ('lin_1.bias',\n",
       "  Parameter containing:\n",
       "  tensor([0., 0., 0., 0., 0., 0., 0., 0., 0., 0., 0., 0., 0., 0., 0., 0., 0., 0., 0., 0., 0., 0., 0., 0.,\n",
       "          0., 0., 0., 0., 0., 0., 0., 0., 0., 0., 0., 0., 0., 0., 0., 0., 0., 0., 0., 0., 0., 0., 0., 0.,\n",
       "          0., 0., 0., 0., 0., 0., 0., 0., 0., 0., 0., 0., 0., 0., 0., 0., 0., 0., 0., 0., 0., 0., 0., 0.,\n",
       "          0., 0., 0., 0., 0., 0., 0., 0., 0., 0., 0., 0., 0., 0., 0., 0., 0., 0., 0., 0., 0., 0., 0., 0.,\n",
       "          0., 0., 0., 0., 0., 0., 0., 0., 0., 0., 0., 0., 0., 0., 0., 0., 0., 0., 0., 0., 0., 0., 0., 0.,\n",
       "          0., 0., 0., 0., 0., 0., 0., 0., 0., 0., 0., 0., 0., 0., 0., 0., 0., 0., 0., 0., 0., 0., 0., 0.,\n",
       "          0., 0., 0., 0., 0., 0., 0., 0., 0., 0., 0., 0., 0., 0., 0., 0., 0., 0., 0., 0., 0., 0., 0., 0.,\n",
       "          0., 0., 0., 0., 0., 0., 0., 0., 0., 0., 0., 0., 0., 0., 0., 0., 0., 0., 0., 0., 0., 0., 0., 0.,\n",
       "          0., 0., 0., 0., 0., 0., 0., 0., 0., 0., 0., 0., 0., 0., 0., 0., 0., 0., 0., 0., 0., 0., 0., 0.,\n",
       "          0., 0., 0., 0., 0., 0., 0., 0., 0., 0., 0., 0., 0., 0., 0., 0., 0., 0., 0., 0., 0., 0., 0., 0.,\n",
       "          0., 0., 0., 0., 0., 0., 0., 0., 0., 0., 0., 0., 0., 0., 0., 0.],\n",
       "         requires_grad=True)),\n",
       " ('lin_2.weight',\n",
       "  Parameter containing:\n",
       "  tensor([[ 0.0828, -0.0145,  0.0465,  ...,  0.0535,  0.0059,  0.1469],\n",
       "          [ 0.0138, -0.1517,  0.0404,  ...,  0.0421, -0.1673, -0.0463],\n",
       "          [ 0.0392,  0.0185,  0.0689,  ..., -0.1918,  0.0930,  0.1576],\n",
       "          ...,\n",
       "          [ 0.1282,  0.0205, -0.0429,  ...,  0.0756, -0.0553, -0.0742],\n",
       "          [ 0.0696, -0.0491,  0.0289,  ..., -0.0165, -0.0215, -0.0061],\n",
       "          [-0.0156, -0.0604,  0.0406,  ...,  0.1220,  0.0170,  0.0048]],\n",
       "         requires_grad=True)),\n",
       " ('lin_2.bias',\n",
       "  Parameter containing:\n",
       "  tensor([0., 0., 0., 0., 0., 0., 0., 0., 0., 0.], requires_grad=True))]"
      ]
     },
     "execution_count": 111,
     "metadata": {},
     "output_type": "execute_result"
    }
   ],
   "source": [
    "list(M.named_parameters())"
   ]
  },
  {
   "cell_type": "code",
   "execution_count": 112,
   "id": "c87e0056",
   "metadata": {},
   "outputs": [
    {
     "data": {
      "text/plain": [
       "Linear(in_features=784, out_features=256, bias=True)"
      ]
     },
     "execution_count": 112,
     "metadata": {},
     "output_type": "execute_result"
    }
   ],
   "source": [
    "M.lin_1"
   ]
  },
  {
   "cell_type": "code",
   "execution_count": 113,
   "id": "fca5cc32",
   "metadata": {},
   "outputs": [
    {
     "data": {
      "text/plain": [
       "Parameter containing:\n",
       "tensor([[-0.0683,  0.0539,  0.0112,  ...,  0.0408, -0.0327,  0.0840],\n",
       "        [ 0.0086,  0.0076, -0.0628,  ..., -0.0544,  0.0880, -0.0398],\n",
       "        [ 0.0023, -0.0427, -0.0331,  ..., -0.0148, -0.0302, -0.0346],\n",
       "        ...,\n",
       "        [ 0.0571, -0.0644, -0.0139,  ...,  0.0854,  0.0402,  0.0072],\n",
       "        [ 0.0065, -0.0628, -0.0216,  ...,  0.0263, -0.0617,  0.0313],\n",
       "        [ 0.0211,  0.0613, -0.0511,  ...,  0.0961, -0.0321,  0.0080]],\n",
       "       requires_grad=True)"
      ]
     },
     "execution_count": 113,
     "metadata": {},
     "output_type": "execute_result"
    }
   ],
   "source": [
    "M.lin_1.weight"
   ]
  },
  {
   "cell_type": "code",
   "execution_count": 120,
   "id": "9b6cde68",
   "metadata": {},
   "outputs": [
    {
     "data": {
      "text/plain": [
       "tensor([[0., 0., 0.,  ..., 0., 0., 0.],\n",
       "        [0., 0., 0.,  ..., 0., 0., 0.],\n",
       "        [0., 0., 0.,  ..., 0., 0., 0.],\n",
       "        ...,\n",
       "        [0., 0., 0.,  ..., 0., 0., 0.],\n",
       "        [0., 0., 0.,  ..., 0., 0., 0.],\n",
       "        [0., 0., 0.,  ..., 0., 0., 0.]])"
      ]
     },
     "execution_count": 120,
     "metadata": {},
     "output_type": "execute_result"
    }
   ],
   "source": [
    "M.lin_1.weight.grad"
   ]
  },
  {
   "cell_type": "code",
   "execution_count": 115,
   "id": "dd014c67",
   "metadata": {},
   "outputs": [
    {
     "name": "stdout",
     "output_type": "stream",
     "text": [
      "x_numpy: (2, 784)\n",
      "[[0.738 0.912 0.434 ... 0.758 0.123 0.329]\n",
      " [0.305 0.641 0.59  ... 0.924 0.437 0.939]]\n",
      "\n",
      "x_torch: torch.Size([2, 784])\n",
      "tensor([[0.7377, 0.9119, 0.4338,  ..., 0.7582, 0.1230, 0.3287],\n",
      "        [0.3055, 0.6410, 0.5902,  ..., 0.9239, 0.4366, 0.9393]])\n",
      "\n",
      "y_torch: torch.Size([2, 10])\n",
      "tensor([[-1.9858,  0.2116, -0.4922,  0.3861,  0.6996, -0.1119, -0.1478, -0.1160,\n",
      "         -1.5001, -0.7900],\n",
      "        [-1.0128, -0.4024,  0.5113,  1.1909,  0.5354,  0.0082, -0.1829,  0.0639,\n",
      "         -1.7260, -0.4146]], grad_fn=<AddmmBackward0>)\n",
      "\n",
      "y_numpy: (2, 10)\n",
      "[[-1.986  0.212 -0.492  0.386  0.7   -0.112 -0.148 -0.116 -1.5   -0.79 ]\n",
      " [-1.013 -0.402  0.511  1.191  0.535  0.008 -0.183  0.064 -1.726 -0.415]]\n",
      "\n"
     ]
    }
   ],
   "source": [
    "# simple forward pass of the model\n",
    "\n",
    "x_numpy = np.random.rand(2,784)\n",
    "x_torch = torch.from_numpy(x_numpy).float().to(device)\n",
    "\n",
    "y_torch = M.forward(x_torch)\n",
    "# Can't use numpy() on Tensor that requires grad. \n",
    "# Use tensor.detach().numpy() instead\n",
    "y_numpy = y_torch.detach().numpy()\n",
    "\n",
    "print (f'x_numpy: {x_numpy.shape}\\n{x_numpy}\\n')\n",
    "print (f'x_torch: {x_torch.shape}\\n{x_torch}\\n')\n",
    "print (f'y_torch: {y_torch.shape}\\n{y_torch}\\n')\n",
    "print (f'y_numpy: {y_numpy.shape}\\n{y_numpy}\\n')"
   ]
  },
  {
   "cell_type": "code",
   "execution_count": 116,
   "id": "69751343",
   "metadata": {},
   "outputs": [],
   "source": [
    "# evaluation function\n",
    "\n",
    "def func_eval(model, data_iter, device):\n",
    "    \n",
    "    with torch.no_grad():\n",
    "        model.eval()\n",
    "        \n",
    "        # torch.no_grad & model.eval(): evaluation mode\n",
    "        # turns off dropout and BN\n",
    "        \n",
    "        n_correct, n_total = 0, 0\n",
    "        \n",
    "        for X, y in data_iter:\n",
    "            \n",
    "            y = y.to(device)\n",
    "            # print(f'y:\\n{y}\\n')\n",
    "\n",
    "            output = model(X.view(-1, 28*28).to(device))\n",
    "            # print(f'output:\\n{output}\\n')\n",
    "            _, y_pred = torch.max(output, 1)\n",
    "            # print(f'y_pred:\\n{y_pred}\\n')\n",
    "            \n",
    "            # torch.max(input, dim) returns (values, indices).\n",
    "            # torch.max(input) returns value.\n",
    "            \n",
    "            n_correct += (y_pred==y).sum().item()\n",
    "            # Tensor.item() returns the value of this tensor.\n",
    "            # as a standard python number.\n",
    "            # Only works for tensors with one element.\n",
    "            # For other cases, use tolist()\n",
    "            \n",
    "            n_total += X.size(0)\n",
    "            \n",
    "        acc = n_correct/n_total\n",
    "        \n",
    "        model.train() # back to train mode\n",
    "        \n",
    "    return acc"
   ]
  },
  {
   "cell_type": "code",
   "execution_count": 117,
   "id": "5d3f7bb7",
   "metadata": {},
   "outputs": [
    {
     "name": "stdout",
     "output_type": "stream",
     "text": [
      "0.10871666666666667\n",
      "0.1139\n"
     ]
    }
   ],
   "source": [
    "M.init_param() # initialize parameters\n",
    "\n",
    "train_acc = func_eval(M, train_iter, device)\n",
    "test_acc = func_eval(M, test_iter, device)\n",
    "\n",
    "print(train_acc)\n",
    "print(test_acc)"
   ]
  },
  {
   "cell_type": "code",
   "execution_count": 118,
   "id": "9b7bfcec",
   "metadata": {},
   "outputs": [
    {
     "data": {
      "application/vnd.jupyter.widget-view+json": {
       "model_id": "df209df388a141d9a7d53e1617be37bd",
       "version_major": 2,
       "version_minor": 0
      },
      "text/plain": [
       "  0%|          | 0/235 [00:00<?, ?it/s]"
      ]
     },
     "metadata": {},
     "output_type": "display_data"
    },
    {
     "name": "stdout",
     "output_type": "stream",
     "text": [
      "epoch: 0, loss: 0.37538042664527893\n",
      "train_acc: 0.9471833333333334, test_acc: 0.9429\n"
     ]
    },
    {
     "data": {
      "application/vnd.jupyter.widget-view+json": {
       "model_id": "df4c69d156d341a1b4e931d9fb91c0e1",
       "version_major": 2,
       "version_minor": 0
      },
      "text/plain": [
       "  0%|          | 0/235 [00:00<?, ?it/s]"
      ]
     },
     "metadata": {},
     "output_type": "display_data"
    },
    {
     "name": "stdout",
     "output_type": "stream",
     "text": [
      "epoch: 1, loss: 0.1632610708475113\n",
      "train_acc: 0.9659833333333333, test_acc: 0.9598\n"
     ]
    },
    {
     "data": {
      "application/vnd.jupyter.widget-view+json": {
       "model_id": "61f1d362fec44d6caacdb8297b9a8fd8",
       "version_major": 2,
       "version_minor": 0
      },
      "text/plain": [
       "  0%|          | 0/235 [00:00<?, ?it/s]"
      ]
     },
     "metadata": {},
     "output_type": "display_data"
    },
    {
     "name": "stdout",
     "output_type": "stream",
     "text": [
      "epoch: 2, loss: 0.11501523107290268\n",
      "train_acc: 0.9748666666666667, test_acc: 0.9681\n"
     ]
    },
    {
     "data": {
      "application/vnd.jupyter.widget-view+json": {
       "model_id": "04ea314f58654511b4a7ec70a73d808a",
       "version_major": 2,
       "version_minor": 0
      },
      "text/plain": [
       "  0%|          | 0/235 [00:00<?, ?it/s]"
      ]
     },
     "metadata": {},
     "output_type": "display_data"
    },
    {
     "name": "stdout",
     "output_type": "stream",
     "text": [
      "epoch: 3, loss: 0.08778809756040573\n",
      "train_acc: 0.9816, test_acc: 0.9733\n"
     ]
    },
    {
     "data": {
      "application/vnd.jupyter.widget-view+json": {
       "model_id": "402b96a43c36431ba350b2196744a8ca",
       "version_major": 2,
       "version_minor": 0
      },
      "text/plain": [
       "  0%|          | 0/235 [00:00<?, ?it/s]"
      ]
     },
     "metadata": {},
     "output_type": "display_data"
    },
    {
     "name": "stdout",
     "output_type": "stream",
     "text": [
      "epoch: 4, loss: 0.0694730132818222\n",
      "train_acc: 0.9833333333333333, test_acc: 0.9732\n"
     ]
    },
    {
     "data": {
      "application/vnd.jupyter.widget-view+json": {
       "model_id": "b952a52d01ef4a478de40b977b81d01a",
       "version_major": 2,
       "version_minor": 0
      },
      "text/plain": [
       "  0%|          | 0/235 [00:00<?, ?it/s]"
      ]
     },
     "metadata": {},
     "output_type": "display_data"
    },
    {
     "name": "stdout",
     "output_type": "stream",
     "text": [
      "epoch: 5, loss: 0.05736884847283363\n",
      "train_acc: 0.9861333333333333, test_acc: 0.9743\n"
     ]
    },
    {
     "data": {
      "application/vnd.jupyter.widget-view+json": {
       "model_id": "2dd38788e0c243d38415310d47724e20",
       "version_major": 2,
       "version_minor": 0
      },
      "text/plain": [
       "  0%|          | 0/235 [00:00<?, ?it/s]"
      ]
     },
     "metadata": {},
     "output_type": "display_data"
    },
    {
     "name": "stdout",
     "output_type": "stream",
     "text": [
      "epoch: 6, loss: 0.0485711395740509\n",
      "train_acc: 0.9897666666666667, test_acc: 0.9772\n"
     ]
    },
    {
     "data": {
      "application/vnd.jupyter.widget-view+json": {
       "model_id": "7e4e9b481ae244e08106384920432b4c",
       "version_major": 2,
       "version_minor": 0
      },
      "text/plain": [
       "  0%|          | 0/235 [00:00<?, ?it/s]"
      ]
     },
     "metadata": {},
     "output_type": "display_data"
    },
    {
     "name": "stdout",
     "output_type": "stream",
     "text": [
      "epoch: 7, loss: 0.039260681718587875\n",
      "train_acc: 0.99305, test_acc: 0.9779\n"
     ]
    },
    {
     "data": {
      "application/vnd.jupyter.widget-view+json": {
       "model_id": "92f53bf330284c4fb39ae6ec17bf40e0",
       "version_major": 2,
       "version_minor": 0
      },
      "text/plain": [
       "  0%|          | 0/235 [00:00<?, ?it/s]"
      ]
     },
     "metadata": {},
     "output_type": "display_data"
    },
    {
     "name": "stdout",
     "output_type": "stream",
     "text": [
      "epoch: 8, loss: 0.03289056941866875\n",
      "train_acc: 0.9936666666666667, test_acc: 0.9784\n"
     ]
    },
    {
     "data": {
      "application/vnd.jupyter.widget-view+json": {
       "model_id": "2c56d1b65eae4f49a137318804518c7c",
       "version_major": 2,
       "version_minor": 0
      },
      "text/plain": [
       "  0%|          | 0/235 [00:00<?, ?it/s]"
      ]
     },
     "metadata": {},
     "output_type": "display_data"
    },
    {
     "name": "stdout",
     "output_type": "stream",
     "text": [
      "epoch: 9, loss: 0.028445513918995857\n",
      "train_acc: 0.9958166666666667, test_acc: 0.9796\n"
     ]
    }
   ],
   "source": [
    "# train\n",
    "\n",
    "M.init_param()\n",
    "M.train()\n",
    "\n",
    "EPOCHS = 10\n",
    "print_every = 1\n",
    "\n",
    "for epoch in range(EPOCHS):\n",
    "    \n",
    "    loss_val_sum = 0\n",
    "    \n",
    "    for X, y in tqdm(train_iter):\n",
    "        \n",
    "        output = M.forward(X.view(-1, 28*28).to(device))\n",
    "        \n",
    "        loss_out = loss(output, y.to(device))\n",
    "        # print(output)\n",
    "        # print(y.to(device))\n",
    "        \n",
    "        # output은 10개의 element를 갖는 리스트이고\n",
    "        # y는 0에서 9 사이의 정수인데\n",
    "        # 어떻게 loss function에 같이 넣는게 가능???\n",
    "        \n",
    "        optm.zero_grad() # reset gradient\n",
    "        \n",
    "        loss_out.backward() # backprop\n",
    "        \n",
    "        optm.step() # optimizer update\n",
    "        \n",
    "        loss_val_sum += loss_out\n",
    "        \n",
    "    loss_val_avg = loss_val_sum/len(train_iter)\n",
    "    \n",
    "    if ((epoch%print_every)==0) or (epoch==(EPOCH-1)):\n",
    "        \n",
    "        train_acc = func_eval(M, train_iter, device)\n",
    "        test_acc = func_eval(M, test_iter, device)\n",
    "        \n",
    "        print(f'epoch: {epoch}, loss: {loss_val_avg}')\n",
    "        print(f'train_acc: {train_acc}, test_acc: {test_acc}')"
   ]
  },
  {
   "cell_type": "code",
   "execution_count": 119,
   "id": "2c6847dd",
   "metadata": {},
   "outputs": [
    {
     "data": {
      "image/png": "[encoded data removed]",
      "text/plain": [
       "<Figure size 720x720 with 25 Axes>"
      ]
     },
     "metadata": {
      "needs_background": "light"
     },
     "output_type": "display_data"
    }
   ],
   "source": [
    "# test\n",
    "\n",
    "n_samples = 25\n",
    "sample_indices = np.random.choice(len(mnist_test.targets), n_samples, replace=False)\n",
    "\n",
    "test_X = mnist_test.data[sample_indices]\n",
    "test_y = mnist_test.targets[sample_indices]\n",
    "\n",
    "with torch.no_grad():\n",
    "    output = M.forward(test_X.view(-1, 28*28).type(torch.float).to(device)/255.)\n",
    "    \n",
    "y_pred = output.argmax(axis=1)\n",
    "\n",
    "plt.figure(figsize=(10, 10))\n",
    "for idx in range(n_samples):\n",
    "    plt.subplot(5, 5, idx+1)\n",
    "    plt.imshow(test_X[idx], cmap='gray')\n",
    "    plt.axis('off')\n",
    "    plt.title(f'Pred: {y_pred[idx]}, Lable: {test_y[idx]}')\n",
    "plt.show()\n"
   ]
  },
  {
   "cell_type": "code",
   "execution_count": null,
   "id": "c65a02a9",
   "metadata": {},
   "outputs": [],
   "source": []
  }
 ],
 "metadata": {
  "kernelspec": {
   "display_name": "Python 3 (ipykernel)",
   "language": "python",
   "name": "python3"
  },
  "language_info": {
   "codemirror_mode": {
    "name": "ipython",
    "version": 3
   },
   "file_extension": ".py",
   "mimetype": "text/x-python",
   "name": "python",
   "nbconvert_exporter": "python",
   "pygments_lexer": "ipython3",
   "version": "3.8.5"
  }
 },
 "nbformat": 4,
 "nbformat_minor": 5
}
