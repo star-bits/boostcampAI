{
 "cells": [
  {
   "cell_type": "markdown",
   "id": "a32b0f94",
   "metadata": {},
   "source": [
    "## ViT is composed of:\n",
    "1. patch + position embedding\n",
    "2. encoder\n",
    "3. classification head"
   ]
  },
  {
   "cell_type": "code",
   "execution_count": 25,
   "id": "37faa0b6",
   "metadata": {},
   "outputs": [],
   "source": [
    "import os\n",
    "import copy\n",
    "import cv2\n",
    "import numpy as np\n",
    "import matplotlib.pyplot as plt\n",
    "import torch\n",
    "# from torch import Tensor\n",
    "import torch.nn as nn\n",
    "import torch.optim as optim\n",
    "# from torch.optim import lr_scheduler\n",
    "from torchvision import datasets, transforms\n",
    "# import torchvision.datasets as dset\n",
    "# import torchvision.transforms as T\n",
    "# from torchvision.transforms import Compose, Resize, ToTensor\n",
    "# from torch.utils.data import DataLoader\n",
    "# from torch.utils.data import sampler\n",
    "from torchsummary import summary\n",
    "from tqdm import tqdm\n",
    "import einops\n",
    "# from einops import rearrange, repeat, reduce\n",
    "# from einops.layers.torch import Rearrange, Reduce"
   ]
  },
  {
   "cell_type": "code",
   "execution_count": 26,
   "id": "fa2a7ef2",
   "metadata": {},
   "outputs": [
    {
     "name": "stdout",
     "output_type": "stream",
     "text": [
      "cpu\n"
     ]
    }
   ],
   "source": [
    "device = torch.device('cuda' if torch.cuda.is_available() else 'cpu')\n",
    "print(device)"
   ]
  },
  {
   "cell_type": "code",
   "execution_count": 27,
   "id": "64b53763",
   "metadata": {},
   "outputs": [],
   "source": [
    "dtype = torch.long"
   ]
  },
  {
   "cell_type": "code",
   "execution_count": 28,
   "id": "aacf7ea4",
   "metadata": {},
   "outputs": [
    {
     "name": "stdout",
     "output_type": "stream",
     "text": [
      "Dataset MNIST\n",
      "    Number of datapoints: 60000\n",
      "    Root location: ./mnist/\n",
      "    Split: Train\n",
      "    StandardTransform\n",
      "Transform: Compose(\n",
      "               ToTensor()\n",
      "           )\n",
      "Dataset MNIST\n",
      "    Number of datapoints: 10000\n",
      "    Root location: ./mnist/\n",
      "    Split: Test\n",
      "    StandardTransform\n",
      "Transform: Compose(\n",
      "               ToTensor()\n",
      "           )\n"
     ]
    }
   ],
   "source": [
    "# dataset\n",
    "\n",
    "transform = transforms.Compose([transforms.ToTensor()])\n",
    "\n",
    "mnist_train = datasets.MNIST(root='./mnist/',\n",
    "                             train=True,\n",
    "                             transform=transform,\n",
    "                             download=True)\n",
    "mnist_test = datasets.MNIST(root='./mnist/',\n",
    "                            train=False,\n",
    "                            transform=transform,\n",
    "                            download=True)\n",
    "\n",
    "print(mnist_train)\n",
    "print(mnist_test)"
   ]
  },
  {
   "cell_type": "code",
   "execution_count": 29,
   "id": "8c672571",
   "metadata": {},
   "outputs": [
    {
     "data": {
      "text/plain": [
       "torch.Size([1, 1, 28, 28])"
      ]
     },
     "execution_count": 29,
     "metadata": {},
     "output_type": "execute_result"
    },
    {
     "data": {
      "image/png": "[encoded data removed]",
      "text/plain": [
       "<Figure size 432x288 with 1 Axes>"
      ]
     },
     "metadata": {
      "needs_background": "light"
     },
     "output_type": "display_data"
    }
   ],
   "source": [
    "x = mnist_train[1][0]\n",
    "plt.imshow(x[0], cmap='gray')\n",
    "\n",
    "x = x.unsqueeze(0) # add batch dim\n",
    "x.size()"
   ]
  },
  {
   "cell_type": "markdown",
   "id": "fb4533f3",
   "metadata": {},
   "source": [
    "## Patch + Position Embedding\n",
    "\n",
    "divide the image into patches"
   ]
  },
  {
   "cell_type": "code",
   "execution_count": 30,
   "id": "4ce57cb1",
   "metadata": {},
   "outputs": [
    {
     "data": {
      "text/plain": [
       "torch.Size([1, 50, 16])"
      ]
     },
     "execution_count": 30,
     "metadata": {},
     "output_type": "execute_result"
    }
   ],
   "source": [
    "class image_embedding(nn.Module):\n",
    "    \n",
    "    def __init__(self, \n",
    "                 in_channels: int=3, \n",
    "                 img_size: int=224, \n",
    "                 patch_size: int=16, \n",
    "                 emb_dim: int=16*16*3):\n",
    "        # emb_dim: dim of propagating vector\n",
    "        \n",
    "        super().__init__()\n",
    "        \n",
    "        self.rearrange = einops.layers.torch.Rearrange('b c (num_w p1) (num_h p2) -> b (num_w num_h) (p1 p2 c)', p1=patch_size, p2=patch_size)\n",
    "        \n",
    "        self.linear = nn.Linear(in_channels * patch_size * patch_size, emb_dim)\n",
    "        \n",
    "        self.cls_token = nn.Parameter(torch.randn(1, 1, emb_dim))\n",
    "        \n",
    "        n_patches = img_size**2 // patch_size**2\n",
    "        self.positions = nn.Parameter(torch.randn(n_patches+1, emb_dim))\n",
    "        \n",
    "    def forward(self, x):\n",
    "        \n",
    "        batch, channel, width, height = x.shape\n",
    "        \n",
    "        x = self.rearrange(x)\n",
    "        \n",
    "        x = self.linear(x)\n",
    "        \n",
    "        c = einops.repeat(self.cls_token, '() n d -> b n d', b=batch)\n",
    "        x = torch.cat((c, x), dim=1)\n",
    "        \n",
    "        x = x + self.positions\n",
    "        \n",
    "        return x\n",
    "        \n",
    "emb = image_embedding(1, 28, 4, 4*4)(x)\n",
    "emb.shape\n"
   ]
  },
  {
   "cell_type": "markdown",
   "id": "84094c0f",
   "metadata": {},
   "source": [
    "## Encoder"
   ]
  },
  {
   "cell_type": "code",
   "execution_count": 41,
   "id": "9cd0d390",
   "metadata": {},
   "outputs": [
    {
     "name": "stdout",
     "output_type": "stream",
     "text": [
      "Q, K, V: (torch.Size([1, 50, 16]), torch.Size([1, 50, 16]), torch.Size([1, 50, 16]))\n",
      "Q, K, V rearranged: (torch.Size([1, 4, 50, 4]), torch.Size([1, 4, 4, 50]), torch.Size([1, 4, 50, 4]))\n",
      "weight: torch.Size([1, 4, 50, 50])\n",
      "attention: torch.Size([1, 4, 50, 50])\n",
      "context: torch.Size([1, 50, 16])\n",
      "feat: torch.Size([1, 50, 16])\n",
      "attention: torch.Size([1, 4, 50, 50])\n"
     ]
    }
   ],
   "source": [
    "class multi_head_attention(nn.Module):\n",
    "    \n",
    "    def __init__(self, \n",
    "                 emb_dim: int=16*16*3, \n",
    "                 num_heads: int=8, \n",
    "                 dropout_ratio: float=0.2, \n",
    "                 verbose=False, \n",
    "                 **kwargs):\n",
    "        \n",
    "        super().__init__()\n",
    "        \n",
    "        self.v = verbose\n",
    "        \n",
    "        self.emb_dim = emb_dim\n",
    "        self.num_heads = num_heads\n",
    "        self.scaling = (self.emb_dim//num_heads) ** -0.5\n",
    "        \n",
    "        # q, k, v\n",
    "        self.query = nn.Linear(emb_dim, emb_dim)\n",
    "        self.key = nn.Linear(emb_dim, emb_dim)        \n",
    "        self.value = nn.Linear(emb_dim, emb_dim)\n",
    "        \n",
    "        self.att_drop = nn.Dropout(dropout_ratio)\n",
    "        \n",
    "        self.linear = nn.Linear(emb_dim, emb_dim)\n",
    "        \n",
    "    def forward(self, x: Tensor):\n",
    "        \n",
    "        # q, k, v\n",
    "        Q = self.query(x)\n",
    "        K = self.key(x)\n",
    "        V = self.value(x)\n",
    "        if self.v: \n",
    "            print(f'Q, K, V: {Q.size(), K.size(), V.size()}')\n",
    "            \n",
    "        # q, k, v rearranged\n",
    "        Q = einops.rearrange(Q, 'b q (h d) -> b h q d', h=self.num_heads)\n",
    "        K = einops.rearrange(K, 'b k (h d) -> b h d k', h=self.num_heads)\n",
    "        V = einops.rearrange(V, 'b v (h d) -> b h v d', h=self.num_heads)\n",
    "        if self.v:\n",
    "            print(f'Q, K, V rearranged: {Q.size(), K.size(), V.size()}')\n",
    "        \n",
    "        # scaled dot-product\n",
    "        weight = torch.matmul(Q, K)\n",
    "        weight = weight * self.scaling\n",
    "        if self.v:\n",
    "            print(f'weight: {weight.size()}')\n",
    "            \n",
    "        attention = torch.softmax(weight, dim=-1)\n",
    "        attention = self.att_drop(attention)\n",
    "        if self.v:\n",
    "            print(f'attention: {attention.size()}')\n",
    "\n",
    "        context = torch.matmul(attention, V)\n",
    "        context = einops.rearrange(context, 'b h q d -> b q (h d)')\n",
    "        if self.v:\n",
    "            print(f'context: {context.size()}')\n",
    "            \n",
    "        x = self.linear(context)\n",
    "        return x, attention\n",
    "        \n",
    "feat, attention = multi_head_attention(4*4, 4, verbose=True)(emb)\n",
    "print(f'feat: {feat.shape}')\n",
    "print(f'attention: {attention.shape}')\n",
    "        "
   ]
  },
  {
   "cell_type": "code",
   "execution_count": 40,
   "id": "364d1c97",
   "metadata": {},
   "outputs": [],
   "source": [
    "class mlp_block(nn.Module):\n",
    "    def __init__(self, \n",
    "                 emb_dim: int=16*16*3, \n",
    "                 forward_dim: int=4, \n",
    "                 dropout_ratio: float=0.2, \n",
    "                 **kwargs):\n",
    "        \n",
    "        super().__init__()\n",
    "        \n",
    "        self.linear_1 = nn.Linear(emb_dim, forward_dim*emb_dim)\n",
    "        self.dropout = nn.Dropout(dropout_ratio)\n",
    "        self.linear_2 = nn.Linear(forward_dim*emb_dim, emb_dim)\n",
    "        \n",
    "    def forward(self, x):\n",
    "        x = self.linear_1(x)\n",
    "        x = nn.functional.gelu(x)\n",
    "        x = self.dropout(x)\n",
    "        x = self.linear_2(x)\n",
    "        return x"
   ]
  },
  {
   "cell_type": "code",
   "execution_count": 43,
   "id": "a92e73d3",
   "metadata": {},
   "outputs": [
    {
     "name": "stdout",
     "output_type": "stream",
     "text": [
      "feat: torch.Size([1, 50, 16])\n",
      "attention: torch.Size([1, 2, 50, 50])\n"
     ]
    }
   ],
   "source": [
    "class encoder_block(nn.Sequential):\n",
    "    \n",
    "    def __init__(self, \n",
    "                 emb_dim: int=16*16*3, \n",
    "                 num_heads: int=8, \n",
    "                 forward_dim: int=4, \n",
    "                 dropout_ratio: float=0.2):\n",
    "        \n",
    "        super().__init__()\n",
    "        \n",
    "        self.norm_1 = nn.LayerNorm(emb_dim)\n",
    "        self.mha = multi_head_attention(emb_dim, num_heads, dropout_ratio)\n",
    "        \n",
    "        self.norm_2 = nn.LayerNorm(emb_dim)\n",
    "        self.mlp = mlp_block(emb_dim, forward_dim, dropout_ratio)\n",
    "        \n",
    "        self.residual_dropout = nn.Dropout(dropout_ratio)\n",
    "        \n",
    "    def forward(self, x):\n",
    "        \n",
    "        x_ = self.norm_1(x)\n",
    "        x_, attention = self.mha(x_)\n",
    "        x = x_ + self.residual_dropout(x)\n",
    "        \n",
    "        x_ = self.norm_2(x)\n",
    "        x_ = self.mlp(x_)\n",
    "        x = x_ + self.residual_dropout(x)\n",
    "        \n",
    "        return x, attention\n",
    "    \n",
    "feat, attention = encoder_block(4*4, 2, 4)(emb)\n",
    "print(f'feat: {feat.shape}')\n",
    "print(f'attention: {attention.shape}')\n"
   ]
  },
  {
   "cell_type": "markdown",
   "id": "5aa67203",
   "metadata": {},
   "source": [
    "## Model"
   ]
  },
  {
   "cell_type": "code",
   "execution_count": 44,
   "id": "1037e79b",
   "metadata": {},
   "outputs": [
    {
     "name": "stdout",
     "output_type": "stream",
     "text": [
      "torch.Size([1, 10])\n",
      "torch.Size([1, 2, 50, 50])\n"
     ]
    }
   ],
   "source": [
    "class vision_transformer(nn.Module):\n",
    "    \n",
    "    def __init__(self, \n",
    "                 in_channel: int=3, \n",
    "                 img_size: int=224, \n",
    "                 patch_size: int=16, \n",
    "                 emb_dim: int=16*16*3, \n",
    "                 n_enc_layers: int=15, \n",
    "                 num_heads: int=3, \n",
    "                 forward_dim: int=4, \n",
    "                 dropout_ratio: float=0.2, \n",
    "                 n_classes: int=1000):\n",
    "        \n",
    "        super().__init__()\n",
    "        \n",
    "        # image embedding\n",
    "        self.image_emb = image_embedding(in_channel, img_size, patch_size, emb_dim)\n",
    "        # N times of encoder layer\n",
    "        self.transformer_encoders = nn.ModuleList([encoder_block(emb_dim, num_heads, forward_dim, dropout_ratio) for _ in range(n_enc_layers)])\n",
    "        \n",
    "        self.reduce_layer = einops.layers.torch.Reduce('b n e -> b e', reduction='mean')\n",
    "        self.normalization = nn.LayerNorm(emb_dim)\n",
    "        self.classification_head = nn.Linear(emb_dim, n_classes)\n",
    "        \n",
    "    def forward(self, x):\n",
    "        \n",
    "        # image embedding\n",
    "        x = self.image_emb(x)\n",
    "        \n",
    "        # transformer encoder\n",
    "        attentions = []\n",
    "        for encoder in self.transformer_encoders:\n",
    "            x, attention = encoder(x)\n",
    "            attentions.append(attention)\n",
    "            \n",
    "        # classification head\n",
    "        x = self.reduce_layer(x)\n",
    "        x = self.normalization(x)\n",
    "        x = self.classification_head(x)\n",
    "        \n",
    "        return x, attentions\n",
    "    \n",
    "y, attentions = vision_transformer(1, 28, 4, 4*4, 3, 2, 4, 0.2, 10)(x)\n",
    "print(y.shape)\n",
    "print(attentions[0].shape)\n",
    "    "
   ]
  },
  {
   "cell_type": "markdown",
   "id": "25f0bc35",
   "metadata": {},
   "source": [
    "## Performance"
   ]
  },
  {
   "cell_type": "code",
   "execution_count": 47,
   "id": "029878f7",
   "metadata": {},
   "outputs": [],
   "source": [
    "model = vision_transformer(1, 28, 4, 4*4, 3, 2, 4, 0.2, 10)\n",
    "model.to(device)\n",
    "\n",
    "num_epochs = 10\n",
    "criterion = nn.CrossEntropyLoss()\n",
    "optimizer = optim.Adam(model.parameters(), lr=1e-3)\n",
    "\n",
    "batch_size = 64\n",
    "dataloaders_train = torch.utils.data.DataLoader(mnist_train, batch_size=batch_size, sampler=torch.utils.data.sampler.SubsetRandomSampler(range(0, len(mnist_train) * 4//5)))\n",
    "dataloaders_valid = torch.utils.data.DataLoader(mnist_train, batch_size=batch_size, sampler=torch.utils.data.sampler.SubsetRandomSampler(range(len(mnist_train) * 4//5, len(mnist_train))))\n",
    "dataloaders_test = torch.utils.data.DataLoader(mnist_test, batch_size=batch_size)"
   ]
  },
  {
   "cell_type": "code",
   "execution_count": 48,
   "id": "122b6038",
   "metadata": {},
   "outputs": [
    {
     "name": "stdout",
     "output_type": "stream",
     "text": [
      "epoch 0:\n"
     ]
    },
    {
     "name": "stderr",
     "output_type": "stream",
     "text": [
      "750it [00:38, 19.44it/s]\n"
     ]
    },
    {
     "name": "stdout",
     "output_type": "stream",
     "text": [
      "\ttrain \n",
      "\t\tloss: 89423.0696105957 acc: 0.31466665863990784\n"
     ]
    },
    {
     "name": "stderr",
     "output_type": "stream",
     "text": [
      "188it [00:03, 56.71it/s]\n"
     ]
    },
    {
     "name": "stdout",
     "output_type": "stream",
     "text": [
      "\tvalid \n",
      "\t\tacc: 0.5813663601875305\n",
      "epoch 1:\n"
     ]
    },
    {
     "name": "stderr",
     "output_type": "stream",
     "text": [
      "750it [00:38, 19.35it/s]\n"
     ]
    },
    {
     "name": "stdout",
     "output_type": "stream",
     "text": [
      "\ttrain \n",
      "\t\tloss: 48264.63979721069 acc: 0.6472708582878113\n"
     ]
    },
    {
     "name": "stderr",
     "output_type": "stream",
     "text": [
      "188it [00:03, 55.29it/s]\n"
     ]
    },
    {
     "name": "stdout",
     "output_type": "stream",
     "text": [
      "\tvalid \n",
      "\t\tacc: 0.7546542286872864\n",
      "epoch 2:\n"
     ]
    },
    {
     "name": "stderr",
     "output_type": "stream",
     "text": [
      "750it [00:40, 18.41it/s]\n"
     ]
    },
    {
     "name": "stdout",
     "output_type": "stream",
     "text": [
      "\ttrain \n",
      "\t\tloss: 34597.15810394287 acc: 0.7620000243186951\n"
     ]
    },
    {
     "name": "stderr",
     "output_type": "stream",
     "text": [
      "188it [00:03, 49.09it/s]\n"
     ]
    },
    {
     "name": "stdout",
     "output_type": "stream",
     "text": [
      "\tvalid \n",
      "\t\tacc: 0.8431681990623474\n",
      "epoch 3:\n"
     ]
    },
    {
     "name": "stderr",
     "output_type": "stream",
     "text": [
      "750it [00:38, 19.47it/s]\n"
     ]
    },
    {
     "name": "stdout",
     "output_type": "stream",
     "text": [
      "\ttrain \n",
      "\t\tloss: 27321.076278686523 acc: 0.8152916431427002\n"
     ]
    },
    {
     "name": "stderr",
     "output_type": "stream",
     "text": [
      "188it [00:03, 57.58it/s]\n"
     ]
    },
    {
     "name": "stdout",
     "output_type": "stream",
     "text": [
      "\tvalid \n",
      "\t\tacc: 0.868517279624939\n",
      "epoch 4:\n"
     ]
    },
    {
     "name": "stderr",
     "output_type": "stream",
     "text": [
      "750it [00:38, 19.66it/s]\n"
     ]
    },
    {
     "name": "stdout",
     "output_type": "stream",
     "text": [
      "\ttrain \n",
      "\t\tloss: 23302.260655403137 acc: 0.8450208306312561\n"
     ]
    },
    {
     "name": "stderr",
     "output_type": "stream",
     "text": [
      "188it [00:03, 57.77it/s]\n"
     ]
    },
    {
     "name": "stdout",
     "output_type": "stream",
     "text": [
      "\tvalid \n",
      "\t\tacc: 0.8847240805625916\n",
      "epoch 5:\n"
     ]
    },
    {
     "name": "stderr",
     "output_type": "stream",
     "text": [
      "750it [00:40, 18.69it/s]\n"
     ]
    },
    {
     "name": "stdout",
     "output_type": "stream",
     "text": [
      "\ttrain \n",
      "\t\tloss: 20526.990516662598 acc: 0.8652083277702332\n"
     ]
    },
    {
     "name": "stderr",
     "output_type": "stream",
     "text": [
      "188it [00:03, 51.11it/s]\n"
     ]
    },
    {
     "name": "stdout",
     "output_type": "stream",
     "text": [
      "\tvalid \n",
      "\t\tacc: 0.8994348645210266\n",
      "epoch 6:\n"
     ]
    },
    {
     "name": "stderr",
     "output_type": "stream",
     "text": [
      "750it [00:38, 19.64it/s]\n"
     ]
    },
    {
     "name": "stdout",
     "output_type": "stream",
     "text": [
      "\ttrain \n",
      "\t\tloss: 18902.478529930115 acc: 0.8768125176429749\n"
     ]
    },
    {
     "name": "stderr",
     "output_type": "stream",
     "text": [
      "188it [00:03, 57.58it/s]\n"
     ]
    },
    {
     "name": "stdout",
     "output_type": "stream",
     "text": [
      "\tvalid \n",
      "\t\tacc: 0.9006814956665039\n",
      "epoch 7:\n"
     ]
    },
    {
     "name": "stderr",
     "output_type": "stream",
     "text": [
      "750it [00:39, 18.75it/s]\n"
     ]
    },
    {
     "name": "stdout",
     "output_type": "stream",
     "text": [
      "\ttrain \n",
      "\t\tloss: 17327.31916475296 acc: 0.8851458430290222\n"
     ]
    },
    {
     "name": "stderr",
     "output_type": "stream",
     "text": [
      "188it [00:03, 56.84it/s]\n"
     ]
    },
    {
     "name": "stdout",
     "output_type": "stream",
     "text": [
      "\tvalid \n",
      "\t\tacc: 0.9169713854789734\n",
      "epoch 8:\n"
     ]
    },
    {
     "name": "stderr",
     "output_type": "stream",
     "text": [
      "750it [00:39, 19.05it/s]\n"
     ]
    },
    {
     "name": "stdout",
     "output_type": "stream",
     "text": [
      "\ttrain \n",
      "\t\tloss: 16385.297647953033 acc: 0.8926874995231628\n"
     ]
    },
    {
     "name": "stderr",
     "output_type": "stream",
     "text": [
      "188it [00:03, 56.39it/s]\n"
     ]
    },
    {
     "name": "stdout",
     "output_type": "stream",
     "text": [
      "\tvalid \n",
      "\t\tacc: 0.9194647669792175\n",
      "epoch 9:\n"
     ]
    },
    {
     "name": "stderr",
     "output_type": "stream",
     "text": [
      "750it [00:39, 18.99it/s]\n"
     ]
    },
    {
     "name": "stdout",
     "output_type": "stream",
     "text": [
      "\ttrain \n",
      "\t\tloss: 15316.917495250702 acc: 0.898812472820282\n"
     ]
    },
    {
     "name": "stderr",
     "output_type": "stream",
     "text": [
      "188it [00:03, 56.31it/s]"
     ]
    },
    {
     "name": "stdout",
     "output_type": "stream",
     "text": [
      "\tvalid \n",
      "\t\tacc: 0.9230385422706604\n"
     ]
    },
    {
     "name": "stderr",
     "output_type": "stream",
     "text": [
      "\n"
     ]
    }
   ],
   "source": [
    "for epoch in range(num_epochs):\n",
    "    print(f'epoch {epoch}:')\n",
    "    \n",
    "    \n",
    "    # training\n",
    "    model.train()\n",
    "    running_loss = 0.\n",
    "    running_acc = 0.\n",
    "    \n",
    "    for idx, (inputs, labels) in tqdm(enumerate(dataloaders_train)):\n",
    "        inputs = inputs.to(device)\n",
    "        labels = labels.to(device)\n",
    "        \n",
    "        optimizer.zero_grad()\n",
    "        \n",
    "        with torch.set_grad_enabled(True):\n",
    "            \n",
    "            outputs, _ = model(inputs)\n",
    "            _, preds = torch.max(outputs, 1)\n",
    "            \n",
    "            loss = criterion(outputs, labels)\n",
    "            \n",
    "            loss.backward()\n",
    "            \n",
    "            optimizer.step()\n",
    "            \n",
    "            running_loss += loss.item() * inputs.shape[0]\n",
    "            running_acc += torch.sum(preds==labels.data)\n",
    "            \n",
    "    running_acc /= (idx+1) * batch_size\n",
    "        \n",
    "    print(f'\\ttrain \\n\\t\\tloss: {running_loss} acc: {running_acc}')\n",
    "    \n",
    "    \n",
    "    # validation\n",
    "    model.eval()\n",
    "    running_acc = 0.\n",
    "    \n",
    "    for idx, (inputs, labels) in tqdm(enumerate(dataloaders_valid)):\n",
    "        inputs = inputs.to(device)\n",
    "        labels = labels.to(device)\n",
    "        \n",
    "        with torch.set_grad_enabled(False):\n",
    "            \n",
    "            outputs, _ = model(inputs)\n",
    "            _, preds = torch.max(outputs, 1)\n",
    "            \n",
    "            running_acc += torch.sum(preds==labels.data)\n",
    "\n",
    "    running_acc /= (idx+1) * batch_size\n",
    "    \n",
    "    print(f'\\tvalid \\n\\t\\tacc: {running_acc}')\n",
    "    "
   ]
  },
  {
   "cell_type": "code",
   "execution_count": 50,
   "id": "ce3bc37d",
   "metadata": {},
   "outputs": [
    {
     "name": "stderr",
     "output_type": "stream",
     "text": [
      "157it [00:02, 57.32it/s]"
     ]
    },
    {
     "name": "stdout",
     "output_type": "stream",
     "text": [
      "acc: 0.9198845624923706\n"
     ]
    },
    {
     "name": "stderr",
     "output_type": "stream",
     "text": [
      "\n"
     ]
    }
   ],
   "source": [
    "model.eval()\n",
    "running_acc = 0.\n",
    "\n",
    "for idx, (inputs, labels) in tqdm(enumerate(dataloaders_test)):\n",
    "    inputs = inputs.to(device)\n",
    "    labels = labels.to(device)\n",
    "    \n",
    "    with torch.set_grad_enabled(False):\n",
    "        \n",
    "        outputs, _ = model(inputs)\n",
    "        _, preds = torch.max(outputs, 1)\n",
    "        \n",
    "        running_acc += torch.sum(preds==labels.data)\n",
    "        \n",
    "running_acc /= (idx+1) * batch_size\n",
    "\n",
    "print(f'acc: {running_acc}')"
   ]
  },
  {
   "cell_type": "markdown",
   "id": "e6bdd245",
   "metadata": {},
   "source": [
    "## Visualization"
   ]
  },
  {
   "cell_type": "code",
   "execution_count": 54,
   "id": "baa8dbc9",
   "metadata": {},
   "outputs": [
    {
     "data": {
      "image/png": "[encoded data removed]",
      "text/plain": [
       "<Figure size 648x216 with 3 Axes>"
      ]
     },
     "metadata": {
      "needs_background": "light"
     },
     "output_type": "display_data"
    },
    {
     "data": {
      "image/png": "[encoded data removed]",
      "text/plain": [
       "<Figure size 648x216 with 3 Axes>"
      ]
     },
     "metadata": {
      "needs_background": "light"
     },
     "output_type": "display_data"
    },
    {
     "data": {
      "image/png": "[encoded data removed]",
      "text/plain": [
       "<Figure size 648x216 with 3 Axes>"
      ]
     },
     "metadata": {
      "needs_background": "light"
     },
     "output_type": "display_data"
    },
    {
     "data": {
      "image/png": "[encoded data removed]",
      "text/plain": [
       "<Figure size 648x216 with 3 Axes>"
      ]
     },
     "metadata": {
      "needs_background": "light"
     },
     "output_type": "display_data"
    },
    {
     "data": {
      "image/png": "[encoded data removed]",
      "text/plain": [
       "<Figure size 648x216 with 3 Axes>"
      ]
     },
     "metadata": {
      "needs_background": "light"
     },
     "output_type": "display_data"
    }
   ],
   "source": [
    "idxs = np.random.choice(range(len(mnist_test.data)), 5, False)\n",
    "\n",
    "for idx in idxs:\n",
    "    img = mnist_test.data[idx]\n",
    "    img = 255 - img\n",
    "    \n",
    "    _, attentions = model(img.unsqueeze(0).unsqueeze(1).to(device, torch.float))\n",
    "    \n",
    "    # Average the attention weights across all heads.\n",
    "    att_mat = torch.stack(attentions).squeeze(1)\n",
    "    att_mat = att_mat.cpu().detach()\n",
    "    att_mat = einops.reduce(att_mat, 'b h len1 len2 -> b len1 len2', 'mean')\n",
    "\n",
    "    residual_att = torch.eye(att_mat.size(1))\n",
    "    aug_att_mat = att_mat + residual_att\n",
    "    aug_att_mat = aug_att_mat / aug_att_mat.sum(dim=-1).unsqueeze(-1)\n",
    "\n",
    "    # Recursively multiply the weight matrices\n",
    "    joint_attentions = torch.zeros(aug_att_mat.size())\n",
    "    joint_attentions[0] = aug_att_mat[0]\n",
    "\n",
    "    for n in range(1, aug_att_mat.size(0)):\n",
    "        joint_attentions[n] = torch.matmul(aug_att_mat[n], joint_attentions[n-1])\n",
    "\n",
    "    # Attention from the output token to the input space.\n",
    "    v = joint_attentions[-1]\n",
    "    grid_size = int(np.sqrt(aug_att_mat.size(-1)))\n",
    "    mask = v[0, 1:].reshape(grid_size, grid_size).detach().numpy()\n",
    "    mask = cv2.resize(mask/mask.max(), (img.shape[1], img.shape[0]))[..., np.newaxis]\n",
    "    mask = mask.squeeze()\n",
    "    result = (mask * img.numpy()).astype(\"uint8\")\n",
    "\n",
    "    # plotting\n",
    "    fig, (ax1, ax2, ax3) = plt.subplots(ncols=3, figsize=(9, 3)) \n",
    "    ax1.set_title('Original')\n",
    "    ax2.set_title('Mask')\n",
    "    ax3.set_title('Attention Map')\n",
    "    _ = ax1.imshow(img)\n",
    "    _ = ax2.imshow(mask)\n",
    "    _ = ax3.imshow(result)"
   ]
  },
  {
   "cell_type": "code",
   "execution_count": null,
   "id": "0a27365a",
   "metadata": {},
   "outputs": [],
   "source": []
  }
 ],
 "metadata": {
  "kernelspec": {
   "display_name": "Python 3 (ipykernel)",
   "language": "python",
   "name": "python3"
  },
  "language_info": {
   "codemirror_mode": {
    "name": "ipython",
    "version": 3
   },
   "file_extension": ".py",
   "mimetype": "text/x-python",
   "name": "python",
   "nbconvert_exporter": "python",
   "pygments_lexer": "ipython3",
   "version": "3.8.5"
  }
 },
 "nbformat": 4,
 "nbformat_minor": 5
}
