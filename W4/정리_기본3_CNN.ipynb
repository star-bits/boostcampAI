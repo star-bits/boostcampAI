{
 "cells": [
  {
   "cell_type": "code",
   "execution_count": 33,
   "id": "cc2d2790",
   "metadata": {},
   "outputs": [
    {
     "name": "stdout",
     "output_type": "stream",
     "text": [
      "1.10.2\n"
     ]
    }
   ],
   "source": [
    "import numpy as np\n",
    "import matplotlib.pyplot as plt\n",
    "import torch\n",
    "import torch.nn as nn\n",
    "import torch.optim as optim\n",
    "import torch.nn.functional as F\n",
    "from torchvision import datasets, transforms\n",
    "from tqdm.notebook import tqdm\n",
    "\n",
    "print(torch.__version__)"
   ]
  },
  {
   "cell_type": "code",
   "execution_count": 5,
   "id": "d2c043d3",
   "metadata": {},
   "outputs": [
    {
     "name": "stdout",
     "output_type": "stream",
     "text": [
      "cpu\n"
     ]
    }
   ],
   "source": [
    "device = torch.device('cuda:0' if torch.cuda.is_available() else 'cpu')\n",
    "print(device)"
   ]
  },
  {
   "cell_type": "code",
   "execution_count": 6,
   "id": "86b5f4a2",
   "metadata": {},
   "outputs": [
    {
     "name": "stdout",
     "output_type": "stream",
     "text": [
      "Dataset MNIST\n",
      "    Number of datapoints: 60000\n",
      "    Root location: ./mnist/\n",
      "    Split: Train\n",
      "    StandardTransform\n",
      "Transform: ToTensor()\n",
      "Dataset MNIST\n",
      "    Number of datapoints: 10000\n",
      "    Root location: ./mnist/\n",
      "    Split: Test\n",
      "    StandardTransform\n",
      "Transform: ToTensor()\n"
     ]
    }
   ],
   "source": [
    "# dataset\n",
    "\n",
    "mnist_train = datasets.MNIST(root='./mnist/',\n",
    "                             train=True,\n",
    "                             transform=transforms.ToTensor(),\n",
    "                             download=True)\n",
    "mnist_test = datasets.MNIST(root='./mnist/',\n",
    "                            train=False,\n",
    "                            transform=transforms.ToTensor(),\n",
    "                            download=True)\n",
    "\n",
    "print(mnist_train)\n",
    "print(mnist_test)"
   ]
  },
  {
   "cell_type": "code",
   "execution_count": 7,
   "id": "368146a7",
   "metadata": {},
   "outputs": [],
   "source": [
    "# dataloader\n",
    "\n",
    "BATCH_SIZE = 256\n",
    "\n",
    "train_iter = torch.utils.data.DataLoader(mnist_train,batch_size=BATCH_SIZE,shuffle=True,num_workers=1)\n",
    "test_iter = torch.utils.data.DataLoader(mnist_test,batch_size=BATCH_SIZE,shuffle=True,num_workers=1)"
   ]
  },
  {
   "cell_type": "code",
   "execution_count": 10,
   "id": "4b2945f3",
   "metadata": {},
   "outputs": [],
   "source": [
    "# model\n",
    "\n",
    "class CNNClass(nn.Module):\n",
    "    \n",
    "    def __init__(self, \n",
    "                 name='cnn', \n",
    "                 xdim=[1, 28, 28], \n",
    "                 ksize=3, \n",
    "                 cdims=[32, 64], \n",
    "                 hdims=[1024, 128], \n",
    "                 ydim=10, \n",
    "                 USE_BATCHNORM=False):\n",
    "        super(CNNClass, self).__init__()\n",
    "        self.name = name\n",
    "        self.xdim = xdim\n",
    "        self.ksize = ksize\n",
    "        self.cdims = cdims\n",
    "        self.hdims = hdims\n",
    "        self.ydim = ydim\n",
    "        self.USE_BATCHNORM = USE_BATCHNORM\n",
    "        \n",
    "        # CNN\n",
    "        self.layers = []\n",
    "        prev_cdim = self.xdim[0] # 왜 xdim 전체가 아니라 xdim[0]만 넘겨줌???\n",
    "        \n",
    "        for cdim in self.cdims:\n",
    "            self.layers.append(nn.Conv2d(in_channels=prev_cdim, \n",
    "                                         out_channels=cdim, \n",
    "                                         kernel_size=self.ksize, \n",
    "                                         stride=(1, 1), \n",
    "                                         padding=self.ksize//2))\n",
    "            \n",
    "            if self.USE_BATCHNORM:\n",
    "                self.layers.append(nn.BatchNorm2d(cdim))\n",
    "            self.layers.append(nn.ReLU(True))\n",
    "            self.layers.append(nn.MaxPool2d(kernel_size=(2, 2), stride=(2, 2)))\n",
    "            self.layers.append(nn.Dropout2d(p=0.5))\n",
    "            prev_cdim = cdim\n",
    "            \n",
    "        # FC\n",
    "        self.layers.append(nn.Flatten())\n",
    "        prev_hdim = prev_cdim * (self.xdim[1]//(2**len(self.cdims))) * (self.xdim[2]//(2**len(self.cdims)))\n",
    "        \n",
    "        for hdim in self.hdims:\n",
    "            self.layers.append(nn.Linear(prev_hdim, \n",
    "                                         hdim, \n",
    "                                         bias=True))\n",
    "            \n",
    "            self.layers.append(nn.ReLU(True))\n",
    "            prev_hdim = hdim\n",
    "            \n",
    "        # Final layer\n",
    "        self.layers.append(nn.Linear(prev_hdim, \n",
    "                                     self.ydim, \n",
    "                                     bias=True))\n",
    "        \n",
    "        # concat all layers\n",
    "        self.net = nn.Sequential()\n",
    "        for l_idx, layer in enumerate(self.layers):\n",
    "            layer_name = type(layer).__name__ + str(l_idx)\n",
    "            self.net.add_module(layer_name, layer)\n",
    "            \n",
    "        self.init_param()\n",
    "        \n",
    "    def init_param(self):\n",
    "        for m in self.modules():\n",
    "            if isinstance(m, nn.Conv2d): \n",
    "                nn.init.kaiming_normal_(m.weight)\n",
    "                nn.init.zeros_(m.bias)\n",
    "            elif isinstance(m, nn.BatchNorm2d):\n",
    "                nn.init.constant_(m.weight, 1)\n",
    "                nn.init.constant_(m.bias, 0)\n",
    "            elif isinstance(m, nn.Linear):\n",
    "                nn.init.kaiming_normal_(m.weight)\n",
    "                nn.init.zeros_(m.bias)\n",
    "                \n",
    "    def forward(self, x):\n",
    "        return self.net(x)\n",
    "    \n",
    "C = CNNClass(name='cnn', \n",
    "             xdim=[1, 28, 28], \n",
    "             ksize=3, \n",
    "             cdims=[32, 64], \n",
    "             hdims=[32], \n",
    "             ydim=10).to(device)\n",
    "\n",
    "loss = nn.CrossEntropyLoss()\n",
    "\n",
    "optm = optim.Adam(C.parameters(), lr=1e-3)    \n"
   ]
  },
  {
   "cell_type": "code",
   "execution_count": 11,
   "id": "b6dec00e",
   "metadata": {},
   "outputs": [
    {
     "name": "stdout",
     "output_type": "stream",
     "text": [
      "net.Conv2d0.weight torch.Size([32, 1, 3, 3])\n",
      "net.Conv2d0.bias torch.Size([32])\n",
      "net.Conv2d4.weight torch.Size([64, 32, 3, 3])\n",
      "net.Conv2d4.bias torch.Size([64])\n",
      "net.Linear9.weight torch.Size([32, 3136])\n",
      "net.Linear9.bias torch.Size([32])\n",
      "net.Linear11.weight torch.Size([10, 32])\n",
      "net.Linear11.bias torch.Size([10])\n"
     ]
    }
   ],
   "source": [
    "# check parameters\n",
    "\n",
    "n_param = 0\n",
    "\n",
    "for param_name, param in C.named_parameters():\n",
    "    \n",
    "    n_param += len(param.reshape(-1))\n",
    "    \n",
    "    print(param_name, param.shape)"
   ]
  },
  {
   "cell_type": "code",
   "execution_count": 13,
   "id": "aa4f6435",
   "metadata": {},
   "outputs": [],
   "source": [
    "# net.Conv2d0.weight torch.Size([32, 1, 3, 3])\n",
    "# 32 channels to make, grayscale, 3x3 kernel"
   ]
  },
  {
   "cell_type": "code",
   "execution_count": 14,
   "id": "dfa3bab4",
   "metadata": {},
   "outputs": [
    {
     "data": {
      "text/plain": [
       "CNNClass(\n",
       "  (net): Sequential(\n",
       "    (Conv2d0): Conv2d(1, 32, kernel_size=(3, 3), stride=(1, 1), padding=(1, 1))\n",
       "    (ReLU1): ReLU(inplace=True)\n",
       "    (MaxPool2d2): MaxPool2d(kernel_size=(2, 2), stride=(2, 2), padding=0, dilation=1, ceil_mode=False)\n",
       "    (Dropout2d3): Dropout2d(p=0.5, inplace=False)\n",
       "    (Conv2d4): Conv2d(32, 64, kernel_size=(3, 3), stride=(1, 1), padding=(1, 1))\n",
       "    (ReLU5): ReLU(inplace=True)\n",
       "    (MaxPool2d6): MaxPool2d(kernel_size=(2, 2), stride=(2, 2), padding=0, dilation=1, ceil_mode=False)\n",
       "    (Dropout2d7): Dropout2d(p=0.5, inplace=False)\n",
       "    (Flatten8): Flatten(start_dim=1, end_dim=-1)\n",
       "    (Linear9): Linear(in_features=3136, out_features=32, bias=True)\n",
       "    (ReLU10): ReLU(inplace=True)\n",
       "    (Linear11): Linear(in_features=32, out_features=10, bias=True)\n",
       "  )\n",
       ")"
      ]
     },
     "execution_count": 14,
     "metadata": {},
     "output_type": "execute_result"
    }
   ],
   "source": [
    "C"
   ]
  },
  {
   "cell_type": "code",
   "execution_count": 20,
   "id": "fb1a67e2",
   "metadata": {
    "scrolled": false
   },
   "outputs": [],
   "source": [
    "# list(C.named_parameters())"
   ]
  },
  {
   "cell_type": "code",
   "execution_count": 22,
   "id": "951acbf0",
   "metadata": {},
   "outputs": [
    {
     "data": {
      "text/plain": [
       "Conv2d(1, 32, kernel_size=(3, 3), stride=(1, 1), padding=(1, 1))"
      ]
     },
     "execution_count": 22,
     "metadata": {},
     "output_type": "execute_result"
    }
   ],
   "source": [
    "C.net.Conv2d0"
   ]
  },
  {
   "cell_type": "code",
   "execution_count": 24,
   "id": "beeeda77",
   "metadata": {},
   "outputs": [],
   "source": [
    "# C.net.Conv2d0.weight"
   ]
  },
  {
   "cell_type": "code",
   "execution_count": 26,
   "id": "16889129",
   "metadata": {},
   "outputs": [
    {
     "name": "stdout",
     "output_type": "stream",
     "text": [
      "x_numpy: (2, 1, 28, 28)\n",
      "[[[[0.269 0.604 0.301 ... 0.45  0.996 0.833]\n",
      "   [0.622 0.73  0.923 ... 0.382 0.577 0.116]\n",
      "   [0.438 0.585 0.179 ... 0.252 0.723 0.323]\n",
      "   ...\n",
      "   [0.778 0.637 0.211 ... 0.683 0.075 0.386]\n",
      "   [0.217 0.544 0.122 ... 0.554 0.075 0.764]\n",
      "   [0.122 0.747 0.801 ... 0.722 0.581 0.246]]]\n",
      "\n",
      "\n",
      " [[[0.613 0.871 0.29  ... 0.195 0.104 0.521]\n",
      "   [0.153 0.686 0.088 ... 0.079 0.602 0.626]\n",
      "   [0.006 0.926 0.828 ... 0.018 0.911 0.569]\n",
      "   ...\n",
      "   [0.559 0.926 0.452 ... 0.26  0.209 0.23 ]\n",
      "   [0.627 0.483 0.523 ... 0.418 0.566 0.122]\n",
      "   [0.594 0.218 0.548 ... 0.721 0.367 0.211]]]]\n",
      "\n",
      "x_torch: torch.Size([2, 1, 28, 28])\n",
      "tensor([[[[0.269, 0.604, 0.301,  ..., 0.450, 0.996, 0.833],\n",
      "          [0.622, 0.730, 0.923,  ..., 0.382, 0.577, 0.116],\n",
      "          [0.438, 0.585, 0.179,  ..., 0.252, 0.723, 0.323],\n",
      "          ...,\n",
      "          [0.778, 0.637, 0.211,  ..., 0.683, 0.075, 0.386],\n",
      "          [0.217, 0.544, 0.122,  ..., 0.554, 0.075, 0.764],\n",
      "          [0.122, 0.747, 0.801,  ..., 0.722, 0.581, 0.246]]],\n",
      "\n",
      "\n",
      "        [[[0.613, 0.871, 0.290,  ..., 0.195, 0.104, 0.521],\n",
      "          [0.153, 0.686, 0.088,  ..., 0.079, 0.602, 0.626],\n",
      "          [0.006, 0.926, 0.828,  ..., 0.018, 0.911, 0.569],\n",
      "          ...,\n",
      "          [0.559, 0.926, 0.452,  ..., 0.260, 0.209, 0.230],\n",
      "          [0.627, 0.483, 0.523,  ..., 0.418, 0.566, 0.122],\n",
      "          [0.594, 0.218, 0.548,  ..., 0.721, 0.367, 0.211]]]])\n",
      "\n",
      "y_torch: torch.Size([2, 10])\n",
      "tensor([[-0.599, -2.861,  8.084,  0.849, -0.540,  2.315,  9.721, -0.124, -1.480,\n",
      "         -0.611],\n",
      "        [ 3.697, -1.367,  6.856,  1.376, -0.196,  3.035,  7.056,  1.885, -4.728,\n",
      "         -1.528]], grad_fn=<AddmmBackward0>)\n",
      "\n",
      "y_numpy: (2, 10)\n",
      "[[-0.599 -2.861  8.084  0.849 -0.54   2.315  9.721 -0.124 -1.48  -0.611]\n",
      " [ 3.697 -1.367  6.856  1.376 -0.196  3.035  7.056  1.885 -4.728 -1.528]]\n",
      "\n"
     ]
    }
   ],
   "source": [
    "# simple forward pass\n",
    "\n",
    "np.set_printoptions(precision=3)\n",
    "torch.set_printoptions(precision=3)\n",
    "\n",
    "x_numpy = np.random.rand(2, 1, 28, 28)\n",
    "x_torch = torch.from_numpy(x_numpy).float().to(device)\n",
    "y_torch = C.forward(x_torch)\n",
    "y_numpy = y_torch.detach().cpu().numpy()\n",
    "\n",
    "print (f'x_numpy: {x_numpy.shape}\\n{x_numpy}\\n')\n",
    "print (f'x_torch: {x_torch.shape}\\n{x_torch}\\n')\n",
    "print (f'y_torch: {y_torch.shape}\\n{y_torch}\\n')\n",
    "print (f'y_numpy: {y_numpy.shape}\\n{y_numpy}\\n')"
   ]
  },
  {
   "cell_type": "code",
   "execution_count": 30,
   "id": "a670f231",
   "metadata": {},
   "outputs": [],
   "source": [
    "# eval func\n",
    "\n",
    "def func_eval(model, data_iter, device):\n",
    "\n",
    "    with torch.no_grad():\n",
    "        model.eval()\n",
    "        # torch.no_grad & model.eval(): evaluation mode\n",
    "        # turns off dropout and BN\n",
    "        \n",
    "        n_correct, n_total = 0, 0\n",
    "        \n",
    "        for X, y in data_iter:\n",
    "            \n",
    "            y = y.to(device)\n",
    "            output = model(X.view(-1, 1, 28, 28).to(device))\n",
    "            _, y_pred = torch.max(output, 1)\n",
    "            \n",
    "            n_correct += (y_pred==y).sum().item()\n",
    "            n_total += X.size(0)\n",
    "            \n",
    "        acc = n_correct / n_total\n",
    "        \n",
    "        model.train()\n",
    "        \n",
    "    return acc\n"
   ]
  },
  {
   "cell_type": "code",
   "execution_count": 31,
   "id": "fa78f482",
   "metadata": {},
   "outputs": [
    {
     "name": "stdout",
     "output_type": "stream",
     "text": [
      "0.1207\n",
      "0.122\n"
     ]
    }
   ],
   "source": [
    "C.init_param() # init params\n",
    "\n",
    "train_acc = func_eval(C, train_iter, device)\n",
    "test_acc = func_eval(C, test_iter, device)\n",
    "\n",
    "print(train_acc)\n",
    "print(test_acc)"
   ]
  },
  {
   "cell_type": "code",
   "execution_count": 34,
   "id": "3429a334",
   "metadata": {},
   "outputs": [
    {
     "data": {
      "application/vnd.jupyter.widget-view+json": {
       "model_id": "796c4011907f40b785faedd2953fd1ed",
       "version_major": 2,
       "version_minor": 0
      },
      "text/plain": [
       "  0%|          | 0/235 [00:00<?, ?it/s]"
      ]
     },
     "metadata": {},
     "output_type": "display_data"
    },
    {
     "name": "stdout",
     "output_type": "stream",
     "text": [
      "epoch: 0, loss: 0.5797686576843262\n",
      "train_acc: 0.9509166666666666, test_acc: 0.9528\n"
     ]
    },
    {
     "data": {
      "application/vnd.jupyter.widget-view+json": {
       "model_id": "b5cf5416d1444d4c9fbc106fdadee237",
       "version_major": 2,
       "version_minor": 0
      },
      "text/plain": [
       "  0%|          | 0/235 [00:00<?, ?it/s]"
      ]
     },
     "metadata": {},
     "output_type": "display_data"
    },
    {
     "name": "stdout",
     "output_type": "stream",
     "text": [
      "epoch: 1, loss: 0.18328051269054413\n",
      "train_acc: 0.97165, test_acc: 0.9719\n"
     ]
    },
    {
     "data": {
      "application/vnd.jupyter.widget-view+json": {
       "model_id": "b6b2df6429a241ad906bd3864fbd65ca",
       "version_major": 2,
       "version_minor": 0
      },
      "text/plain": [
       "  0%|          | 0/235 [00:00<?, ?it/s]"
      ]
     },
     "metadata": {},
     "output_type": "display_data"
    },
    {
     "name": "stdout",
     "output_type": "stream",
     "text": [
      "epoch: 2, loss: 0.13692587614059448\n",
      "train_acc: 0.97825, test_acc: 0.9788\n"
     ]
    },
    {
     "data": {
      "application/vnd.jupyter.widget-view+json": {
       "model_id": "079024b3d7c14eeab36e61d6a48bfbb4",
       "version_major": 2,
       "version_minor": 0
      },
      "text/plain": [
       "  0%|          | 0/235 [00:00<?, ?it/s]"
      ]
     },
     "metadata": {},
     "output_type": "display_data"
    },
    {
     "name": "stdout",
     "output_type": "stream",
     "text": [
      "epoch: 3, loss: 0.1117444708943367\n",
      "train_acc: 0.98165, test_acc: 0.9813\n"
     ]
    },
    {
     "data": {
      "application/vnd.jupyter.widget-view+json": {
       "model_id": "a98782ad203447078fb1d2135f5fdb41",
       "version_major": 2,
       "version_minor": 0
      },
      "text/plain": [
       "  0%|          | 0/235 [00:00<?, ?it/s]"
      ]
     },
     "metadata": {},
     "output_type": "display_data"
    },
    {
     "name": "stdout",
     "output_type": "stream",
     "text": [
      "epoch: 4, loss: 0.09953202307224274\n",
      "train_acc: 0.98265, test_acc: 0.9811\n"
     ]
    },
    {
     "data": {
      "application/vnd.jupyter.widget-view+json": {
       "model_id": "bb883a7cd440473b85ca47f8e585f5ee",
       "version_major": 2,
       "version_minor": 0
      },
      "text/plain": [
       "  0%|          | 0/235 [00:00<?, ?it/s]"
      ]
     },
     "metadata": {},
     "output_type": "display_data"
    },
    {
     "name": "stdout",
     "output_type": "stream",
     "text": [
      "epoch: 5, loss: 0.08988141268491745\n",
      "train_acc: 0.9861333333333333, test_acc: 0.9853\n"
     ]
    },
    {
     "data": {
      "application/vnd.jupyter.widget-view+json": {
       "model_id": "d7eeb4c0801146a6a56dc95b5b04c6a5",
       "version_major": 2,
       "version_minor": 0
      },
      "text/plain": [
       "  0%|          | 0/235 [00:00<?, ?it/s]"
      ]
     },
     "metadata": {},
     "output_type": "display_data"
    },
    {
     "name": "stdout",
     "output_type": "stream",
     "text": [
      "epoch: 6, loss: 0.08028259873390198\n",
      "train_acc: 0.9869333333333333, test_acc: 0.9857\n"
     ]
    },
    {
     "data": {
      "application/vnd.jupyter.widget-view+json": {
       "model_id": "07fac0c032a54f06a807c2c7f38e7a8c",
       "version_major": 2,
       "version_minor": 0
      },
      "text/plain": [
       "  0%|          | 0/235 [00:00<?, ?it/s]"
      ]
     },
     "metadata": {},
     "output_type": "display_data"
    },
    {
     "name": "stdout",
     "output_type": "stream",
     "text": [
      "epoch: 7, loss: 0.07437752932310104\n",
      "train_acc: 0.9882166666666666, test_acc: 0.9859\n"
     ]
    },
    {
     "data": {
      "application/vnd.jupyter.widget-view+json": {
       "model_id": "3023dcf6a74b4a599fc97670690653df",
       "version_major": 2,
       "version_minor": 0
      },
      "text/plain": [
       "  0%|          | 0/235 [00:00<?, ?it/s]"
      ]
     },
     "metadata": {},
     "output_type": "display_data"
    },
    {
     "name": "stdout",
     "output_type": "stream",
     "text": [
      "epoch: 8, loss: 0.06986752152442932\n",
      "train_acc: 0.9894833333333334, test_acc: 0.9879\n"
     ]
    },
    {
     "data": {
      "application/vnd.jupyter.widget-view+json": {
       "model_id": "df03d3611d4842bb9d3049c5c1131b85",
       "version_major": 2,
       "version_minor": 0
      },
      "text/plain": [
       "  0%|          | 0/235 [00:00<?, ?it/s]"
      ]
     },
     "metadata": {},
     "output_type": "display_data"
    },
    {
     "name": "stdout",
     "output_type": "stream",
     "text": [
      "epoch: 9, loss: 0.06607001274824142\n",
      "train_acc: 0.9896833333333334, test_acc: 0.9868\n"
     ]
    }
   ],
   "source": [
    "# train\n",
    "\n",
    "C.init_param()\n",
    "C.train()\n",
    "\n",
    "EPOCHS = 10\n",
    "print_every = 1\n",
    "\n",
    "for epoch in range(EPOCHS):\n",
    "    \n",
    "    loss_val_sum = 0\n",
    "    \n",
    "    for X, y in tqdm(train_iter):\n",
    "        \n",
    "        output = C.forward(X.view(-1, 1, 28, 28).to(device))\n",
    "        loss_out = loss(output, y.to(device))\n",
    "        \n",
    "        optm.zero_grad() # reset grad\n",
    "        \n",
    "        loss_out.backward() # backprop\n",
    "        \n",
    "        optm.step() # optimizer update\n",
    "        \n",
    "        loss_val_sum += loss_out\n",
    "        \n",
    "    loss_val_avg = loss_val_sum/len(train_iter)\n",
    "    \n",
    "    if ((epoch%print_every)==0) or (epoch==(EPOCH-1)):\n",
    "        \n",
    "        train_acc = func_eval(C, train_iter, device)\n",
    "        test_acc = func_eval(C, test_iter, device)\n",
    "        \n",
    "        print(f'epoch: {epoch}, loss: {loss_val_avg}')\n",
    "        print(f'train_acc: {train_acc}, test_acc: {test_acc}')\n",
    "    "
   ]
  },
  {
   "cell_type": "code",
   "execution_count": 36,
   "id": "993751e5",
   "metadata": {},
   "outputs": [
    {
     "data": {
      "image/png": "[encoded data removed]",
      "text/plain": [
       "<Figure size 720x720 with 25 Axes>"
      ]
     },
     "metadata": {
      "needs_background": "light"
     },
     "output_type": "display_data"
    }
   ],
   "source": [
    "# test\n",
    "\n",
    "n_samples = 25\n",
    "sample_indices = np.random.choice(len(mnist_test.targets), n_samples, replace=False)\n",
    "\n",
    "test_X = mnist_test.data[sample_indices]\n",
    "test_y = mnist_test.targets[sample_indices]\n",
    "\n",
    "with torch.no_grad():\n",
    "    C.eval()\n",
    "    output = C.forward(test_X.view(-1, 1, 28, 28).type(torch.float).to(device)/255.)\n",
    "    \n",
    "y_pred = output.argmax(axis=1)\n",
    "\n",
    "plt.figure(figsize=(10, 10))\n",
    "for idx in range(n_samples):\n",
    "    plt.subplot(5, 5, idx+1)\n",
    "    plt.imshow(test_X[idx], cmap='gray')\n",
    "    plt.axis('off')\n",
    "    plt.title(f'Pred: {y_pred[idx]}, Lable: {test_y[idx]}')\n",
    "plt.show()"
   ]
  },
  {
   "cell_type": "code",
   "execution_count": null,
   "id": "3f1a38e2",
   "metadata": {},
   "outputs": [],
   "source": []
  }
 ],
 "metadata": {
  "kernelspec": {
   "display_name": "Python 3 (ipykernel)",
   "language": "python",
   "name": "python3"
  },
  "language_info": {
   "codemirror_mode": {
    "name": "ipython",
    "version": 3
   },
   "file_extension": ".py",
   "mimetype": "text/x-python",
   "name": "python",
   "nbconvert_exporter": "python",
   "pygments_lexer": "ipython3",
   "version": "3.8.5"
  }
 },
 "nbformat": 4,
 "nbformat_minor": 5
}
